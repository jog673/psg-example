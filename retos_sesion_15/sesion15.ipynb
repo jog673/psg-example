{
 "cells": [
  {
   "cell_type": "markdown",
   "id": "2c7ebeba",
   "metadata": {},
   "source": [
    "# ERRORES Y EXCEPCIONES\n",
    "# TRY - EXCEPT"
   ]
  },
  {
   "cell_type": "code",
   "execution_count": 1,
   "id": "0f7d1458",
   "metadata": {},
   "outputs": [
    {
     "name": "stdout",
     "output_type": "stream",
     "text": [
      "Inicio Ejemplo 1\n"
     ]
    },
    {
     "ename": "ZeroDivisionError",
     "evalue": "division by zero",
     "output_type": "error",
     "traceback": [
      "\u001b[1;31m---------------------------------------------------------------------------\u001b[0m",
      "\u001b[1;31mZeroDivisionError\u001b[0m                         Traceback (most recent call last)",
      "Cell \u001b[1;32mIn[1], line 2\u001b[0m\n\u001b[0;32m      1\u001b[0m \u001b[38;5;28mprint\u001b[39m (\u001b[38;5;124m\"\u001b[39m\u001b[38;5;124mInicio Ejemplo 1\u001b[39m\u001b[38;5;124m\"\u001b[39m)\n\u001b[1;32m----> 2\u001b[0m x \u001b[38;5;241m=\u001b[39m \u001b[38;5;241;43m1\u001b[39;49m\u001b[43m \u001b[49m\u001b[38;5;241;43m/\u001b[39;49m\u001b[43m \u001b[49m\u001b[38;5;241;43m0\u001b[39;49m\n\u001b[0;32m      3\u001b[0m \u001b[38;5;28mprint\u001b[39m (x)\n\u001b[0;32m      4\u001b[0m \u001b[38;5;28mprint\u001b[39m (\u001b[38;5;124m\"\u001b[39m\u001b[38;5;124mFin Ejemplo 1\u001b[39m\u001b[38;5;124m\"\u001b[39m)\n",
      "\u001b[1;31mZeroDivisionError\u001b[0m: division by zero"
     ]
    }
   ],
   "source": [
    "print (\"Inicio Ejemplo 1\")\n",
    "x = 1 / 0\n",
    "print (x)\n",
    "print (\"Fin Ejemplo 1\")"
   ]
  },
  {
   "cell_type": "code",
   "execution_count": 2,
   "id": "0338899f",
   "metadata": {},
   "outputs": [
    {
     "name": "stdout",
     "output_type": "stream",
     "text": [
      "Inicio Ejemplo 1\n",
      "💀 Error: division by zero <class 'ZeroDivisionError'>\n",
      "Fin Ejemplo 1\n"
     ]
    }
   ],
   "source": [
    "print (\"Inicio Ejemplo 1\")\n",
    "try:\n",
    "    x = 1 / 0\n",
    "    print (x)\n",
    "except Exception as e:\n",
    "    print(\"💀 Error:\", e, type(e))\n",
    "print (\"Fin Ejemplo 1\")"
   ]
  },
  {
   "cell_type": "markdown",
   "id": "2dba53c0",
   "metadata": {},
   "source": [
    "**Ejercicio 1**, Crear un programa que solicite dos números y realice la división de ambos números Si hay un error mostrar un mensaje de error El programa se detiene si se ingresa \"salir\""
   ]
  },
  {
   "cell_type": "code",
   "execution_count": null,
   "id": "a5f440d3",
   "metadata": {},
   "outputs": [],
   "source": [
    "while True:\n",
    "    try:\n",
    "        num1 = input(\"Ingrese el primer número: \")\n",
    "        if num1 == \"salir\":\n",
    "            break\n",
    "        num2 = input(\"Ingrese el segundo número: \")\n",
    "        if num2 == \"salir\":\n",
    "            break\n",
    "        num1 = float(num1)\n",
    "        num2 = float(num2)\n",
    "        print(\"Resultado:\", num1 / num2)\n",
    "    except Exception as e:\n",
    "        print(\"💀 Error:\", e)"
   ]
  },
  {
   "cell_type": "markdown",
   "id": "9cf499ce",
   "metadata": {},
   "source": [
    "## TIPOS DE EXCEPCIONES\n",
    "\n",
    "**ZeroDivisionError***\n",
    "**NameError**\n",
    "**TypeError**\n",
    "**ValueError**\n",
    "**KeyError**\n",
    "**IndexError**"
   ]
  },
  {
   "cell_type": "markdown",
   "id": "f3f794fd",
   "metadata": {},
   "source": [
    "**Ejemplo 2** División por cero"
   ]
  },
  {
   "cell_type": "code",
   "execution_count": 3,
   "id": "ed631811",
   "metadata": {},
   "outputs": [
    {
     "name": "stdout",
     "output_type": "stream",
     "text": [
      "Inicio Ejemplo 2\n",
      "0️⃣ Error: division by zero <class 'ZeroDivisionError'>\n",
      "Fin Ejemplo 2\n"
     ]
    }
   ],
   "source": [
    "print (\"Inicio Ejemplo 2\")\n",
    "divisor = 0\n",
    "try:\n",
    "    x = 1 / divisor\n",
    "    print (x)\n",
    "except ZeroDivisionError as e:\n",
    "    print(\"0️⃣ Error:\", e, type(e))\n",
    "except Exception as e:\n",
    "    print(\"💀 Error:\", e, type(e))\n",
    "print (\"Fin Ejemplo 2\")"
   ]
  },
  {
   "cell_type": "markdown",
   "id": "daf7e891",
   "metadata": {},
   "source": [
    "*Jerarquía de excepciones*\n",
    "**Ejemplo 2**, División por cero"
   ]
  },
  {
   "cell_type": "code",
   "execution_count": 4,
   "id": "d9c642da",
   "metadata": {},
   "outputs": [
    {
     "name": "stdout",
     "output_type": "stream",
     "text": [
      "Inicio Ejemplo 2\n",
      "💀 Error: division by zero <class 'ZeroDivisionError'>\n",
      "Fin Ejemplo 2\n"
     ]
    }
   ],
   "source": [
    "print (\"Inicio Ejemplo 2\")\n",
    "divisor = 0\n",
    "try:\n",
    "    x = 1 / divisor\n",
    "    print (x)\n",
    "except Exception as e: # Captura cualquier excepción\n",
    "    print(\"💀 Error:\", e, type(e))\n",
    "except ZeroDivisionError as e:\n",
    "    print(\"0️⃣ Error:\", e, type(e))\n",
    "print (\"Fin Ejemplo 2\")"
   ]
  },
  {
   "cell_type": "markdown",
   "id": "b3a30e85",
   "metadata": {},
   "source": [
    "**Ejemplo 3**, De la lista de calificaciones obtener el promedio"
   ]
  },
  {
   "cell_type": "code",
   "execution_count": 5,
   "id": "d8c481eb",
   "metadata": {},
   "outputs": [
    {
     "name": "stdout",
     "output_type": "stream",
     "text": [
      "Promedio: 46.666666666666664\n"
     ]
    }
   ],
   "source": [
    "calificaciones = [20,40,80]\n",
    "suma = 0\n",
    "try:\n",
    "    for i in range(len(calificaciones)):\n",
    "        suma += calificaciones[i] # suma = suma + calificaciones[i]\n",
    "    promedio = suma / len(calificaciones)\n",
    "    print(\"Promedio:\", promedio)\n",
    "except ZeroDivisionError as e:\n",
    "    print(\"0️⃣ Error:\", e, type(e))\n",
    "except TypeError as e:\n",
    "    print(\"🎭 Error:\", e, type(e))\n",
    "except Exception as e:\n",
    "    print(\"💀 Error:\", e, type(e))"
   ]
  },
  {
   "cell_type": "markdown",
   "id": "3c463104",
   "metadata": {},
   "source": [
    "## BLOQUE else\n",
    "Se puede agregar un bloque else que se ejecute si no se produce ninguna excepción\n",
    "Se debe poner después de todos los bloques except"
   ]
  },
  {
   "cell_type": "markdown",
   "id": "e70d2b55",
   "metadata": {},
   "source": [
    "**Ejemplo 4**, De la lista de calificaciones obtener el promedio"
   ]
  },
  {
   "cell_type": "code",
   "execution_count": 6,
   "id": "df225f76",
   "metadata": {},
   "outputs": [
    {
     "name": "stdout",
     "output_type": "stream",
     "text": [
      "Inicio Ejemplo 4\n",
      "Promedio: 46.666666666666664\n",
      "🎉 Sin errores\n",
      "Fin Ejemplo 4\n"
     ]
    }
   ],
   "source": [
    "print (\"Inicio Ejemplo 4\")\n",
    "calificaciones = [20,40,80]\n",
    "suma = 0\n",
    "try:\n",
    "    for i in range(len(calificaciones)):\n",
    "        suma += calificaciones[i]\n",
    "    promedio = suma / len(calificaciones)\n",
    "    print(\"Promedio:\", promedio)\n",
    "except Exception as e:\n",
    "    print(\"💀 Error:\", e, type(e))\n",
    "else:\n",
    "    print (\"🎉 Sin errores\")\n",
    "print (\"Fin Ejemplo 4\")"
   ]
  },
  {
   "cell_type": "markdown",
   "id": "73fd0315",
   "metadata": {},
   "source": [
    "**Ejercicio 2**, Crear un programa que solicite dos números y mediante una función devuelva la división de ambos\n",
    "Si hay un error mostrar un mensaje de error. El programa se detiene si se ingresa \"salir\"\n",
    "Añadir un bloque else que muestre el resultado de la función"
   ]
  },
  {
   "cell_type": "code",
   "execution_count": null,
   "id": "6d608de6",
   "metadata": {},
   "outputs": [],
   "source": [
    "def division(num1, num2):\n",
    "    return num1 / num2\n",
    "\n",
    "while True:\n",
    "    try:\n",
    "        num1 = input(\"Ingrese el primer número: \")\n",
    "        if num1 == \"salir\":\n",
    "            break\n",
    "        num2 = input(\"Ingrese el segundo número: \")\n",
    "        if num2 == \"salir\":\n",
    "            break\n",
    "        num1 = float(num1)\n",
    "        num2 = float(num2)\n",
    "        resultado = division(num1, num2))\n",
    "    except Exception as e:\n",
    "        print(\"💀 Error:\", e)\n",
    "    else:\n",
    "        print(\"🎉 Resultado: \",resultado)"
   ]
  },
  {
   "cell_type": "markdown",
   "id": "8fa9cdb0",
   "metadata": {},
   "source": [
    "## BLOQUE finally\n",
    "Se puede agregar un bloque finally que se ejecuta siempre, independientemente de si se produce una excepción\n",
    "Se debe poner después de todos los bloques except y else"
   ]
  },
  {
   "cell_type": "markdown",
   "id": "66915ae3",
   "metadata": {},
   "source": [
    "**Ejemplo 5**, Simula una conexión a internet que haga ping y cerrar la conexión"
   ]
  },
  {
   "cell_type": "code",
   "execution_count": 7,
   "id": "d72cf0dd",
   "metadata": {},
   "outputs": [
    {
     "name": "stdout",
     "output_type": "stream",
     "text": [
      "Inicio Ejemplo 5\n",
      "🔗 Ping...\n",
      "🎉 Ping Exitoso\n",
      "🔌 Cerrando conexión\n"
     ]
    }
   ],
   "source": [
    "print (\"Inicio Ejemplo 5\")\n",
    "try:\n",
    "    print(\"🔗 Ping...\")\n",
    "except Exception as e:\n",
    "    print(\"💀 Error:\", e)\n",
    "else:\n",
    "    print(\"🎉 Ping Exitoso\")\n",
    "finally:\n",
    "    print(\"🔌 Cerrando conexión\")\n"
   ]
  },
  {
   "cell_type": "markdown",
   "id": "1ac0f219",
   "metadata": {},
   "source": [
    "## RAISE\n",
    "*raise* se utiliza para generar una excepción.\n",
    "Se puede generar una excepción específica o una excepción genérica."
   ]
  },
  {
   "cell_type": "markdown",
   "id": "24c967b1",
   "metadata": {},
   "source": [
    "**Ejemplo 6**Simula una conexión a internet que haga ping y cerrar la conexión"
   ]
  },
  {
   "cell_type": "code",
   "execution_count": 8,
   "id": "b81a55d7",
   "metadata": {},
   "outputs": [
    {
     "name": "stdout",
     "output_type": "stream",
     "text": [
      "Inicio Ejemplo 6\n",
      "🔗 Ping...\n",
      "💀 Error: Error de conexión\n",
      "🔌 Cerrando conexión\n"
     ]
    }
   ],
   "source": [
    "print (\"Inicio Ejemplo 6\")\n",
    "try:\n",
    "    print(\"🔗 Ping...\")\n",
    "    raise Exception(\"Error de conexión\") #Excepción genérica\n",
    "except Exception as e: # Captura cualquier excepción\n",
    "    print(\"💀 Error:\", e)\n",
    "else:\n",
    "    print(\"🎉 Ping Exitoso\")\n",
    "finally:\n",
    "    print(\"🔌 Cerrando conexión\")"
   ]
  },
  {
   "cell_type": "markdown",
   "id": "e6021094",
   "metadata": {},
   "source": [
    "**Ejemplo 3**, Escriba un programa que solicite un número por teclado y se almacene en una lista\n",
    "Si es 0 se genera una excepción\n",
    "Si la ejecución es correcta muestra \"🎉Agregado\"\n",
    "Termina la ejecución sólo con la palabra \"salir\" utilizar la excepción KeyboardInterrupt\n",
    "Finalmente imprima siempre la suma de los números y la lista"
   ]
  },
  {
   "cell_type": "code",
   "execution_count": null,
   "id": "6825111d",
   "metadata": {},
   "outputs": [],
   "source": [
    "numeros = []\n",
    "while True:\n",
    "    try:\n",
    "        num = input(\"Ingrese un número: \")\n",
    "        if num == \"salir\":\n",
    "            break\n",
    "        num = float(num)\n",
    "        if num == 0:\n",
    "            raise Exception(\"No se puede agregar el número 0\")\n",
    "        numeros.append(num)\n",
    "    except KeyboardInterrupt as e:\n",
    "        print('🚫 Para salir escriba \"salir\"')\n",
    "    except Exception as e:\n",
    "        print(\"💀 Error:\", e)\n",
    "    else:\n",
    "        print(\"🎉 Número agregado\")\n",
    "    finally:\n",
    "        print(\"Suma:\", sum(numeros))"
   ]
  },
  {
   "cell_type": "markdown",
   "id": "7bca08c5",
   "metadata": {},
   "source": [
    "## PASS\n",
    "pass es una palabra reservada de Python que no hace nada, se utiliza para evitar errrores de sintaxis, se puede utilizar para evitar errores de indentación"
   ]
  },
  {
   "cell_type": "markdown",
   "id": "f9af369b",
   "metadata": {},
   "source": [
    "**Ejemplo 7**, Crea una función que no hace nada"
   ]
  },
  {
   "cell_type": "code",
   "execution_count": null,
   "id": "2c4140c5",
   "metadata": {},
   "outputs": [],
   "source": [
    "print(\"Inicio Ejemplo 7\")\n",
    "def funcion():\n",
    "    pass\n",
    "\n",
    "funcion()\n",
    "print(\"Fin Ejemplo 7\")"
   ]
  },
  {
   "cell_type": "markdown",
   "id": "39655a7c",
   "metadata": {},
   "source": [
    "## EXCEPCIONES PERSONALIZADAS\n",
    "Se puede crear excepciones personalizadas. Nos permite crear excepciones específicas para nuestro programa."
   ]
  },
  {
   "cell_type": "markdown",
   "id": "71d981e8",
   "metadata": {},
   "source": [
    "**Ejemplo 8**, Tienes un frutero, saca las frutas mientras no sea un gusano y genera una excepción"
   ]
  },
  {
   "cell_type": "code",
   "execution_count": null,
   "id": "19f52ad4",
   "metadata": {},
   "outputs": [],
   "source": [
    "print(\"Inicio Ejemplo 8\")\n",
    "class GusanoError(Exception):\n",
    "    pass\n",
    " \n",
    "frutero = ['🍎', '🍌', '🍐', '🐛', '🍇']\n",
    "for fruta in frutero:\n",
    "    try:\n",
    "        if fruta == '🐛':\n",
    "            raise GusanoError(\"😱 Ewww!\")\n",
    "        print(fruta)\n",
    "    except GusanoError as e:\n",
    "        print(\"🐛 Error:\", e)\n",
    "    except Exception as e:\n",
    "        print(\"💀 Error:\", e)\n",
    "print(\"Fin Ejemplo 8\")"
   ]
  },
  {
   "cell_type": "markdown",
   "id": "534bb5e9",
   "metadata": {},
   "source": [
    "**Ejercicio 4**, \n",
    "Crear un programa que solicite palabras por teclado y almacene en una lista\n",
    "Si se inserta caracteres no alfabéticos se genera una excepción personalizada y no se almacena\n",
    "Si se ingresa \"salir\" se termina la ejecución\n",
    "Mostrar el mensaje \"🎉 Palabra agregada\" si no hay errores\n",
    "Finalmente imprimir la lista de palabras"
   ]
  },
  {
   "cell_type": "code",
   "execution_count": null,
   "id": "e5d0670e",
   "metadata": {},
   "outputs": [],
   "source": [
    "class NoAlfabeticoError(Exception):\n",
    "    pass\n",
    "\n",
    "palabras = []\n",
    "while True:\n",
    "    try:\n",
    "        palabra = input(\"Ingrese una palabra: \")\n",
    "        if palabra == \"salir\":\n",
    "            break\n",
    "        if not palabra.isalpha():\n",
    "            raise NoAlfabeticoError(\"Solo se permiten letras\")\n",
    "        palabras.append(palabra)\n",
    "    except NoAlfabeticoError as e:\n",
    "        print(\"🚫 Error:\", e)\n",
    "    except Exception as e:\n",
    "        print(\"💀 Error:\", e)\n",
    "    else:\n",
    "        print(\"🎉 Palabra agregada\")\n",
    "    finally:\n",
    "        print(\"Lista:\", palabras)"
   ]
  }
 ],
 "metadata": {
  "kernelspec": {
   "display_name": "Python 3",
   "language": "python",
   "name": "python3"
  },
  "language_info": {
   "codemirror_mode": {
    "name": "ipython",
    "version": 3
   },
   "file_extension": ".py",
   "mimetype": "text/x-python",
   "name": "python",
   "nbconvert_exporter": "python",
   "pygments_lexer": "ipython3",
   "version": "3.10.4"
  }
 },
 "nbformat": 4,
 "nbformat_minor": 5
}
