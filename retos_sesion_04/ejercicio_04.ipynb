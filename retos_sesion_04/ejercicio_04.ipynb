{
 "cells": [
  {
   "cell_type": "markdown",
   "id": "bcf5a4be",
   "metadata": {},
   "source": [
    "# CAZADORES DE TESOROS\n",
    "**Descripción**\n",
    "-Dos jugadores compiten por encontrar un tesoro escondido en un tablero lleno de trampas y rocas."
   ]
  },
  {
   "cell_type": "markdown",
   "id": "d445fa67",
   "metadata": {},
   "source": [
    "## REGLAS\n",
    "Los movimientos en tu turno es adelante, atras, izquierda, derecha\n",
    "**trampas:** si caes en una, pierdes un turno\n",
    "**rocas:** bloquean el paso\n",
    "**Tesoro:** llegalo para ganar\n",
    "**Casilla normal:** avanzas normal"
   ]
  },
  {
   "cell_type": "code",
   "execution_count": null,
   "id": "b7db9ab3",
   "metadata": {},
   "outputs": [
    {
     "name": "stdout",
     "output_type": "stream",
     "text": [
      "  1     2     3     4\n",
      "A $    .      X     **\n",
      "B .    X     **     .\n",
      "C X    .     $      **\n",
      "D .    **    X      .\n"
     ]
    }
   ],
   "source": [
    "print(\"  1     2     3     4\")\n",
    "print(\"A X    .      X     **\")\n",
    "print(\"B .    X     **     .\")\n",
    "print(\"C X    .     $      **\")\n",
    "print(\"D .    **    X      .\")"
   ]
  },
  {
   "cell_type": "markdown",
   "id": "c2bb530f",
   "metadata": {},
   "source": [
    "**PIEZAS**\n",
    "\n",
    "*trampas*:Las trampas estarán representadas por \"(x)\"\n",
    "*rocas*:Las rocas estarán representadas por \"(**)\"\n",
    "*Tesoro*: Los tesoros estarán representadas por \"($)\"\n",
    "*Casilla normal*:Las casillas normales estarán representadas por \"(.)\""
   ]
  },
  {
   "cell_type": "code",
   "execution_count": 7,
   "id": "113b7c68",
   "metadata": {},
   "outputs": [
    {
     "name": "stdout",
     "output_type": "stream",
     "text": [
      "trampa: (.xx.)\n",
      "roca: _**_ \n",
      "tesoro: [$|$]\n",
      "Casillo normal: _._._\n"
     ]
    }
   ],
   "source": [
    "print(\"trampa: (.xx.)\")\n",
    "print(\"roca: _**_ \")\n",
    "print(\"tesoro: [$|$]\")\n",
    "print(\"Casillo normal: _._._\")"
   ]
  }
 ],
 "metadata": {
  "kernelspec": {
   "display_name": "Python 3",
   "language": "python",
   "name": "python3"
  },
  "language_info": {
   "codemirror_mode": {
    "name": "ipython",
    "version": 3
   },
   "file_extension": ".py",
   "mimetype": "text/x-python",
   "name": "python",
   "nbconvert_exporter": "python",
   "pygments_lexer": "ipython3",
   "version": "3.10.4"
  }
 },
 "nbformat": 4,
 "nbformat_minor": 5
}
