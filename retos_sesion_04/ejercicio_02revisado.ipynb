{
 "cells": [
  {
   "cell_type": "markdown",
   "id": "b109935c",
   "metadata": {},
   "source": [
    "# texto markdown\n",
    "          ((     ))\n",
    "          = \\    /  =\n",
    "          ( o | o )\n",
    "             ___\n"
   ]
  }
 ],
 "metadata": {
  "language_info": {
   "name": "python"
  }
 },
 "nbformat": 4,
 "nbformat_minor": 5
}
