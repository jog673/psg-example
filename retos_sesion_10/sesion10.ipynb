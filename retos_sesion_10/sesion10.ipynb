{
 "cells": [
  {
   "cell_type": "markdown",
   "id": "66536c58",
   "metadata": {},
   "source": [
    "### CONJUNTOS"
   ]
  },
  {
   "cell_type": "markdown",
   "id": "60be97e2",
   "metadata": {},
   "source": [
    "Se llaman conjuntos porque en matemáticas un conjunto es una colección de elementos únicos sin orden definido"
   ]
  },
  {
   "cell_type": "markdown",
   "id": "e0796f65",
   "metadata": {},
   "source": [
    "**Mutable**"
   ]
  },
  {
   "cell_type": "code",
   "execution_count": 5,
   "id": "39ac5006",
   "metadata": {},
   "outputs": [
    {
     "name": "stdout",
     "output_type": "stream",
     "text": [
      "{'🍕', '🍔', '🌭', '🍟'}\n",
      "{'🍟', '🌭', '🥗', '🍕', '🍔'}\n"
     ]
    }
   ],
   "source": [
    "conjunto = {'🍕','🍔','🍟','🌭'}\n",
    "print(conjunto) # {'🍔', '🌭', '🍕', '🍟'}\n",
    "conjunto.add('🥗')\n",
    "print(conjunto)  # {'🍔', '🍕', '🥗', '🍟', '🌭'}\n"
   ]
  },
  {
   "cell_type": "markdown",
   "id": "eba04003",
   "metadata": {},
   "source": [
    "**No ordenados**"
   ]
  },
  {
   "cell_type": "code",
   "execution_count": 13,
   "id": "4e064189",
   "metadata": {},
   "outputs": [
    {
     "name": "stdout",
     "output_type": "stream",
     "text": [
      "{'🍕', '🍔', '🌭', '🍟'}\n"
     ]
    }
   ],
   "source": [
    "conjunto = {'🍕','🍔','🍟','🌭'}\n",
    "print(conjunto) # {'🍔', '🌭', '🍕', '🍟'}"
   ]
  },
  {
   "cell_type": "markdown",
   "id": "12dee8c0",
   "metadata": {},
   "source": [
    "**No indexados**"
   ]
  },
  {
   "cell_type": "code",
   "execution_count": 15,
   "id": "31202990",
   "metadata": {},
   "outputs": [
    {
     "ename": "TypeError",
     "evalue": "'set' object is not subscriptable",
     "output_type": "error",
     "traceback": [
      "\u001b[1;31m---------------------------------------------------------------------------\u001b[0m",
      "\u001b[1;31mTypeError\u001b[0m                                 Traceback (most recent call last)",
      "Cell \u001b[1;32mIn[15], line 2\u001b[0m\n\u001b[0;32m      1\u001b[0m conjunto \u001b[38;5;241m=\u001b[39m {\u001b[38;5;124m'\u001b[39m\u001b[38;5;124m🍕\u001b[39m\u001b[38;5;124m'\u001b[39m,\u001b[38;5;124m'\u001b[39m\u001b[38;5;124m🍔\u001b[39m\u001b[38;5;124m'\u001b[39m,\u001b[38;5;124m'\u001b[39m\u001b[38;5;124m🍟\u001b[39m\u001b[38;5;124m'\u001b[39m,\u001b[38;5;124m'\u001b[39m\u001b[38;5;124m🌭\u001b[39m\u001b[38;5;124m'\u001b[39m}\n\u001b[1;32m----> 2\u001b[0m \u001b[38;5;28mprint\u001b[39m(\u001b[43mconjunto\u001b[49m\u001b[43m[\u001b[49m\u001b[38;5;241;43m0\u001b[39;49m\u001b[43m]\u001b[49m) \u001b[38;5;66;03m# TypeError: 'set' object is not subscriptable\u001b[39;00m\n",
      "\u001b[1;31mTypeError\u001b[0m: 'set' object is not subscriptable"
     ]
    }
   ],
   "source": [
    "conjunto = {'🍕','🍔','🍟','🌭'}\n",
    "print(conjunto[0]) # TypeError: 'set' object is not subscriptable"
   ]
  },
  {
   "cell_type": "markdown",
   "id": "51951dd5",
   "metadata": {},
   "source": [
    "**No duplicados**"
   ]
  },
  {
   "cell_type": "code",
   "execution_count": 16,
   "id": "429f379a",
   "metadata": {},
   "outputs": [
    {
     "name": "stdout",
     "output_type": "stream",
     "text": [
      "{'🍕', '🍔', '🌭', '🍟'}\n"
     ]
    }
   ],
   "source": [
    "conjunto = {'🍕','🍔','🍟','🌭','🍕','🍟'}\n",
    "print(conjunto) # {'🍕', '🍟', '🌭', '🍔'}"
   ]
  },
  {
   "cell_type": "markdown",
   "id": "080eedd5",
   "metadata": {},
   "source": [
    "### Conjunto de enteros"
   ]
  },
  {
   "cell_type": "code",
   "execution_count": 17,
   "id": "7dd828f6",
   "metadata": {},
   "outputs": [
    {
     "name": "stdout",
     "output_type": "stream",
     "text": [
      "Conjunto de enteros\n",
      "{1, 2, 3, 4, 5}\n",
      "<class 'set'>\n"
     ]
    }
   ],
   "source": [
    "print (\"Conjunto de enteros\")\n",
    "conjunto = {1, 2, 3, 4, 5}\n",
    "print(conjunto) \n",
    "print(type(conjunto))"
   ]
  },
  {
   "cell_type": "markdown",
   "id": "f0798390",
   "metadata": {},
   "source": [
    "### Conjunto de cadenas"
   ]
  },
  {
   "cell_type": "code",
   "execution_count": 18,
   "id": "ad70e244",
   "metadata": {},
   "outputs": [
    {
     "name": "stdout",
     "output_type": "stream",
     "text": [
      "Conjunto de cadenas\n",
      "{'🍕', '🍔', '🌭', '🍟'}\n",
      "<class 'set'>\n"
     ]
    }
   ],
   "source": [
    "print (\"Conjunto de cadenas\")\n",
    "conjunto = {'🍕','🍔','🍟','🌭'}\n",
    "print(conjunto)\n",
    "print(type(conjunto))"
   ]
  },
  {
   "cell_type": "markdown",
   "id": "e53cb962",
   "metadata": {},
   "source": [
    "### Conjunto de mixto"
   ]
  },
  {
   "cell_type": "code",
   "execution_count": null,
   "id": "9c27ff04",
   "metadata": {},
   "outputs": [],
   "source": [
    "print (\"Conjunto mixto\")\n",
    "conjunto = {1, True, 3.14, '☕'}\n",
    "print(conjunto)\n",
    "print(type(conjunto))"
   ]
  },
  {
   "cell_type": "markdown",
   "id": "09359cad",
   "metadata": {},
   "source": [
    "### Conjunto Vacio"
   ]
  },
  {
   "cell_type": "code",
   "execution_count": 19,
   "id": "8f7120e0",
   "metadata": {},
   "outputs": [
    {
     "name": "stdout",
     "output_type": "stream",
     "text": [
      "Conjunto vacío\n",
      "set()\n",
      "<class 'set'>\n"
     ]
    }
   ],
   "source": [
    "print (\"Conjunto vacío\")\n",
    "conjunto = set()\n",
    "print(conjunto)\n",
    "print(type(conjunto))"
   ]
  },
  {
   "cell_type": "markdown",
   "id": "934621a4",
   "metadata": {},
   "source": [
    "**Conjunto a partir de una cadena**"
   ]
  },
  {
   "cell_type": "code",
   "execution_count": 22,
   "id": "1e61cbe9",
   "metadata": {},
   "outputs": [
    {
     "name": "stdout",
     "output_type": "stream",
     "text": [
      "Conjunto a partir de la cadena\n",
      "{'n', 'o', ' ', 'l', 'u', 'd', 'M', 'H', 'a'}\n",
      "<class 'set'>\n"
     ]
    }
   ],
   "source": [
    "print (\"Conjunto a partir de la cadena\")\n",
    "cadena = 'Hola Mundo'\n",
    "conjunto = set(cadena)\n",
    "print(conjunto)\n",
    "print(type(conjunto))"
   ]
  },
  {
   "cell_type": "markdown",
   "id": "f5f11bf3",
   "metadata": {},
   "source": [
    "*** Conjunto a partir de una tupla ***"
   ]
  },
  {
   "cell_type": "code",
   "execution_count": 23,
   "id": "bb7745bc",
   "metadata": {},
   "outputs": [
    {
     "name": "stdout",
     "output_type": "stream",
     "text": [
      "Conjunto a partir de una tupla\n",
      "{1, 2, 3, 4, 5}\n",
      "<class 'set'>\n"
     ]
    }
   ],
   "source": [
    "print (\"Conjunto a partir de una tupla\")\n",
    "tupla = (1, 2, 3, 4, 5, 5)\n",
    "conjunto = set(tupla)\n",
    "print(conjunto)\n",
    "print(type(conjunto))"
   ]
  },
  {
   "cell_type": "markdown",
   "id": "3c446737",
   "metadata": {},
   "source": [
    "*** Conjunto a partir de una lista ***"
   ]
  },
  {
   "cell_type": "code",
   "execution_count": 24,
   "id": "dcf70f85",
   "metadata": {},
   "outputs": [
    {
     "name": "stdout",
     "output_type": "stream",
     "text": [
      "Conjunto a partir de una lista\n",
      "{False, True}\n",
      "<class 'set'>\n"
     ]
    }
   ],
   "source": [
    "print (\"Conjunto a partir de una lista\")\n",
    "lista = [True, False, 0, 1]\n",
    "conjunto = set(lista)\n",
    "print(conjunto)\n",
    "print(type(conjunto))"
   ]
  },
  {
   "cell_type": "markdown",
   "id": "aa2fa7f7",
   "metadata": {},
   "source": [
    "*** Conjunto por comprensión ***"
   ]
  },
  {
   "cell_type": "code",
   "execution_count": 25,
   "id": "783049e3",
   "metadata": {},
   "outputs": [
    {
     "name": "stdout",
     "output_type": "stream",
     "text": [
      "Conjunto por comprensión\n",
      "{'🍕', '🍔', '🍟'}\n",
      "<class 'set'>\n"
     ]
    }
   ],
   "source": [
    "print (\"Conjunto por comprensión\")\n",
    "conjunto = {x for x in '🍕🍔🍟🍕🍔🍟🍔🍟'}\n",
    "print(conjunto)\n",
    "print(type(conjunto))"
   ]
  },
  {
   "cell_type": "markdown",
   "id": "7e06f87d",
   "metadata": {},
   "source": [
    "## Indexación y Slicing"
   ]
  },
  {
   "cell_type": "code",
   "execution_count": null,
   "id": "ac75e30e",
   "metadata": {},
   "outputs": [],
   "source": [
    "conjunto = {1, 2, 3, 4, 5}\n",
    "print(conjunto[0]) # TypeError: 'set' object is not subscriptable"
   ]
  },
  {
   "cell_type": "code",
   "execution_count": null,
   "id": "d6a0b3d9",
   "metadata": {},
   "outputs": [],
   "source": [
    "conjunto = {1, 2, 3, 4, 5}\n",
    "print(conjunto[0:3]) # TypeError: 'set' object is not subscriptable"
   ]
  },
  {
   "cell_type": "markdown",
   "id": "25a6812d",
   "metadata": {},
   "source": [
    "## Concatenación de conjuntos"
   ]
  },
  {
   "cell_type": "code",
   "execution_count": null,
   "id": "24bb250b",
   "metadata": {},
   "outputs": [],
   "source": [
    "conjunto1 = {1, 2, 3}\n",
    "conjunto2 = {4, 5, 6}\n",
    "print(conjunto1 + conjunto2)\n",
    "# TypeError: unsupported operand type(s) for +: 'set' and 'set'"
   ]
  },
  {
   "cell_type": "markdown",
   "id": "2390cf92",
   "metadata": {},
   "source": [
    "## Repitición con conjuntos"
   ]
  },
  {
   "cell_type": "code",
   "execution_count": null,
   "id": "717d8795",
   "metadata": {},
   "outputs": [],
   "source": [
    "conjunto = {1, 2, 3}\n",
    "print(conjunto * 3)\n",
    "# TypeError: unsupported operand type(s) for *: 'set' and 'int'"
   ]
  },
  {
   "cell_type": "markdown",
   "id": "421fd780",
   "metadata": {},
   "source": [
    "## METODOS DE LOS CONJUNTOS"
   ]
  },
  {
   "cell_type": "markdown",
   "id": "4a506843",
   "metadata": {},
   "source": [
    "### METODOS DE ADICION"
   ]
  },
  {
   "cell_type": "code",
   "execution_count": 26,
   "id": "625616fb",
   "metadata": {},
   "outputs": [
    {
     "name": "stdout",
     "output_type": "stream",
     "text": [
      "Método add()\n",
      "{'🍕', '🍔', '🌭', '🍟'}\n",
      "{'🍟', '🌭', '🥗', '🍕', '🍔'}\n"
     ]
    }
   ],
   "source": [
    "print (\"Método add()\")\n",
    "conjunto = {'🍕','🍔','🍟','🌭'}\n",
    "print (conjunto)\n",
    "conjunto.add('🥗')\n",
    "print(conjunto)"
   ]
  },
  {
   "cell_type": "markdown",
   "id": "9882e2b8",
   "metadata": {},
   "source": [
    "### METODO UPDATE\n",
    "Recibe una secuencia de valores y los agrega al conjunto si no existen"
   ]
  },
  {
   "cell_type": "code",
   "execution_count": 27,
   "id": "301d1604",
   "metadata": {},
   "outputs": [
    {
     "name": "stdout",
     "output_type": "stream",
     "text": [
      "Método update()\n",
      "{'🍕', '🍔', '🌭', '🍟'}\n",
      "{'🍟', '🥤', '🌭', '🍕', '🍦', '🍔'}\n",
      "{'🍩', '🍟', '🥤', '🌭', '🍪', '🍕', '🍦', '🍔'}\n",
      "{'🍩', '🍟', '🍬', '🥤', '🌭', '🍫', '🍪', '🍕', '🍦', '🍔'}\n",
      "{'🍭', '🍩', '🍟', '🍬', '🥤', '🌭', '🍫', '🍮', '🍪', '🍕', '🍦', '🍔'}\n"
     ]
    }
   ],
   "source": [
    "print (\"Método update()\")\n",
    "conjunto = {'🍕','🍔','🍟','🌭'}\n",
    "print (conjunto)\n",
    "conjunto.update(['🥤','🍦'])\n",
    "print(conjunto) \n",
    "conjunto.update('🍩🍪')\n",
    "print(conjunto) \n",
    "conjunto.update(('🍫','🍬'))\n",
    "print(conjunto)\n",
    "conjunto.update({'🍭','🍮'})\n",
    "print(conjunto)"
   ]
  },
  {
   "cell_type": "markdown",
   "id": "8796314e",
   "metadata": {},
   "source": [
    "### METODOS DE ELIMINACION"
   ]
  },
  {
   "cell_type": "markdown",
   "id": "37da885c",
   "metadata": {},
   "source": [
    "**REMOVE** Elimina"
   ]
  },
  {
   "cell_type": "code",
   "execution_count": 28,
   "id": "4c739a45",
   "metadata": {},
   "outputs": [
    {
     "name": "stdout",
     "output_type": "stream",
     "text": [
      "Método remove()\n",
      "{'🍕', '🍔', '🌭', '🍟'}\n",
      "{'🍕', '🌭', '🍟'}\n"
     ]
    }
   ],
   "source": [
    "print (\"Método remove()\")\n",
    "conjunto = {'🍕','🍔','🍟','🌭'} \n",
    "print (conjunto)\n",
    "conjunto.remove('🍔')\n",
    "print(conjunto)\n",
    "# conjunto.remove('🍔')\n",
    "# print(conjunto)\n",
    "# Key Error: '🍔'"
   ]
  },
  {
   "cell_type": "markdown",
   "id": "934af236",
   "metadata": {},
   "source": [
    "discard(valor) recibe un valor y lo elimina del conjunto si existe, si no existe no lanza un error\n"
   ]
  },
  {
   "cell_type": "code",
   "execution_count": 29,
   "id": "6336a715",
   "metadata": {},
   "outputs": [
    {
     "name": "stdout",
     "output_type": "stream",
     "text": [
      "Método discard()\n",
      "{'🍕', '🍔', '🌭', '🍟'}\n",
      "{'🍕', '🌭', '🍟'}\n",
      "{'🍕', '🌭', '🍟'}\n"
     ]
    }
   ],
   "source": [
    "print (\"Método discard()\")\n",
    "conjunto = {'🍕','🍔','🍟','🌭'}\n",
    "print (conjunto)\n",
    "conjunto.discard('🍔')\n",
    "print(conjunto)\n",
    "conjunto.discard('🍔')\n",
    "print(conjunto)"
   ]
  },
  {
   "cell_type": "markdown",
   "id": "8f6febb7",
   "metadata": {},
   "source": [
    "pop() elimina un elemento aleatorio del conjunto y lo retorna"
   ]
  },
  {
   "cell_type": "code",
   "execution_count": 30,
   "id": "954ac274",
   "metadata": {},
   "outputs": [
    {
     "name": "stdout",
     "output_type": "stream",
     "text": [
      "Método pop()\n",
      "{'🌭', '🍟', '🍕', '🍦', '🥤', '🍔'}\n",
      "🌭\n",
      "{'🍟', '🍕', '🍦', '🥤', '🍔'}\n",
      "🍟\n",
      "{'🍕', '🍦', '🥤', '🍔'}\n"
     ]
    }
   ],
   "source": [
    "print (\"Método pop()\")\n",
    "conjunto = {'🍕','🍔','🍟','🌭', '🥤','🍦'}\n",
    "print (conjunto)\n",
    "print(conjunto.pop())\n",
    "print(conjunto)\n",
    "print(conjunto.pop())\n",
    "print(conjunto)"
   ]
  },
  {
   "cell_type": "markdown",
   "id": "98ff0aec",
   "metadata": {},
   "source": [
    "clear() elimina todos los elementos del conjunto"
   ]
  },
  {
   "cell_type": "code",
   "execution_count": 31,
   "id": "202a0325",
   "metadata": {},
   "outputs": [
    {
     "name": "stdout",
     "output_type": "stream",
     "text": [
      "Método clear()\n",
      "{'🍕', '🍔', '🌭', '🍟'}\n",
      "set()\n"
     ]
    }
   ],
   "source": [
    "print (\"Método clear()\")\n",
    "conjunto = {'🍕','🍔','🍟','🌭'}\n",
    "print (conjunto)\n",
    "conjunto.clear()\n",
    "print(conjunto)"
   ]
  },
  {
   "cell_type": "markdown",
   "id": "f6123be9",
   "metadata": {},
   "source": [
    "## METODOS DE OPERACION CON CONJUNTOS"
   ]
  },
  {
   "cell_type": "markdown",
   "id": "d4c85089",
   "metadata": {},
   "source": [
    "union(conjunto) recibe un conjunto y retorna la unión de ambos"
   ]
  },
  {
   "cell_type": "code",
   "execution_count": 32,
   "id": "bba78911",
   "metadata": {},
   "outputs": [
    {
     "name": "stdout",
     "output_type": "stream",
     "text": [
      "Método union()\n",
      "{'🍔', '🥤', '🍟'} {'🍕', '🍨', '🥤'}\n",
      "{'🥤', '🍟', '🍕', '🍨', '🍔'}\n"
     ]
    }
   ],
   "source": [
    "print (\"Método union()\")\n",
    "conjunto1 = {'🍔','🍟', '🥤'}\n",
    "conjunto2 = {'🍕','🍨','🥤'}\n",
    "print (conjunto1, conjunto2)\n",
    "union = conjunto1.union(conjunto2)\n",
    "print(union)"
   ]
  },
  {
   "cell_type": "markdown",
   "id": "7ba3adce",
   "metadata": {},
   "source": [
    "intersection(conjunto) recibe un conjunto y retorna la intersección de ambos\n",
    "\n",
    "Contiene los elementos que están en ambos conjuntos"
   ]
  },
  {
   "cell_type": "code",
   "execution_count": 33,
   "id": "68fe5f44",
   "metadata": {},
   "outputs": [
    {
     "name": "stdout",
     "output_type": "stream",
     "text": [
      "Método intersection()\n",
      "{'🍔', '🥤', '🍟'} {'🍕', '🍨', '🥤'}\n",
      "{'🥤'}\n"
     ]
    }
   ],
   "source": [
    "print (\"Método intersection()\")\n",
    "conjunto1 = {'🍔','🍟', '🥤'}\n",
    "conjunto2 = {'🍕','🍨','🥤'}\n",
    "print (conjunto1, conjunto2)\n",
    "interseccion = conjunto1.intersection(conjunto2)\n",
    "print(interseccion)"
   ]
  },
  {
   "cell_type": "markdown",
   "id": "ae5624b2",
   "metadata": {},
   "source": [
    "difference(conjunto) recibe un conjunto y retorna la diferencia de ambos conjuntos"
   ]
  },
  {
   "cell_type": "code",
   "execution_count": 34,
   "id": "f170f4fb",
   "metadata": {},
   "outputs": [
    {
     "name": "stdout",
     "output_type": "stream",
     "text": [
      "Método difference()\n",
      "1: {'🍔', '🥤', '🍟'} 2: {'🍕', '🍨', '🥤'}\n",
      "1 y 2: {'🍔', '🍟'}\n",
      "2 y 1: {'🍕', '🍨'}\n"
     ]
    }
   ],
   "source": [
    "print (\"Método difference()\")\n",
    "conjunto1 = {'🍔','🍟', '🥤'}\n",
    "conjunto2 = {'🍕','🍨','🥤'}\n",
    "print (\"1:\",conjunto1, \"2:\",conjunto2)\n",
    "diferencia = conjunto1.difference(conjunto2)\n",
    "print(\"1 y 2:\",diferencia)\n",
    "diferencia = conjunto2.difference(conjunto1)\n",
    "print(\"2 y 1:\",diferencia)"
   ]
  },
  {
   "cell_type": "markdown",
   "id": "b12e7cd3",
   "metadata": {},
   "source": [
    "symmetric_difference(conjunto) recibe un conjunto y retorna la diferencia simétrica de ambos\n",
    "\n",
    "Contiene los elementos que están en un conjunto o en el otro pero no en ambos"
   ]
  },
  {
   "cell_type": "code",
   "execution_count": 35,
   "id": "708f0607",
   "metadata": {},
   "outputs": [
    {
     "name": "stdout",
     "output_type": "stream",
     "text": [
      "Método symmetric_difference()\n",
      "{'🍔', '🥤', '🍟'} {'🍕', '🍨', '🥤'}\n",
      "{'🍟', '🍨', '🍕', '🍔'}\n"
     ]
    }
   ],
   "source": [
    "print (\"Método symmetric_difference()\")\n",
    "conjunto1 = {'🍔','🍟', '🥤'}\n",
    "conjunto2 = {'🍕','🍨','🥤'}\n",
    "print (conjunto1, conjunto2)\n",
    "diferencia_simetrica = conjunto1.symmetric_difference(conjunto2)\n",
    "print(diferencia_simetrica)"
   ]
  },
  {
   "cell_type": "markdown",
   "id": "d5aabc57",
   "metadata": {},
   "source": [
    "### METODOS DE ASIGNACION CON OPERACIONES"
   ]
  },
  {
   "cell_type": "markdown",
   "id": "452dcbde",
   "metadata": {},
   "source": [
    "**intersection_update(conjunto)** recibe un conjunto y asigna al conjunto inicial la intersección de ambos conjuntos"
   ]
  },
  {
   "cell_type": "code",
   "execution_count": 36,
   "id": "d948e5a1",
   "metadata": {},
   "outputs": [
    {
     "name": "stdout",
     "output_type": "stream",
     "text": [
      "Método intersection_update()\n",
      "{'🍔', '🥤', '🍟'} {'🍕', '🍨', '🥤'}\n",
      "{'🥤'}\n"
     ]
    }
   ],
   "source": [
    "print (\"Método intersection_update()\")\n",
    "conjunto1 = {'🍔','🍟', '🥤'}\n",
    "conjunto2 = {'🍕','🍨','🥤'}\n",
    "print (conjunto1, conjunto2)\n",
    "conjunto1.intersection_update(conjunto2)\n",
    "print(conjunto1)"
   ]
  },
  {
   "cell_type": "markdown",
   "id": "67ed606d",
   "metadata": {},
   "source": [
    "**difference_update(conjunto)** recibe un conjunto y asigna al conjunto inicial la diferencia de ambos conjuntos"
   ]
  },
  {
   "cell_type": "code",
   "execution_count": 37,
   "id": "9bbc569f",
   "metadata": {},
   "outputs": [
    {
     "name": "stdout",
     "output_type": "stream",
     "text": [
      "Método difference_update()\n",
      "1: {'🍔', '🥤', '🍟'} 2: {'🍕', '🍨', '🥤'}\n",
      "1: {'🍔', '🍟'} 2: {'🍕', '🍨', '🥤'}\n"
     ]
    }
   ],
   "source": [
    "print (\"Método difference_update()\")\n",
    "conjunto1 = {'🍔','🍟', '🥤'}\n",
    "conjunto2 = {'🍕','🍨','🥤'}\n",
    "print (\"1:\",conjunto1, \"2:\",conjunto2)\n",
    "conjunto1.difference_update(conjunto2)\n",
    "print (\"1:\",conjunto1, \"2:\",conjunto2)"
   ]
  },
  {
   "cell_type": "markdown",
   "id": "5524b75c",
   "metadata": {},
   "source": [
    "**symmetric_difference_update(conjunto)** recibe un conjunto y asigna al conjunto inicial la diferencia simétrica de ambos conjuntos"
   ]
  },
  {
   "cell_type": "code",
   "execution_count": 38,
   "id": "23f6a335",
   "metadata": {},
   "outputs": [
    {
     "name": "stdout",
     "output_type": "stream",
     "text": [
      "Método symmetric_difference_update()\n",
      "{'🍔', '🥤', '🍟'} {'🍕', '🍨', '🥤'}\n",
      "{'🍟', '🍨', '🍕', '🍔'}\n"
     ]
    }
   ],
   "source": [
    "print (\"Método symmetric_difference_update()\")\n",
    "conjunto1 = {'🍔','🍟', '🥤'}\n",
    "conjunto2 = {'🍕','🍨','🥤'}\n",
    "print (conjunto1, conjunto2)\n",
    "conjunto1.symmetric_difference_update(conjunto2)\n",
    "print(conjunto1)"
   ]
  },
  {
   "cell_type": "markdown",
   "id": "8aca6807",
   "metadata": {},
   "source": [
    "## METODOS DE BUSQUEDA"
   ]
  },
  {
   "cell_type": "markdown",
   "id": "cb6d2838",
   "metadata": {},
   "source": [
    "**issubset(conjunto)** recibe una secuencia y retorna True si el conjunto es subconjunto del conjunto recibido"
   ]
  },
  {
   "cell_type": "code",
   "execution_count": 39,
   "id": "1ddf53aa",
   "metadata": {},
   "outputs": [
    {
     "name": "stdout",
     "output_type": "stream",
     "text": [
      "Método issubset()\n",
      "{'🍔', '🥤', '🍟'} {'🍕', '🍨', '🥤'} {'🍔', '🍟'}\n",
      "False\n",
      "True\n"
     ]
    }
   ],
   "source": [
    "print (\"Método issubset()\")\n",
    "conjunto1 = {'🍔','🍟', '🥤'}\n",
    "conjunto2 = {'🍕','🍨','🥤'}\n",
    "conjunto3 = {'🍔','🍟'}\n",
    "print (conjunto1, conjunto2,conjunto3)\n",
    "# ¿El conjunto1 es subconjunto del conjunto2?\n",
    "print(conjunto1.issubset(conjunto2))\n",
    "# ¿El conjunto3 es subconjunto del conjunto1?\n",
    "print(conjunto3.issubset(conjunto1))"
   ]
  },
  {
   "cell_type": "markdown",
   "id": "77828b87",
   "metadata": {},
   "source": [
    "**issuperset(conjunto)** recibe una secuencia y retorna True si el conjunto es superconjunto del conjunto recibido"
   ]
  },
  {
   "cell_type": "code",
   "execution_count": 40,
   "id": "d3224172",
   "metadata": {},
   "outputs": [
    {
     "name": "stdout",
     "output_type": "stream",
     "text": [
      "Método issuperset()\n",
      "{'🍔', '🥤', '🍟'} {'🍕', '🍨', '🥤'} {'🍔', '🍟'}\n",
      "False\n",
      "True\n"
     ]
    }
   ],
   "source": [
    "print (\"Método issuperset()\")\n",
    "conjunto1 = {'🍔','🍟', '🥤'}\n",
    "conjunto2 = {'🍕','🍨','🥤'}\n",
    "conjunto3 = {'🍔','🍟'}\n",
    "print (conjunto1, conjunto2,conjunto3)\n",
    "# ¿El conjunto1 es superconjunto del conjunto2?\n",
    "print(conjunto1.issuperset(conjunto2)) # C1 contiene a C2?\n",
    "# ¿El conjunto1 es superconjunto del conjunto2?\n",
    "print(conjunto1.issuperset(conjunto3)) # C1 contiene a C3?\n"
   ]
  },
  {
   "cell_type": "markdown",
   "id": "d670d6b3",
   "metadata": {},
   "source": [
    "**isdisjoint(conjunto)** recibe un secuencia y retorna True si el conjunto no tiene elementos en común con el conjunto recibido"
   ]
  },
  {
   "cell_type": "code",
   "execution_count": 41,
   "id": "c18a5d64",
   "metadata": {},
   "outputs": [
    {
     "name": "stdout",
     "output_type": "stream",
     "text": [
      "Método isdisjoint()\n",
      "{'🍔', '🥤', '🍟'} {'🍕', '🍨'} {'🍔', '🍟'}\n",
      "True\n",
      "False\n"
     ]
    }
   ],
   "source": [
    "print (\"Método isdisjoint()\")\n",
    "conjunto1 = {'🍔','🍟', '🥤'}\n",
    "conjunto2 = {'🍕','🍨'}\n",
    "conjunto3 = {'🍔','🍟'}\n",
    "print (conjunto1, conjunto2,conjunto3)\n",
    "# ¿El conjunto1 no tiene elementos en común con el conjunto2?\n",
    "print(conjunto1.isdisjoint(conjunto2))\n",
    "# ¿El conjunto1 no tiene elementos en común con el conjunto3?\n",
    "print(conjunto1.isdisjoint(conjunto3))"
   ]
  },
  {
   "cell_type": "markdown",
   "id": "219787fb",
   "metadata": {},
   "source": [
    "### METODOS DE COPIA"
   ]
  },
  {
   "cell_type": "markdown",
   "id": "5e04e706",
   "metadata": {},
   "source": [
    "Para crear una copia de un conjunto se utiliza el método copy()"
   ]
  },
  {
   "cell_type": "code",
   "execution_count": 42,
   "id": "686c65b5",
   "metadata": {},
   "outputs": [
    {
     "name": "stdout",
     "output_type": "stream",
     "text": [
      "Método copy()\n",
      "{'🍕', '🍔', '🌭', '🍟'}\n",
      "{'🍕', '🍔', '🌭', '🍟'}\n",
      "{'🍟', '🌭', '🥗', '🍕', '🍔'}\n"
     ]
    }
   ],
   "source": [
    "print (\"Método copy()\")\n",
    "conjunto = {'🍕','🍔','🍟','🌭'}\n",
    "print (conjunto)\n",
    "copia = conjunto.copy()\n",
    "copia.add('🥗')\n",
    "print(conjunto)\n",
    "print(copia)"
   ]
  },
  {
   "cell_type": "markdown",
   "id": "639a396d",
   "metadata": {},
   "source": [
    "Para crear una copia de un conjunto se utiliza el método *copy()*"
   ]
  },
  {
   "cell_type": "code",
   "execution_count": null,
   "id": "536f2299",
   "metadata": {},
   "outputs": [],
   "source": [
    "print (\"Método copy()\")\n",
    "conjunto = {'🍕','🍔','🍟','🌭'}\n",
    "print (conjunto)\n",
    "copia = conjunto.copy()\n",
    "copia.add('🥗')\n",
    "print(conjunto)\n",
    "print(copia)"
   ]
  },
  {
   "cell_type": "markdown",
   "id": "29a3167d",
   "metadata": {},
   "source": [
    "### FUNCIONES CON CONJUNTOS"
   ]
  },
  {
   "cell_type": "markdown",
   "id": "6aea8dc1",
   "metadata": {},
   "source": [
    "**len(conjunto)** retorna la cantidad de elementos del conjunto"
   ]
  },
  {
   "cell_type": "code",
   "execution_count": 43,
   "id": "99883976",
   "metadata": {},
   "outputs": [
    {
     "name": "stdout",
     "output_type": "stream",
     "text": [
      "Función len()\n",
      "{'🍕', '🍔', '🌭', '🍟'}\n",
      "4\n"
     ]
    }
   ],
   "source": [
    "print (\"Función len()\")\n",
    "conjunto = {'🍕','🍔','🍟','🌭'}\n",
    "print (conjunto)\n",
    "print(len(conjunto))"
   ]
  },
  {
   "cell_type": "markdown",
   "id": "b69002c5",
   "metadata": {},
   "source": [
    "**max(conjunto)** retorna el elemento mayor del conjunto"
   ]
  },
  {
   "cell_type": "code",
   "execution_count": 44,
   "id": "ddc7268c",
   "metadata": {},
   "outputs": [
    {
     "name": "stdout",
     "output_type": "stream",
     "text": [
      "Función max()\n",
      "{1, 2, 3, 4, 5}\n",
      "5\n",
      "{'🍕', '🍔', '🌭', '🍟'}\n",
      "🍟\n"
     ]
    }
   ],
   "source": [
    "print (\"Función max()\")\n",
    "conjunto = {1, 2, 3, 4, 5}\n",
    "print (conjunto)\n",
    "print (max(conjunto))\n",
    "conjunto = {'🍕','🍔','🍟','🌭'}\n",
    "print (conjunto)\n",
    "print(max(conjunto))"
   ]
  },
  {
   "cell_type": "markdown",
   "id": "cb79b0f5",
   "metadata": {},
   "source": [
    "**min(conjunto)** retorna el elemento menor del conjunto"
   ]
  },
  {
   "cell_type": "code",
   "execution_count": 45,
   "id": "f2d8d154",
   "metadata": {},
   "outputs": [
    {
     "name": "stdout",
     "output_type": "stream",
     "text": [
      "Función min()\n",
      "{1, 2, 3, 4, 5}\n",
      "1\n",
      "{'🍕', '🍨', '🍔', '🍟'}\n",
      "🍔\n"
     ]
    }
   ],
   "source": [
    "print (\"Función min()\")\n",
    "conjunto = {1, 2, 3, 4, 5}\n",
    "print (conjunto)\n",
    "print (min(conjunto))\n",
    "conjunto = {'🍨','🍔','🍟','🍕'}\n",
    "print (conjunto)\n",
    "print(min(conjunto))"
   ]
  },
  {
   "cell_type": "markdown",
   "id": "a6897318",
   "metadata": {},
   "source": [
    "**sum(conjunto)** retorna la suma de los elementos del conjunto\n",
    "\n",
    "Solo si el conjunto contiene números"
   ]
  },
  {
   "cell_type": "code",
   "execution_count": 46,
   "id": "55f0f468",
   "metadata": {},
   "outputs": [
    {
     "name": "stdout",
     "output_type": "stream",
     "text": [
      "Función sum()\n",
      "{1, 2, 3, 4, 5}\n",
      "15\n"
     ]
    }
   ],
   "source": [
    "print (\"Función sum()\")\n",
    "conjunto = {1, 2, 3, 4, 5}\n",
    "print (conjunto)\n",
    "print (sum(conjunto))"
   ]
  },
  {
   "cell_type": "markdown",
   "id": "8804d472",
   "metadata": {},
   "source": [
    "### 0PERADORES CON CONJUNTOS"
   ]
  },
  {
   "cell_type": "markdown",
   "id": "eeea5e5d",
   "metadata": {},
   "source": [
    "**OPERADORES DE ADICION**"
   ]
  },
  {
   "cell_type": "markdown",
   "id": "61a2c860",
   "metadata": {},
   "source": [
    "|= recibe un conjunto y agrega al conjunto inicial los elementos del conjunto recibido"
   ]
  },
  {
   "cell_type": "code",
   "execution_count": 47,
   "id": "a525b45e",
   "metadata": {},
   "outputs": [
    {
     "name": "stdout",
     "output_type": "stream",
     "text": [
      "Operador |=\n",
      "{'🍔', '🥤', '🍟'} {'🍕', '🍨'}\n",
      "{'🥤', '🍟', '🍕', '🍨', '🍔'}\n"
     ]
    }
   ],
   "source": [
    "print (\"Operador |=\")\n",
    "conjunto1 = {'🍔','🍟', '🥤'}\n",
    "conjunto2 = {'🍕','🍨'}\n",
    "print (conjunto1, conjunto2)\n",
    "conjunto1 |= conjunto2\n",
    "print(conjunto1)"
   ]
  },
  {
   "cell_type": "markdown",
   "id": "69eeec82",
   "metadata": {},
   "source": [
    "### OPERADORES DE COMPARACIÓN"
   ]
  },
  {
   "cell_type": "markdown",
   "id": "c7818669",
   "metadata": {},
   "source": [
    "== compara si dos conjuntos son iguales"
   ]
  },
  {
   "cell_type": "code",
   "execution_count": 48,
   "id": "ced7919e",
   "metadata": {},
   "outputs": [
    {
     "name": "stdout",
     "output_type": "stream",
     "text": [
      "Operador ==\n",
      "{'🍔', '🥤', '🍟'} {'🍔', '🥤', '🍟'} {'🍕', '🍨'}\n",
      "True\n",
      "False\n"
     ]
    }
   ],
   "source": [
    "print (\"Operador ==\")\n",
    "conjunto1 = {'🍔','🍟', '🥤'}\n",
    "conjunto2 = {'🍔','🍟', '🥤'}\n",
    "conjunto3 = {'🍕','🍨'}\n",
    "print (conjunto1, conjunto2, conjunto3)\n",
    "print(conjunto1 == conjunto2)\n",
    "print(conjunto1 == conjunto3)"
   ]
  },
  {
   "cell_type": "markdown",
   "id": "142fb77b",
   "metadata": {},
   "source": [
    "!= compara si dos conjuntos son diferentes"
   ]
  },
  {
   "cell_type": "code",
   "execution_count": 49,
   "id": "dc229fe7",
   "metadata": {},
   "outputs": [
    {
     "name": "stdout",
     "output_type": "stream",
     "text": [
      "Operador !=\n",
      "{'🍔', '🥤', '🍟'} {'🍔', '🥤', '🍟'} {'🍕', '🍨'}\n",
      "False\n",
      "True\n"
     ]
    }
   ],
   "source": [
    "print (\"Operador !=\")\n",
    "conjunto1 = {'🍔','🍟', '🥤'}\n",
    "conjunto2 = {'🍔','🍟', '🥤'}\n",
    "conjunto3 = {'🍕','🍨'}\n",
    "print (conjunto1, conjunto2, conjunto3)\n",
    "print(conjunto1 != conjunto2)\n",
    "print(conjunto1 != conjunto3)\n"
   ]
  },
  {
   "cell_type": "markdown",
   "id": "725924aa",
   "metadata": {},
   "source": [
    "< compara si un conjunto es subconjunto y no igual a otro"
   ]
  },
  {
   "cell_type": "code",
   "execution_count": 50,
   "id": "1e5cc3c1",
   "metadata": {},
   "outputs": [
    {
     "name": "stdout",
     "output_type": "stream",
     "text": [
      "Operador <\n",
      "{'🍔', '🍟'} {'🍔', '🥤', '🍟'} {'🍕', '🍨'}\n",
      "True\n",
      "False\n"
     ]
    }
   ],
   "source": [
    "print (\"Operador <\")\n",
    "conjunto1 = {'🍔','🍟'}\n",
    "conjunto2 = {'🍔','🍟', '🥤'}\n",
    "conjunto3 = {'🍕','🍨'}\n",
    "print (conjunto1, conjunto2, conjunto3)\n",
    "print(conjunto1 < conjunto2)\n",
    "print(conjunto1 < conjunto3)"
   ]
  },
  {
   "cell_type": "markdown",
   "id": "2feef484",
   "metadata": {},
   "source": [
    "> compara si un conjunto es superconjunto y no igual a otro"
   ]
  },
  {
   "cell_type": "code",
   "execution_count": null,
   "id": "a1d2a67b",
   "metadata": {},
   "outputs": [],
   "source": [
    "print (\"Operador >\")\n",
    "conjunto1 = {'🍔','🍟','🥤','🍕'}\n",
    "conjunto2 = {'🍔','🍟', '🥤'}\n",
    "conjunto3 = {'🍕','🍨'}\n",
    "print (conjunto1, conjunto2, conjunto3)\n",
    "print(conjunto1 > conjunto2)\n",
    "print(conjunto1 > conjunto3)"
   ]
  },
  {
   "cell_type": "markdown",
   "id": "8f45d01a",
   "metadata": {},
   "source": [
    "<= compara si un conjunto es subconjunto o igual a otro"
   ]
  },
  {
   "cell_type": "code",
   "execution_count": 51,
   "id": "cc222bc8",
   "metadata": {},
   "outputs": [
    {
     "name": "stdout",
     "output_type": "stream",
     "text": [
      "Operador <=\n",
      "{'🍔', '🍟'} {'🍔', '🍟'} {'🍕', '🍨'}\n",
      "True\n",
      "False\n"
     ]
    }
   ],
   "source": [
    "print (\"Operador <=\")\n",
    "conjunto1 = {'🍔','🍟'}\n",
    "conjunto2 = {'🍔','🍟'}\n",
    "conjunto3 = {'🍕','🍨'}\n",
    "print (conjunto1, conjunto2, conjunto3)\n",
    "print(conjunto1 <= conjunto2)\n",
    "print(conjunto1 <= conjunto3)"
   ]
  },
  {
   "cell_type": "markdown",
   "id": "6da32dd7",
   "metadata": {},
   "source": [
    ">= compara si un conjunto es superconjunto o igual a otro\n"
   ]
  },
  {
   "cell_type": "code",
   "execution_count": 52,
   "id": "0a4df1fa",
   "metadata": {},
   "outputs": [
    {
     "name": "stdout",
     "output_type": "stream",
     "text": [
      "Operador >=\n",
      "{'🍔', '🍟'} {'🍔', '🍟'} {'🍕', '🍨'}\n",
      "True\n",
      "False\n"
     ]
    }
   ],
   "source": [
    "print (\"Operador >=\")\n",
    "conjunto1 = {'🍔','🍟'}\n",
    "conjunto2 = {'🍔','🍟'}\n",
    "conjunto3 = {'🍕','🍨'}\n",
    "print (conjunto1, conjunto2, conjunto3)\n",
    "print(conjunto1 >= conjunto2)\n",
    "print(conjunto1 >= conjunto3)"
   ]
  },
  {
   "cell_type": "markdown",
   "id": "fb44c3b9",
   "metadata": {},
   "source": [
    "### OPERADORES PARA OPERACIONES CON CONJUNTOS"
   ]
  },
  {
   "cell_type": "markdown",
   "id": "f81cee89",
   "metadata": {},
   "source": [
    "| retorna la unión de dos conjuntos"
   ]
  },
  {
   "cell_type": "code",
   "execution_count": 53,
   "id": "8b4725d7",
   "metadata": {},
   "outputs": [
    {
     "name": "stdout",
     "output_type": "stream",
     "text": [
      "Operador |\n",
      "{'🍔', '🥤', '🍟'} {'🍕', '🍨', '🥤'}\n",
      "{'🥤', '🍟', '🍕', '🍨', '🍔'}\n"
     ]
    }
   ],
   "source": [
    "print (\"Operador |\")\n",
    "conjunto1 = {'🍔','🍟', '🥤'}\n",
    "conjunto2 = {'🍕','🍨','🥤'}\n",
    "print (conjunto1, conjunto2)\n",
    "union = conjunto1 | conjunto2\n",
    "print(union)"
   ]
  },
  {
   "cell_type": "markdown",
   "id": "91f9cb12",
   "metadata": {},
   "source": [
    "& retorna la intersección de dos conjuntos"
   ]
  },
  {
   "cell_type": "code",
   "execution_count": 54,
   "id": "624865fc",
   "metadata": {},
   "outputs": [
    {
     "name": "stdout",
     "output_type": "stream",
     "text": [
      "Operador &\n",
      "{'🍔', '🥤', '🍟'} {'🍕', '🍨', '🥤'}\n",
      "{'🥤'}\n"
     ]
    }
   ],
   "source": [
    "print (\"Operador &\")\n",
    "conjunto1 = {'🍔','🍟', '🥤'}\n",
    "conjunto2 = {'🍕','🍨','🥤'}\n",
    "print (conjunto1, conjunto2)\n",
    "interseccion = conjunto1 & conjunto2\n",
    "print(interseccion)"
   ]
  },
  {
   "cell_type": "markdown",
   "id": "67f9be43",
   "metadata": {},
   "source": [
    "-retorna la diferencia de dos conjuntos"
   ]
  },
  {
   "cell_type": "code",
   "execution_count": 55,
   "id": "86afc2df",
   "metadata": {},
   "outputs": [
    {
     "name": "stdout",
     "output_type": "stream",
     "text": [
      "Operador -\n",
      "1: {'🍔', '🥤', '🍟'} 2: {'🍕', '🍨', '🥤'}\n",
      "1 - 2: {'🍔', '🍟'}\n",
      "2 - 1: {'🍕', '🍨'}\n"
     ]
    }
   ],
   "source": [
    "print (\"Operador -\")\n",
    "conjunto1 = {'🍔','🍟', '🥤'}\n",
    "conjunto2 = {'🍕','🍨','🥤'}\n",
    "print (\"1:\",conjunto1, \"2:\",conjunto2)\n",
    "diferencia = conjunto1 - conjunto2\n",
    "print(\"1 - 2:\",diferencia)\n",
    "diferencia = conjunto2 - conjunto1\n",
    "print(\"2 - 1:\",diferencia)"
   ]
  },
  {
   "cell_type": "markdown",
   "id": "918b8517",
   "metadata": {},
   "source": [
    "^ retorna la diferencia simétrica de dos conjuntos"
   ]
  },
  {
   "cell_type": "code",
   "execution_count": 56,
   "id": "129664fd",
   "metadata": {},
   "outputs": [
    {
     "name": "stdout",
     "output_type": "stream",
     "text": [
      "Operador ^\n",
      "{'🍔', '🥤', '🍟'} {'🍕', '🍨', '🥤'}\n",
      "{'🍟', '🍨', '🍕', '🍔'}\n"
     ]
    }
   ],
   "source": [
    "print (\"Operador ^\")\n",
    "conjunto1 = {'🍔','🍟', '🥤'}\n",
    "conjunto2 = {'🍕','🍨','🥤'}\n",
    "print (conjunto1, conjunto2)\n",
    "diferencia_simetrica = conjunto1 ^ conjunto2\n",
    "print(diferencia_simetrica)\n"
   ]
  },
  {
   "cell_type": "markdown",
   "id": "66e5fc80",
   "metadata": {},
   "source": [
    "### OPERADORES PARA ASIGNACION CON OPERACIONES"
   ]
  },
  {
   "cell_type": "markdown",
   "id": "6f00d229",
   "metadata": {},
   "source": [
    "|= recibe un conjunto y agrega al conjunto inicial los elementos del conjunto recibido"
   ]
  },
  {
   "cell_type": "code",
   "execution_count": 57,
   "id": "907d4529",
   "metadata": {},
   "outputs": [
    {
     "name": "stdout",
     "output_type": "stream",
     "text": [
      "Operador |= Unión\n",
      "{'🍔', '🥤', '🍟'} {'🍕', '🍨', '🥤'}\n",
      "{'🥤', '🍟', '🍕', '🍨', '🍔'}\n"
     ]
    }
   ],
   "source": [
    "print (\"Operador |= Unión\")\n",
    "conjunto1 = {'🍔','🍟', '🥤'}\n",
    "conjunto2 = {'🍕','🍨','🥤'}\n",
    "print (conjunto1, conjunto2)\n",
    "conjunto1 |= conjunto2\n",
    "print(conjunto1)"
   ]
  },
  {
   "cell_type": "markdown",
   "id": "9c5940a3",
   "metadata": {},
   "source": [
    "|= recibe un conjunto y agrega al conjunto inicial los elementos del conjunto recibido"
   ]
  },
  {
   "cell_type": "code",
   "execution_count": 58,
   "id": "697c674c",
   "metadata": {},
   "outputs": [
    {
     "name": "stdout",
     "output_type": "stream",
     "text": [
      "Operador |= Unión\n",
      "{'🍔', '🥤', '🍟'} {'🍕', '🍨', '🥤'}\n",
      "{'🥤', '🍟', '🍕', '🍨', '🍔'}\n"
     ]
    }
   ],
   "source": [
    "print (\"Operador |= Unión\")\n",
    "conjunto1 = {'🍔','🍟', '🥤'}\n",
    "conjunto2 = {'🍕','🍨','🥤'}\n",
    "print (conjunto1, conjunto2)\n",
    "conjunto1 |= conjunto2\n",
    "print(conjunto1)"
   ]
  },
  {
   "cell_type": "markdown",
   "id": "3461ce6d",
   "metadata": {},
   "source": [
    "&= recibe un conjunto y asigna al conjunto inicial la intersección de ambos conjuntos"
   ]
  },
  {
   "cell_type": "code",
   "execution_count": 59,
   "id": "aa66cb59",
   "metadata": {},
   "outputs": [
    {
     "name": "stdout",
     "output_type": "stream",
     "text": [
      "Operador &= Intersección\n",
      "{'🍔', '🥤', '🍟'} {'🍕', '🍨', '🥤'}\n",
      "{'🥤'}\n"
     ]
    }
   ],
   "source": [
    "print (\"Operador &= Intersección\")\n",
    "conjunto1 = {'🍔','🍟', '🥤'}\n",
    "conjunto2 = {'🍕','🍨','🥤'}\n",
    "print (conjunto1, conjunto2)\n",
    "conjunto1 &= conjunto2\n",
    "print(conjunto1)"
   ]
  },
  {
   "cell_type": "markdown",
   "id": "3f54b25a",
   "metadata": {},
   "source": [
    "-= recibe un conjunto y asigna al conjunto inicial la diferencia de ambos conjuntos"
   ]
  },
  {
   "cell_type": "code",
   "execution_count": 60,
   "id": "caa7a54d",
   "metadata": {},
   "outputs": [
    {
     "name": "stdout",
     "output_type": "stream",
     "text": [
      "Operador -= Diferencia\n",
      "1: {'🍔', '🥤', '🍟'} 2: {'🍕', '🍨', '🥤'}\n",
      "1 - 2: {'🍔', '🍟'}\n",
      "2 - 1: {'🍕', '🍨'}\n"
     ]
    }
   ],
   "source": [
    "print (\"Operador -= Diferencia\")\n",
    "conjunto1 = {'🍔','🍟', '🥤'}\n",
    "conjunto2 = {'🍕','🍨','🥤'}\n",
    "print (\"1:\",conjunto1, \"2:\",conjunto2)\n",
    "conjunto1 -= conjunto2\n",
    "print(\"1 - 2:\",conjunto1)\n",
    "conjunto1 = {'🍔','🍟', '🥤'}\n",
    "conjunto2 -= conjunto1\n",
    "print(\"2 - 1:\",conjunto2)"
   ]
  },
  {
   "cell_type": "markdown",
   "id": "1a238eb2",
   "metadata": {},
   "source": [
    "^= recibe un conjunto y asigna al conjunto inicial la diferencia simétrica de ambos conjuntos"
   ]
  },
  {
   "cell_type": "code",
   "execution_count": 61,
   "id": "6401998b",
   "metadata": {},
   "outputs": [
    {
     "name": "stdout",
     "output_type": "stream",
     "text": [
      "Operador ^= Diferencia simétrica\n",
      "{'🍔', '🥤', '🍟'} {'🍕', '🍨', '🥤'}\n",
      "{'🍟', '🍨', '🍕', '🍔'}\n"
     ]
    }
   ],
   "source": [
    "print (\"Operador ^= Diferencia simétrica\")\n",
    "conjunto1 = {'🍔','🍟', '🥤'}\n",
    "conjunto2 = {'🍕','🍨','🥤'}\n",
    "print (conjunto1, conjunto2)\n",
    "conjunto1 ^= conjunto2\n",
    "print(conjunto1)"
   ]
  },
  {
   "cell_type": "markdown",
   "id": "2dd4021b",
   "metadata": {},
   "source": [
    "### CONJUNTOS INMUTABLES"
   ]
  },
  {
   "cell_type": "code",
   "execution_count": 62,
   "id": "9ea14c5f",
   "metadata": {},
   "outputs": [
    {
     "name": "stdout",
     "output_type": "stream",
     "text": [
      "frozenset({'🌭', '🍟', '🥗', '🍕', '🍔'})\n",
      "<class 'frozenset'>\n"
     ]
    }
   ],
   "source": [
    "conjunto = frozenset({'🍔','🍕','🥗','🍟','🌭'})\n",
    "print(conjunto)\n",
    "print(type(conjunto))"
   ]
  },
  {
   "cell_type": "markdown",
   "id": "eb79041f",
   "metadata": {},
   "source": [
    "Poseen los mismos métodos que los conjuntos mutables pero no poseen los métodos de adición, eliminación y asignaciones con operaciones"
   ]
  },
  {
   "cell_type": "code",
   "execution_count": null,
   "id": "2578853f",
   "metadata": {},
   "outputs": [],
   "source": [
    "conjunto = frozenset({1, 2, 3, 4, 5})\n",
    "print(conjunto)\n",
    "print(conjunto.add(6)) # AttributeError: 'frozenset' object has no attribute 'add'\n",
    "print(conjunto.remove(1)) # AttributeError: 'frozenset' object has no attribute 'remove'\n",
    "print(conjunto |= {6}) # SyntaxError: invalid syntax"
   ]
  },
  {
   "cell_type": "markdown",
   "id": "666e3be8",
   "metadata": {},
   "source": [
    "**Conjuntos anidados**\n",
    "Los conjuntos anidados son conjuntos que contienen otros conjuntos pero tienen que ser inmutables para ser anidados"
   ]
  },
  {
   "cell_type": "code",
   "execution_count": 63,
   "id": "f384b230",
   "metadata": {},
   "outputs": [
    {
     "name": "stdout",
     "output_type": "stream",
     "text": [
      "Conjunto de conjuntos\n",
      "{frozenset({'🍎', '🍓', '🍅'}), frozenset({'🍐', '🍈', '🍏'})}\n",
      "<class 'set'>\n"
     ]
    }
   ],
   "source": [
    "print (\"Conjunto de conjuntos\")\n",
    "conjunto = {frozenset({'🍅','🍓','🍎'}), frozenset({'🍈','🍐','🍏'})}\n",
    "print(conjunto)\n",
    "print(type(conjunto))"
   ]
  },
  {
   "cell_type": "markdown",
   "id": "7e422c73",
   "metadata": {},
   "source": [
    "Si se intenta anidar un conjunto mutable se lanza un error"
   ]
  },
  {
   "cell_type": "code",
   "execution_count": null,
   "id": "c2e080a2",
   "metadata": {},
   "outputs": [],
   "source": [
    "print (\"Conjunto de conjuntos\")\n",
    "conjunto = {{'🍅','🍓','🍎'}, {'🍈','🍐','🍏'}} #TypeError: unhashable type: 'set'\n",
    "print(conjunto)\n",
    "print(type(conjunto))"
   ]
  }
 ],
 "metadata": {
  "kernelspec": {
   "display_name": "Python 3",
   "language": "python",
   "name": "python3"
  },
  "language_info": {
   "codemirror_mode": {
    "name": "ipython",
    "version": 3
   },
   "file_extension": ".py",
   "mimetype": "text/x-python",
   "name": "python",
   "nbconvert_exporter": "python",
   "pygments_lexer": "ipython3",
   "version": "3.10.4"
  }
 },
 "nbformat": 4,
 "nbformat_minor": 5
}
