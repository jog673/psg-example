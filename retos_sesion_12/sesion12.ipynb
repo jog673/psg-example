{
 "cells": [
  {
   "cell_type": "markdown",
   "id": "7f500f00",
   "metadata": {},
   "source": [
    "# ESTRUCTURAS DE CONTROL\n",
    "En un programa las estructuras de control son el orden en el que se ejecutan las instrucciones\n",
    "## SENTENCIAS CONDICIONALES\n",
    "\n",
    "la sentencia **if** permite ejecutar un bloque de codigo si se cumple una condicion\n",
    "\n"
   ]
  },
  {
   "cell_type": "code",
   "execution_count": 2,
   "id": "41299719",
   "metadata": {},
   "outputs": [
    {
     "name": "stdout",
     "output_type": "stream",
     "text": [
      "Inicio\n",
      "Cumple condición\n",
      "Fin\n"
     ]
    }
   ],
   "source": [
    "print (\"Inicio\")\n",
    "condicion = True\n",
    "if condicion:\n",
    "    # Bloque de código\n",
    "    print (\"Cumple condición\")\n",
    "print (\"Fin\")"
   ]
  },
  {
   "cell_type": "markdown",
   "id": "e9eccb1f",
   "metadata": {},
   "source": [
    "Ejemplo: Dado un número, imprimir si es par"
   ]
  },
  {
   "cell_type": "code",
   "execution_count": 3,
   "id": "81be0e68",
   "metadata": {},
   "outputs": [
    {
     "name": "stdout",
     "output_type": "stream",
     "text": [
      "Inicio\n",
      "El número es par\n",
      "Fin\n"
     ]
    }
   ],
   "source": [
    "print (\"Inicio\")\n",
    "numero = 4\n",
    "if numero % 2 == 0: # Si el módulo de 2 es 0\n",
    "    print (\"El número es par\")\n",
    "print (\"Fin\")"
   ]
  },
  {
   "cell_type": "markdown",
   "id": "d6f019a1",
   "metadata": {},
   "source": [
    "### IF-ELSE\n",
    "La sentencia else permite ejecutar un bloque de código si no se cumple la condición del if\n",
    "\n",
    "Si la condición es True se ejecuta el bloque de código del if\n",
    "\n",
    "Si la condición es False se ejecuta el bloque de código del else"
   ]
  },
  {
   "cell_type": "code",
   "execution_count": 4,
   "id": "6a5710a3",
   "metadata": {},
   "outputs": [
    {
     "name": "stdout",
     "output_type": "stream",
     "text": [
      "Cumple\n"
     ]
    }
   ],
   "source": [
    "if condicion:\n",
    "    print (\"Cumple\")\n",
    "else:\n",
    "    print (\"No cumple\")"
   ]
  },
  {
   "cell_type": "code",
   "execution_count": 5,
   "id": "cdeca9fe",
   "metadata": {},
   "outputs": [
    {
     "name": "stdout",
     "output_type": "stream",
     "text": [
      "Inicio\n",
      "No cumple condición\n",
      "Fin\n"
     ]
    }
   ],
   "source": [
    "print (\"Inicio\")\n",
    "condicion = False\n",
    "if condicion:\n",
    "    # Bloque de código\n",
    "    print (\"Cumple condición\")\n",
    "else:\n",
    "    # Bloque de código\n",
    "    print (\"No cumple condición\")\n",
    "print (\"Fin\")"
   ]
  },
  {
   "cell_type": "code",
   "execution_count": 6,
   "id": "6b23a966",
   "metadata": {},
   "outputs": [
    {
     "name": "stdout",
     "output_type": "stream",
     "text": [
      "Inicio\n",
      "El número es impar\n",
      "Fin\n"
     ]
    }
   ],
   "source": [
    "print (\"Inicio\")\n",
    "numero = 3\n",
    "if numero % 2 == 0: # Si el módulo de 2 es 0\n",
    "    print (\"El número es par\")\n",
    "else:\n",
    "    print (\"El número es impar\")\n",
    "print (\"Fin\")"
   ]
  },
  {
   "cell_type": "markdown",
   "id": "ed89e002",
   "metadata": {},
   "source": [
    "### IF-ANIDADO\n",
    "La sentencia if anidado permite ejecutar un bloque de código si se cumple una condición"
   ]
  },
  {
   "cell_type": "code",
   "execution_count": 8,
   "id": "8e34863e",
   "metadata": {},
   "outputs": [
    {
     "name": "stdout",
     "output_type": "stream",
     "text": [
      "Inicio Anidado\n",
      "Cumple condición 1\n",
      "No cumple condición 2\n",
      "Fin\n"
     ]
    }
   ],
   "source": [
    "print (\"Inicio Anidado\")\n",
    "condicion_1 = True\n",
    "condicion_2 = False\n",
    "if condicion_1:\n",
    "    print (\"Cumple condición 1\")\n",
    "    if condicion_2:\n",
    "        print (\"Cumple condición 2\")\n",
    "    else:\n",
    "        print (\"No cumple condición 2\")\n",
    "else:\n",
    "    print (\"No cumple condición 1\")\n",
    "print (\"Fin\")"
   ]
  },
  {
   "cell_type": "markdown",
   "id": "071a5551",
   "metadata": {},
   "source": [
    "*Ejemplo*: Dado un número, imprimir si es par, impar o cero"
   ]
  },
  {
   "cell_type": "code",
   "execution_count": 9,
   "id": "83b7e142",
   "metadata": {},
   "outputs": [
    {
     "name": "stdout",
     "output_type": "stream",
     "text": [
      "Inicio Par, Impar o Cero\n",
      "El número es cero\n",
      "Fin\n"
     ]
    }
   ],
   "source": [
    "print (\"Inicio Par, Impar o Cero\")\n",
    "numero = 0  \n",
    "if numero > 0 or numero < 0:\n",
    "    if numero % 2 == 0: # Si el módulo de 2 es 0\n",
    "        print (\"El número es par\")\n",
    "    else:\n",
    "        print (\"El número es impar\")\n",
    "else:\n",
    "    print (\"El número es cero\")\n",
    "print (\"Fin\")"
   ]
  },
  {
   "cell_type": "markdown",
   "id": "fa700fd8",
   "metadata": {},
   "source": [
    "### ELIF\n",
    "La sentencia elif es la abreviatura de *else* *if*\n",
    "permite ejecutar un bloque de código si no se cumple la condición del if y si cumple una nueva condición"
   ]
  },
  {
   "cell_type": "code",
   "execution_count": 10,
   "id": "5e3431df",
   "metadata": {},
   "outputs": [
    {
     "name": "stdout",
     "output_type": "stream",
     "text": [
      "Cumple 1\n"
     ]
    }
   ],
   "source": [
    "if condicion_1:\n",
    "    print (\"Cumple 1\")\n",
    "elif condicion_2:\n",
    "    print (\"Cumple 2\")\n",
    "else:\n",
    "    print (\"No cumple 1 ni 2\")"
   ]
  },
  {
   "cell_type": "code",
   "execution_count": 11,
   "id": "c57f475e",
   "metadata": {},
   "outputs": [
    {
     "name": "stdout",
     "output_type": "stream",
     "text": [
      "Inicio ELIF\n",
      "Cumple condición 2\n",
      "Fin\n"
     ]
    }
   ],
   "source": [
    "print (\"Inicio ELIF\")\n",
    "condicion_1 = False\n",
    "condicion_2 = True\n",
    "if condicion_1:\n",
    "    print (\"Cumple condición 1\")\n",
    "elif condicion_2:\n",
    "    print (\"Cumple condición 2\")\n",
    "else:\n",
    "    print (\"No cumple condición 1 ni 2\")\n",
    "print (\"Fin\")"
   ]
  },
  {
   "cell_type": "markdown",
   "id": "4c274e9d",
   "metadata": {},
   "source": [
    "*Ejemplo*: Dado un número, imprimir si es positivo, negativo o cero"
   ]
  },
  {
   "cell_type": "code",
   "execution_count": null,
   "id": "0fa9da00",
   "metadata": {},
   "outputs": [],
   "source": [
    "print (\"Inicio Positivo, Negativo o Cero\")\n",
    "numero = -1\n",
    "if numero > 0:\n",
    "    print (\"El número es positivo\")\n",
    "elif numero < 0:\n",
    "    print (\"El número es negativo\")\n",
    "else:\n",
    "    print (\"El número es cero\")"
   ]
  },
  {
   "cell_type": "markdown",
   "id": "ba034ed5",
   "metadata": {},
   "source": [
    "### OPERADOR TERNARIO\n",
    "El operador ternario es una forma de compactar una condicional en una sola línea\n",
    "\n",
    "Como su nombre lo indica, tiene tres partes\n",
    "\n",
    "resultado = verdadero **if** condicion **else** falso"
   ]
  },
  {
   "cell_type": "code",
   "execution_count": 12,
   "id": "e1bf4707",
   "metadata": {},
   "outputs": [
    {
     "name": "stdout",
     "output_type": "stream",
     "text": [
      "Inicio Ternario\n",
      "Cumple\n",
      "Fin\n"
     ]
    }
   ],
   "source": [
    "print (\"Inicio Ternario\")\n",
    "condicion = True\n",
    "resultado = \"Cumple\" if condicion else \"No cumple\"\n",
    "print (resultado)\n",
    "print (\"Fin\")"
   ]
  },
  {
   "cell_type": "markdown",
   "id": "a222dfd8",
   "metadata": {},
   "source": [
    "Ejemplo: Dado un número, imprimir si es par o impar"
   ]
  },
  {
   "cell_type": "code",
   "execution_count": 13,
   "id": "c432c05c",
   "metadata": {},
   "outputs": [
    {
     "name": "stdout",
     "output_type": "stream",
     "text": [
      "Inicio Ternario Par, Impar\n",
      "El número es impar\n",
      "Fin\n"
     ]
    }
   ],
   "source": [
    "print (\"Inicio Ternario Par, Impar\")\n",
    "numero = 3\n",
    "resultado = \"El número es par\" if numero % 2 == 0 else \"El número es impar\"\n",
    "print (resultado)\n",
    "print (\"Fin\")"
   ]
  },
  {
   "cell_type": "markdown",
   "id": "6dc81ab7",
   "metadata": {},
   "source": [
    "### TRUTHINESS\n",
    "Es un término que se utiliza para describir el valor de verdad de un objeto"
   ]
  },
  {
   "cell_type": "markdown",
   "id": "cd813fff",
   "metadata": {},
   "source": [
    "**Enteros**\n",
    "0 es False\n",
    "1 es True\n",
    "-1 es True\n",
    "Todos los números enteros positivos y negativos son True excepto 0"
   ]
  },
  {
   "cell_type": "code",
   "execution_count": null,
   "id": "336371d8",
   "metadata": {},
   "outputs": [],
   "source": [
    "print (\"Truthiness Enteros\")\n",
    "dividendo = int(input(\"Dividendo: \"))\n",
    "divisor = int(input(\"Divisor: \"))\n",
    "print (dividendo,divisor)\n",
    "if divisor: #divisor != 0\n",
    "    print (dividendo / divisor)\n",
    "else:\n",
    "    print (\"No se puede dividir entre cero\")\n",
    "print (\"Fin\")"
   ]
  },
  {
   "cell_type": "markdown",
   "id": "877db761",
   "metadata": {},
   "source": [
    "**flotantes**\n",
    "0.0 es False\n",
    "1.0 es True\n",
    "-1.0 es True\n",
    "Todos los números flotantes positivos y negativos son True excepto 0.0"
   ]
  },
  {
   "cell_type": "code",
   "execution_count": null,
   "id": "18789c01",
   "metadata": {},
   "outputs": [],
   "source": [
    "print (\"Truthiness Flotantes\")\n",
    "dividendo = float(input(\"Dividendo: \"))\n",
    "divisor = float(input(\"Divisor: \"))\n",
    "print (dividendo,divisor)\n",
    "if divisor: #divisor != 0.0\n",
    "    print (dividendo / divisor)\n",
    "else:\n",
    "    print (\"No se puede dividir entre cero\")\n",
    "print (\"Fin\")"
   ]
  },
  {
   "cell_type": "markdown",
   "id": "618df0e7",
   "metadata": {},
   "source": [
    "**En las cadenas**\n",
    "\"\" es False\n",
    "\" \" es True\n",
    "\"hola\" es True\n",
    "\"0\" es True\n",
    "Todas las cadenas no vacías son True"
   ]
  },
  {
   "cell_type": "code",
   "execution_count": null,
   "id": "97c8db22",
   "metadata": {},
   "outputs": [],
   "source": [
    "print (\"Truthiness Cadenas\")\n",
    "cadena = input(\"Cadena: \")\n",
    "print (cadena)\n",
    "if cadena: # len(cadena) != 0 or cadena != \"\" \n",
    "    print (\"La cadena no está vacía\")\n",
    "else:\n",
    "    print (\"La cadena está vacía\")\n",
    "print (\"Fin\")"
   ]
  },
  {
   "cell_type": "markdown",
   "id": "7f31f465",
   "metadata": {},
   "source": [
    "**Tuplas**\n",
    "() es False\n",
    "(0,) es True\n",
    "(\"0\",) es True\n",
    "(\"♎\",) es True\n",
    "Todas las tuplas no vacías son True\n",
    "\n",
    "Las tuplas vacías son False"
   ]
  },
  {
   "cell_type": "code",
   "execution_count": null,
   "id": "6568eef0",
   "metadata": {},
   "outputs": [],
   "source": [
    "print (\"Truthiness Tuplas\")\n",
    "tupla = tuple(input(\"Tupla: \"))\n",
    "print (tupla)\n",
    "if tupla: # len(tupla) != 0 or tupla != ()\n",
    "    print (\"La tupla no está vacía\")\n",
    "else:\n",
    "    print (\"La tupla está vacía\")\n",
    "print (\"Fin\")"
   ]
  },
  {
   "cell_type": "markdown",
   "id": "84053248",
   "metadata": {},
   "source": [
    "**En las listas**\n",
    "[] es False\n",
    "[0] es True\n",
    "[\"\"] es True\n",
    "[\"♎\"] es True\n",
    "Todas las listas no vacías son True\n",
    "\n",
    "Las listas vacías son False"
   ]
  },
  {
   "cell_type": "code",
   "execution_count": null,
   "id": "f74f1680",
   "metadata": {},
   "outputs": [],
   "source": [
    "print (\"Truthiness Listas\")\n",
    "lista = list(input(\"Lista: \"))\n",
    "print (lista)\n",
    "if lista: # len(lista) != 0 or lista != []\n",
    "    print (\"La lista no está vacía\")\n",
    "else:\n",
    "    print (\"La lista está vacía\")\n",
    "print (\"Fin\")"
   ]
  },
  {
   "cell_type": "markdown",
   "id": "c00e4724",
   "metadata": {},
   "source": [
    "**En conjuntos**\n",
    "set() es False\n",
    "{0} es True\n",
    "{\"0\"} es True\n",
    "{\"♎\"} es True\n",
    "Todos los conjuntos no vacíos son True"
   ]
  },
  {
   "cell_type": "code",
   "execution_count": null,
   "id": "acc28b7b",
   "metadata": {},
   "outputs": [],
   "source": [
    "print (\"Truthiness Conjuntos\")\n",
    "conjunto = set(input(\"Conjunto: \"))\n",
    "print (conjunto)\n",
    "if conjunto: # len(conjunto) != 0 or conjunto != set()\n",
    "    print (\"El conjunto no está vacío\")\n",
    "else:\n",
    "    print (\"El conjunto está vacío\")\n",
    "print (\"Fin\")"
   ]
  },
  {
   "cell_type": "markdown",
   "id": "bbb50892",
   "metadata": {},
   "source": [
    "**En los diccionarios**\n",
    "{} es False\n",
    "{'': ''} es True\n",
    "{\"0\":0} es True\n",
    "{\"♎\":\"Libra\"} es True"
   ]
  },
  {
   "cell_type": "code",
   "execution_count": null,
   "id": "8e55ac0b",
   "metadata": {},
   "outputs": [],
   "source": [
    "print (\"Truthiness Diccionarios\")\n",
    "diccionario = {}\n",
    "clave = input(\"Clave: \")\n",
    "valor = input(\"Valor: \")\n",
    "if clave:\n",
    "  diccionario = {clave:valor}\n",
    "print (diccionario)\n",
    "if diccionario: # diccionario != {}\n",
    "    print (\"El diccionario no está vacío\")\n",
    "else:\n",
    "    print (\"El diccionario está vacío\")\n",
    "print (\"Fin\")"
   ]
  },
  {
   "cell_type": "markdown",
   "id": "0f9e9cd8",
   "metadata": {},
   "source": [
    "**none**\n",
    "Se puede utilizar None como condición\n",
    "\n",
    "Introducir un valor y verificar si es None"
   ]
  },
  {
   "cell_type": "code",
   "execution_count": null,
   "id": "6efe6399",
   "metadata": {},
   "outputs": [],
   "source": [
    "print (\"Truthiness None\")\n",
    "valor = None\n",
    "print (valor, type(valor))\n",
    "if valor: # valor != None\n",
    "    print (\"El valor no es None\")\n",
    "else:\n",
    "    print (\"El valor es None\")\n",
    "print (\"Fin\")"
   ]
  },
  {
   "cell_type": "markdown",
   "id": "6aa6fcc2",
   "metadata": {},
   "source": [
    "con operadores ternarios"
   ]
  },
  {
   "cell_type": "code",
   "execution_count": null,
   "id": "086841ba",
   "metadata": {},
   "outputs": [],
   "source": [
    "entero = int(input(\"Entero: \"))\n",
    "resultado = \"Diferente de 0\" if entero else \"Igual a 0\"\n",
    "print (resultado)\n",
    "flotante = float(input(\"Flotante: \"))\n",
    "resultado = \"Diferente de 0.0\" if flotante else \"Igual a 0.0\"\n",
    "print (resultado)\n",
    "cadena = input(\"Cadena: \")\n",
    "resultado = \"No está vacía\" if cadena else \"Está vacía\"\n",
    "print (resultado)"
   ]
  },
  {
   "cell_type": "markdown",
   "id": "bd508016",
   "metadata": {},
   "source": [
    "Tienes un dispositivo que mide la temperatura y si la temperatura es mayor a 30°C enciende un ventilador y si es menor a 20°C lo apaga\n",
    "\n",
    "3 minutos"
   ]
  },
  {
   "cell_type": "code",
   "execution_count": null,
   "id": "f4c787bf",
   "metadata": {},
   "outputs": [],
   "source": [
    "temperatura = float(input(\"Temperatura: \"))\n",
    "if temperatura > 30:\n",
    "    print (\"Encender ventilador\")\n",
    "elif temperatura < 20:\n",
    "    print (\"Apagar ventilador\")"
   ]
  },
  {
   "cell_type": "markdown",
   "id": "c1810ca3",
   "metadata": {},
   "source": [
    "Tienes una cesta de frutas y quieres saber si tienes manzanas, si hay manzanas las cuentas y si no hay compras dos manzanas"
   ]
  },
  {
   "cell_type": "code",
   "execution_count": null,
   "id": "bcd5a7c6",
   "metadata": {},
   "outputs": [],
   "source": [
    "cesta = ['🍎','🍑','🍓','🍉']\n",
    "print (cesta)\n",
    "if '🍎' in cesta:\n",
    "    print (f\"Hay {cesta.count('🍎')} manzanas\")\n",
    "else:\n",
    "    cesta.extend(['🍎','🍎'])\n",
    "    print (cesta)"
   ]
  }
 ],
 "metadata": {
  "kernelspec": {
   "display_name": "Python 3",
   "language": "python",
   "name": "python3"
  },
  "language_info": {
   "codemirror_mode": {
    "name": "ipython",
    "version": 3
   },
   "file_extension": ".py",
   "mimetype": "text/x-python",
   "name": "python",
   "nbconvert_exporter": "python",
   "pygments_lexer": "ipython3",
   "version": "3.10.4"
  }
 },
 "nbformat": 4,
 "nbformat_minor": 5
}
