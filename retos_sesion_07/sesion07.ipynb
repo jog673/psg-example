{
 "cells": [
  {
   "cell_type": "markdown",
   "id": "b548193c",
   "metadata": {},
   "source": [
    "# CADENAS SESION 07"
   ]
  },
  {
   "cell_type": "code",
   "execution_count": null,
   "id": "c72c3bfc",
   "metadata": {},
   "outputs": [],
   "source": [
    "simple = 'Mi cadena permite comillas \"dobles\" en una sola línea'\n",
    "doble  = \"Mi cadena permite comillas 'simples' en una sola línea\"\n",
    "triple_simple = '''Mi cadena\n",
    "permite contenido \n",
    "en varias líneas y comillas \"dobles\" '''\n",
    "triple_doble = \"\"\"Mi cadena\n",
    "permite contenido \n",
    "en varias líneas y comillas 'simples' \"\"\"\n",
    "print (simple)\n",
    "print (doble)\n",
    "print (triple_simple)\n",
    "print (triple_doble)"
   ]
  },
  {
   "cell_type": "code",
   "execution_count": null,
   "id": "cccf0ce0",
   "metadata": {},
   "outputs": [],
   "source": [
    "entero = str(1)\n",
    "flotante = str(1E-3)\n",
    "hexadecimal = str(0xA)\n",
    "booleano = str (True)\n",
    "print (entero)\n",
    "print (flotante)\n",
    "print (hexadecimal)\n",
    "print (booleano)\n",
    "print (type(entero))\n",
    "print (type(flotante))\n",
    "print (type(hexadecimal))\n",
    "print (type(booleano))"
   ]
  },
  {
   "cell_type": "code",
   "execution_count": null,
   "id": "ae29ba1b",
   "metadata": {},
   "outputs": [],
   "source": [
    "print('El mensaje enviado fue: \"Hello, I\\'m a message\"')\n",
    "print('El mensaje enviado fue: \"Hello, I\\'m a message\"')\n",
    "print (\"El mensaje enviado fue: \\\"Hello, I\\'m a message\\\"\")\n",
    "print ('El mensaje enviado fue: \\\"Hello, I\\'m a message\\\"')"
   ]
  },
  {
   "cell_type": "code",
   "execution_count": null,
   "id": "8caa400b",
   "metadata": {},
   "outputs": [],
   "source": [
    "mensaje = \"Hola,\\n\\teste es un mensaje \\vcon algunos caracteres \\\n",
    "especiales como \\\\ y tabulador.\"\n",
    "print(mensaje)"
   ]
  },
  {
   "cell_type": "markdown",
   "id": "3dba91c5",
   "metadata": {},
   "source": [
    "## METODO INPUT\n",
    "*el texto introducido es de una sola línea y se inserta al programa cuando se realiza Enter al terminar de escribir*\n"
   ]
  },
  {
   "cell_type": "code",
   "execution_count": null,
   "id": "4f5019e9",
   "metadata": {},
   "outputs": [],
   "source": [
    "entrada = input(\"Ingrese un valor\")\n",
    "print (entrada)\n",
    "print (type(entrada))"
   ]
  },
  {
   "cell_type": "markdown",
   "id": "46621bd2",
   "metadata": {},
   "source": [
    "**convierte en un entero el dato de entrada**"
   ]
  },
  {
   "cell_type": "code",
   "execution_count": null,
   "id": "690e6d3f",
   "metadata": {},
   "outputs": [],
   "source": [
    "entero = int(input(\"Ingrese un valor\"))\n",
    "print (entrada)\n",
    "print (type(entrada))"
   ]
  },
  {
   "cell_type": "markdown",
   "id": "c76d7d4e",
   "metadata": {},
   "source": [
    "**convierte en un flotante el dato de entrada**"
   ]
  },
  {
   "cell_type": "code",
   "execution_count": null,
   "id": "cc3c6705",
   "metadata": {},
   "outputs": [],
   "source": [
    "flotante = float(input(\"Ingrese un valor\"))\n",
    "print (entrada)\n",
    "print (type(entrada))"
   ]
  },
  {
   "cell_type": "markdown",
   "id": "43a6874a",
   "metadata": {},
   "source": [
    "**#convierte en un booleano el dato de entrada**"
   ]
  },
  {
   "cell_type": "code",
   "execution_count": null,
   "id": "74c6ac2a",
   "metadata": {},
   "outputs": [],
   "source": [
    "booleano = bool(int(input(\"Ingrese un valor\")))\n",
    "print (entrada)\n",
    "print (type(entrada))"
   ]
  },
  {
   "cell_type": "markdown",
   "id": "05d2206a",
   "metadata": {},
   "source": [
    "## MANEJO DE INDICES"
   ]
  },
  {
   "cell_type": "code",
   "execution_count": null,
   "id": "c789aadf",
   "metadata": {},
   "outputs": [],
   "source": [
    "print(\"Indexado positivo\")\n",
    "fruta = \"banana\"\n",
    "print(fruta)\n",
    "print(fruta[0])\n",
    "print(fruta[5])\n",
    "print(fruta[-6])\n",
    "print(fruta[-2])"
   ]
  },
  {
   "cell_type": "code",
   "execution_count": null,
   "id": "17201d9a",
   "metadata": {},
   "outputs": [],
   "source": [
    "print (\"Indexado negativo\")\n",
    "fruta = \"banana\"\n",
    "print (fruta)\n",
    "print (fruta[-1])\n",
    "print (fruta[-3])"
   ]
  },
  {
   "cell_type": "markdown",
   "id": "1d8e53d4",
   "metadata": {},
   "source": [
    "## SEGMENTACION O SLICING\n",
    "*Slicing es la técnica que permite extraer una parte de una secuencia de caracteres utilizando los indices de esta cadenaEl resultado es una sub cadena*"
   ]
  },
  {
   "cell_type": "code",
   "execution_count": null,
   "id": "45071094",
   "metadata": {},
   "outputs": [],
   "source": [
    "print (\"Slicing\")\n",
    "ciudad =  \"LaPaz-Bolivia\"\n",
    "print (ciudad)\n",
    "print (\"Slicing con índices positivos\")\n",
    "print (ciudad[0:6])\n",
    "print (ciudad[0:6:2])\n",
    "print (\"Slicing con índices negativos\")\n",
    "print (ciudad[-10:-2])\n",
    "print (ciudad[-10:-2:2])"
   ]
  },
  {
   "cell_type": "markdown",
   "id": "0ca9f9f3",
   "metadata": {},
   "source": [
    "*Se puede dejar en blanco un espacio del slicing para hacer referencia a todo el contenido inicial o contenido final*"
   ]
  },
  {
   "cell_type": "code",
   "execution_count": null,
   "id": "c1f5e652",
   "metadata": {},
   "outputs": [],
   "source": [
    "print (\"Slicing sin índice inicial y final\")\n",
    "print (ciudad[:6])\n",
    "print (ciudad[6:])\n",
    "print (\"Slicing sin índice inicial ni final\")\n",
    "print (ciudad[:])\n",
    "print (ciudad[::2])"
   ]
  },
  {
   "cell_type": "markdown",
   "id": "d87851c6",
   "metadata": {},
   "source": [
    "*Cuando se trabaja con pasos negativos los slice se realizan de forma*"
   ]
  },
  {
   "cell_type": "code",
   "execution_count": null,
   "id": "5d915000",
   "metadata": {},
   "outputs": [],
   "source": [
    "print (\"Slicing con paso negativo\")\n",
    "print (ciudad[10:4:-1])\n",
    "print (ciudad[10::-2])"
   ]
  },
  {
   "cell_type": "markdown",
   "id": "aa1cfcfc",
   "metadata": {},
   "source": [
    "### CONCATENACION\n",
    "*Las cadenas se pueden concatenar con el operador + generando una nueva cadena en el resultado*"
   ]
  },
  {
   "cell_type": "code",
   "execution_count": null,
   "id": "486644c5",
   "metadata": {},
   "outputs": [],
   "source": [
    "print (\"Concatenación de cadenas\")\n",
    "cadena1 = \"Hola\"\n",
    "cadena2 = \"Mundo\"\n",
    "concatenada = cadena1 + \" \" + cadena2\n",
    "print (concatenada)"
   ]
  },
  {
   "cell_type": "markdown",
   "id": "2277ed8d",
   "metadata": {},
   "source": [
    "**REPETICION DE UNA CADENA**"
   ]
  },
  {
   "cell_type": "code",
   "execution_count": null,
   "id": "bd014644",
   "metadata": {},
   "outputs": [],
   "source": [
    "print (\"Repetición de cadenas\")\n",
    "cadena = \"-#-\"\n",
    "repetida = cadena * 10\n",
    "print (repetida)"
   ]
  },
  {
   "cell_type": "markdown",
   "id": "fa389213",
   "metadata": {},
   "source": [
    "## METODOS DE CADENAS"
   ]
  },
  {
   "cell_type": "code",
   "execution_count": null,
   "id": "f5ccb0cb",
   "metadata": {},
   "outputs": [],
   "source": [
    "print (\"Función Upper\")\n",
    "cadena = \"cadena Inicial #1\"\n",
    "mayuscula  = cadena.upper()\n",
    "print (cadena)\n",
    "print (mayuscula)"
   ]
  },
  {
   "cell_type": "code",
   "execution_count": null,
   "id": "78034032",
   "metadata": {},
   "outputs": [],
   "source": [
    "print (\"Función Lower\")\n",
    "cadena = \"Cadena INICIAL #2\"\n",
    "minuscula  = cadena.lower()\n",
    "print (cadena)\n",
    "print (minuscula)"
   ]
  },
  {
   "cell_type": "code",
   "execution_count": null,
   "id": "308a210a",
   "metadata": {},
   "outputs": [],
   "source": [
    "print (\"Función Capitalize\")\n",
    "cadena = \"cadena INICIAL #3\"\n",
    "capital = cadena.capitalize()\n",
    "print (cadena)\n",
    "print (capital)"
   ]
  },
  {
   "cell_type": "code",
   "execution_count": null,
   "id": "c0ab0686",
   "metadata": {},
   "outputs": [],
   "source": [
    "print (\"Función Title\")\n",
    "cadena = \"CADENA inicial #4\"\n",
    "titulo = cadena.title()\n",
    "print (cadena)\n",
    "print (titulo)"
   ]
  },
  {
   "cell_type": "code",
   "execution_count": null,
   "id": "e5ab6363",
   "metadata": {},
   "outputs": [],
   "source": [
    "print (\"Función Swapcase\")\n",
    "cadena = \"CADena InIcIaL #5\"\n",
    "swap = cadena.swapcase()\n",
    "print (cadena)\n",
    "print (swap)"
   ]
  },
  {
   "cell_type": "markdown",
   "id": "d28b461b",
   "metadata": {},
   "source": [
    "### FUNCIONES"
   ]
  },
  {
   "cell_type": "code",
   "execution_count": null,
   "id": "c0757eae",
   "metadata": {},
   "outputs": [],
   "source": [
    "print (\"Función Count\")\n",
    "cadena = \"Cantidad de veces la letra A\"\n",
    "contar = cadena.count(\"a\")\n",
    "print(cadena)\n",
    "print(contar, type(contar))"
   ]
  },
  {
   "cell_type": "code",
   "execution_count": null,
   "id": "a109c123",
   "metadata": {},
   "outputs": [],
   "source": [
    "print (\"Función Find\")\n",
    "cadena = \"Encontrar las letras las\"\n",
    "buscar = cadena.find(\"las\")\n",
    "print(cadena)\n",
    "print(buscar, type(buscar))"
   ]
  },
  {
   "cell_type": "code",
   "execution_count": null,
   "id": "e897c02e",
   "metadata": {},
   "outputs": [],
   "source": [
    "print (\"Función Rfind\")\n",
    "cadena = \"Encontrar las letras las\"\n",
    "buscar = cadena.rfind(\"las\")\n",
    "print(cadena)\n",
    "print(buscar, type(buscar))"
   ]
  },
  {
   "cell_type": "code",
   "execution_count": null,
   "id": "6c39fd4e",
   "metadata": {},
   "outputs": [],
   "source": [
    "print (\"Función Find y Rfind\")\n",
    "cadena = \"Encontrar tres O\"\n",
    "buscar = cadena.find(\"OOO\")\n",
    "print(cadena)\n",
    "print(buscar, type(buscar))\n",
    "buscar = cadena.rfind(\"OOO\")\n",
    "print(buscar, type(buscar))"
   ]
  },
  {
   "cell_type": "markdown",
   "id": "ac6442c3",
   "metadata": {},
   "source": [
    "* Existen funciones para saber si una cadena contiene sólo números, sólo caracteres alfabéticos o mixtos*"
   ]
  },
  {
   "cell_type": "code",
   "execution_count": null,
   "id": "6d658dbe",
   "metadata": {},
   "outputs": [],
   "source": [
    "print (\"Función isdigit\")\n",
    "resultado = \"100\".isdigit()\n",
    "print (resultado, type(resultado))\n",
    "print (\"Función isalpha\")\n",
    "resultado = \"Hola\".isalpha()\n",
    "print (resultado, type(resultado))\n",
    "print (\"Función isalnum\")\n",
    "resultado = \"usuario123\".isalnum()\n",
    "print (resultado, type(resultado))\n"
   ]
  },
  {
   "cell_type": "code",
   "execution_count": null,
   "id": "cc05f0e3",
   "metadata": {},
   "outputs": [],
   "source": [
    "print (\"Función split\")\n",
    "cadena = \"pan,carne,huevos\"\n",
    "separado = cadena.split(\",\")\n",
    "print (cadena)\n",
    "print (separado, type(separado))"
   ]
  },
  {
   "cell_type": "code",
   "execution_count": null,
   "id": "1da09ab5",
   "metadata": {},
   "outputs": [],
   "source": [
    "print (\"Función join\")\n",
    "cadena = \"abcdefghij\"\n",
    "unido = \"-\".join(cadena)\n",
    "print (cadena)\n",
    "print (unido)\n"
   ]
  },
  {
   "cell_type": "code",
   "execution_count": null,
   "id": "5c4ea754",
   "metadata": {},
   "outputs": [],
   "source": [
    "print (\"Función strip\")\n",
    "cadena = \"      Hola    Mundo     \"\n",
    "limpio = cadena.strip()\n",
    "print (cadena)\n",
    "print (limpio)\n",
    "cadena = \"-abc--def-ghi-cba----\"\n",
    "limpio = cadena.strip(\"bac-\")\n",
    "print (cadena)\n",
    "print (limpio)"
   ]
  },
  {
   "cell_type": "code",
   "execution_count": null,
   "id": "f6d22249",
   "metadata": {},
   "outputs": [],
   "source": [
    "print (\"Función replace\")\n",
    "cadena = \"Me gusta programar en JS, Amo JS\"\n",
    "reemplazado = cadena.replace(\"JS\", \"Python\")\n",
    "print (cadena)\n",
    "print (reemplazado)"
   ]
  },
  {
   "cell_type": "code",
   "execution_count": null,
   "id": "6204f0e6",
   "metadata": {},
   "outputs": [],
   "source": [
    "print (\"Función format\")\n",
    "cadena = \"El valor de PI es: {}\"\n",
    "formateado = cadena.format(3.1416)\n",
    "print (cadena)\n",
    "print (formateado)"
   ]
  },
  {
   "cell_type": "code",
   "execution_count": null,
   "id": "999896fa",
   "metadata": {},
   "outputs": [],
   "source": [
    "print (\"Función format con índices\")\n",
    "cadena = \"{2} es la suma de {0} y {1}\"\n",
    "valor_1 = 5\n",
    "valor_2 = 3\n",
    "resultado = valor_1+valor_2\n",
    "formateado = cadena.format(valor_1, valor_2, resultado)\n",
    "print (cadena)\n",
    "print (formateado)"
   ]
  },
  {
   "cell_type": "code",
   "execution_count": null,
   "id": "2be99664",
   "metadata": {},
   "outputs": [],
   "source": [
    "print (\"Función format con nombres\")\n",
    "cadena = \"{ciudad} es la capital de {pais}\"\n",
    "pais = \"Francia\"\n",
    "ciudad = \"París\"\n",
    "formateado = cadena.format(pais=pais, ciudad=ciudad)\n",
    "print (cadena)\n",
    "print (formateado)"
   ]
  },
  {
   "cell_type": "code",
   "execution_count": null,
   "id": "38f6fb94",
   "metadata": {},
   "outputs": [],
   "source": [
    "print (\"Función format con f-string\")\n",
    "moneda = \"Boliviano\"\n",
    "pais = \"Bolivia\"\n",
    "formateado = f\"La moneda de {pais} es el {moneda}\"\n",
    "print (formateado)"
   ]
  }
 ],
 "metadata": {
  "language_info": {
   "name": "python"
  }
 },
 "nbformat": 4,
 "nbformat_minor": 5
}
