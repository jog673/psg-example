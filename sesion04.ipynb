{
 "cells": [
  {
   "cell_type": "code",
   "execution_count": 5,
   "id": "58ef4cff",
   "metadata": {},
   "outputs": [
    {
     "name": "stdout",
     "output_type": "stream",
     "text": [
      "hola, mundo desde Notebook!\n"
     ]
    }
   ],
   "source": [
    "# cede 01\n",
    "print(\"hola, mundo desde Notebook!\")"
   ]
  },
  {
   "cell_type": "code",
   "execution_count": 7,
   "id": "6b0dd50d",
   "metadata": {},
   "outputs": [
    {
     "name": "stdout",
     "output_type": "stream",
     "text": [
      " *\n",
      "**\n",
      "***\n",
      "****\n",
      "||\n"
     ]
    }
   ],
   "source": [
    "print(\" *\")\n",
    "print(\"**\")\n",
    "print(\"***\")\n",
    "print(\"****\")\n",
    "print(\"||\")"
   ]
  },
  {
   "cell_type": "markdown",
   "id": "64201c1d",
   "metadata": {},
   "source": [
    "# Sesion 04\n",
    "- Mi primer notebook\n",
    "- Imprimir árbol\n",
    "- -crear markdown\n",
    "- Subir a mi respositorio github"
   ]
  }
 ],
 "metadata": {
  "kernelspec": {
   "display_name": "Python 3",
   "language": "python",
   "name": "python3"
  },
  "language_info": {
   "codemirror_mode": {
    "name": "ipython",
    "version": 3
   },
   "file_extension": ".py",
   "mimetype": "text/x-python",
   "name": "python",
   "nbconvert_exporter": "python",
   "pygments_lexer": "ipython3",
   "version": "3.10.4"
  }
 },
 "nbformat": 4,
 "nbformat_minor": 5
}
