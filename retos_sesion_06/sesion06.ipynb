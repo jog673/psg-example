{
 "cells": [
  {
   "cell_type": "markdown",
   "id": "301fcf4c",
   "metadata": {},
   "source": [
    "# VARIABLES BOOLEANAS"
   ]
  },
  {
   "cell_type": "code",
   "execution_count": null,
   "id": "a8435b60",
   "metadata": {},
   "outputs": [],
   "source": [
    "print(\"Tipos de datos booleanos\")\n",
    "print (True)\n",
    "print (False)"
   ]
  },
  {
   "cell_type": "code",
   "execution_count": null,
   "id": "23faddbc",
   "metadata": {},
   "outputs": [],
   "source": [
    "## OPERACIONES ARITMETICAS CON BOOLEANOS"
   ]
  },
  {
   "cell_type": "code",
   "execution_count": null,
   "id": "38f96b7b",
   "metadata": {},
   "outputs": [],
   "source": [
    "print (True + True)\n",
    "print (True * True)\n",
    "print (True * False)\n",
    "print (False + False)\n",
    "print (False * False)"
   ]
  },
  {
   "cell_type": "markdown",
   "id": "2cfc3624",
   "metadata": {},
   "source": [
    "**al ser una subclase de los enteros se puede realizar operaciones aritméticas entre números booleanos**"
   ]
  },
  {
   "cell_type": "code",
   "execution_count": null,
   "id": "2fef75cc",
   "metadata": {},
   "outputs": [],
   "source": [
    "print (\"Números y booleanos\")\n",
    "print (10 + True)\n",
    "print (10 + False)\n",
    "print (10 * True)\n",
    "print (10 * False)"
   ]
  },
  {
   "cell_type": "markdown",
   "id": "dda65d52",
   "metadata": {},
   "source": [
    "## DECLARAR VARIABLES BOOLEANAS"
   ]
  },
  {
   "cell_type": "code",
   "execution_count": null,
   "id": "0bf16175",
   "metadata": {},
   "outputs": [],
   "source": [
    "print(\"declarar variables booleanas\")\n",
    "var_booleana = True\n",
    "print(var_booleana)\n",
    "print(type(var_booleana))\n",
    "\n",
    "var_booleana = bool(0)\n",
    "print( var_booleana)\n",
    "print(type(var_booleana))\n",
    "\n",
    "var_booleana = bool(15)\n",
    "print(var_booleana)\n",
    "print(type(var_booleana))\n"
   ]
  },
  {
   "cell_type": "markdown",
   "id": "7a9de4ad",
   "metadata": {},
   "source": [
    "## Operadores de igualdad e identidad"
   ]
  },
  {
   "cell_type": "code",
   "execution_count": null,
   "id": "449212e7",
   "metadata": {},
   "outputs": [],
   "source": [
    "print (\"Operadores de comparación\")\n",
    "print (10 == 10)\n",
    "print (10 != 10)\n",
    "print (10 < 10)\n",
    "print (10 > 10)\n",
    "print (10 <= 10)\n",
    "print (10 >= 10)\n",
    "print (10 is 10)\n",
    "print (10 is not 10)\n"
   ]
  },
  {
   "cell_type": "markdown",
   "id": "30317b1c",
   "metadata": {},
   "source": [
    "## Los resultados de los comparadores puedes ser asignados a variables y tambien pueden ser utilizados como parte de expresione"
   ]
  },
  {
   "cell_type": "code",
   "execution_count": null,
   "id": "d28ff1cc",
   "metadata": {},
   "outputs": [],
   "source": [
    "print (\"Asignación de variables\")\n",
    "x = 10\n",
    "mayor_que_cero = x > 0\n",
    "print (mayor_que_cero)\n",
    "diferente_de_10 = x != 10\n",
    "print (diferente_de_10)"
   ]
  },
  {
   "cell_type": "markdown",
   "id": "2c6c5330",
   "metadata": {},
   "source": [
    "### OPERADORES LOGICOS"
   ]
  },
  {
   "cell_type": "code",
   "execution_count": null,
   "id": "322f3064",
   "metadata": {},
   "outputs": [],
   "source": [
    "print (\"Operadores lógicos\")\n",
    "print (True and True)\n",
    "print (True and False)\n",
    "print (False or True)\n",
    "print (False or False)\n",
    "print (not True)\n",
    "print (not False)\n",
    "\n",
    "\n",
    "print(\"Operadores lógicos y prioridad\")\n",
    "print(False and False or True)\n",
    "print(False and (False or True))\n",
    "print(not True and False or True)\n",
    "print(not (True and False or False))\n",
    "print(not True and (False or False))\n",
    "print(not True and False or False)\n",
    "\n",
    "print (\"Operador AND\")\n",
    "print (True and True)\n",
    "print (True and False)\n",
    "print (False and True)\n",
    "print (False and False)\n",
    "\n",
    "print (\"Operador OR\")\n",
    "print (True or True)\n",
    "print (True or False)\n",
    "print (False or True)\n",
    "print (False or False)\n",
    "\n",
    "print (\"Operador NOT\")\n",
    "print (not True)\n",
    "print (not False)\n",
    "\n",
    "print (\"Operador NAND\")\n",
    "print (not (True and True))\n",
    "print (not (True and False))\n",
    "print (not (False and True))\n",
    "print (not (False and False))\n",
    "\n",
    "print (\"Operador NOR\")\n",
    "print (not (True or True))\n",
    "print (not (True or False))\n",
    "print (not (False or True))\n",
    "print (not (False or False))\n",
    "\n"
   ]
  },
  {
   "cell_type": "markdown",
   "id": "ac2831e9",
   "metadata": {},
   "source": [
    "**OPERADOR XOR**"
   ]
  },
  {
   "cell_type": "code",
   "execution_count": null,
   "id": "7bba7245",
   "metadata": {},
   "outputs": [],
   "source": [
    "print (\"Operador XOR\")\n",
    "a = True\n",
    "b = False\n",
    "print ((a or b) and not (a and b))\n",
    "a = True\n",
    "b = True\n",
    "print ((a or b) and not (a and b))\n"
   ]
  },
  {
   "cell_type": "markdown",
   "id": "0d3243a6",
   "metadata": {},
   "source": [
    "*Ejemplo Si un sensor detecta movimiento y tiene batería entonces enciende la luz*"
   ]
  },
  {
   "cell_type": "code",
   "execution_count": null,
   "id": "f9761ba2",
   "metadata": {},
   "outputs": [],
   "source": [
    "print (\"Ejemplo de uso Sensor y Batería\")\n",
    "sensor = True\n",
    "bateria = True\n",
    "print (sensor, \"and\", bateria, \"=\", sensor and bateria)\n",
    "sensor = True\n",
    "bateria = False\n",
    "print (sensor, \"and\", bateria, \"=\", sensor and bateria)\n",
    "sensor = False\n",
    "bateria = True\n",
    "print (sensor, \"and\", bateria, \"=\", sensor and bateria)\n",
    "sensor = False\n",
    "bateria = False\n",
    "print (sensor, \"and\", bateria, \"=\", sensor and bateria)\n"
   ]
  },
  {
   "cell_type": "markdown",
   "id": "65d8c5c7",
   "metadata": {},
   "source": [
    "*Ejemplo 1, Ejemplo 2, Ejemplo 3*"
   ]
  },
  {
   "cell_type": "code",
   "execution_count": null,
   "id": "8d00b9e5",
   "metadata": {},
   "outputs": [],
   "source": [
    "print (\"Ejemplo 1 - Comparación y Lógicos\")\n",
    "numero = 20\n",
    "print (numero >= 0 and numero <= 100)\n",
    "\n",
    "#EJEMPLO 2\n",
    "\n",
    "primera_nota=15\n",
    "segunda_nota=20\n",
    "tercera_nota=16\n",
    "\n",
    "print((primera_nota+segunda_nota+tercera_nota)>50)\n",
    "\n",
    "#EJEMPLO 3\n",
    "numero=15\n",
    "print((numero % 3 ==0) and (numero % 5==0) and (numero % 2 !=0))\n"
   ]
  },
  {
   "cell_type": "markdown",
   "id": "13274477",
   "metadata": {},
   "source": [
    "### CORTOCIRCUITO"
   ]
  },
  {
   "cell_type": "code",
   "execution_count": null,
   "id": "7cc631f1",
   "metadata": {},
   "outputs": [],
   "source": [
    "print(\"cortocircuito con operador and\")\n",
    "x = 1\n",
    "y = 0\n",
    "print (x>2 and (x/y) >2) #cortocircuito\n",
    "#print (x>0 and (x/y) >0)\n",
    "print (\"Cortocircuito con operador or\")\n",
    "x = 1\n",
    "y = 0\n",
    "print (x > 0 or (x/y) > 0)\n",
    "print (x > 2 or (x/y) > 2)"
   ]
  }
 ],
 "metadata": {
  "kernelspec": {
   "display_name": "Python 3",
   "language": "python",
   "name": "python3"
  },
  "language_info": {
   "codemirror_mode": {
    "name": "ipython",
    "version": 3
   },
   "file_extension": ".py",
   "mimetype": "text/x-python",
   "name": "python",
   "nbconvert_exporter": "python",
   "pygments_lexer": "ipython3",
   "version": "3.10.4"
  }
 },
 "nbformat": 4,
 "nbformat_minor": 5
}
