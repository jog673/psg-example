{
 "cells": [
  {
   "cell_type": "markdown",
   "id": "55a4bb79",
   "metadata": {},
   "source": [
    "# ESTRUCTURAS DE CONTROL\n",
    "El ciclor **for** es un ciclo que se ejecuta un número determinado de veces"
   ]
  },
  {
   "cell_type": "markdown",
   "id": "36045ec1",
   "metadata": {},
   "source": [
    "*range* es una función que genera una secuencia inmutable de números"
   ]
  },
  {
   "cell_type": "code",
   "execution_count": 26,
   "id": "b69c3f51",
   "metadata": {},
   "outputs": [
    {
     "data": {
      "text/plain": [
       "range(0, 5)"
      ]
     },
     "execution_count": 26,
     "metadata": {},
     "output_type": "execute_result"
    }
   ],
   "source": [
    "range(5)"
   ]
  },
  {
   "cell_type": "code",
   "execution_count": 27,
   "id": "426eac59",
   "metadata": {},
   "outputs": [
    {
     "name": "stdout",
     "output_type": "stream",
     "text": [
      "[0, 1, 2, 3, 4]\n"
     ]
    }
   ],
   "source": [
    "range(1,10,2)\n",
    "print(list(range(5)))"
   ]
  },
  {
   "cell_type": "markdown",
   "id": "228c557a",
   "metadata": {},
   "source": [
    "**Como se declara un for CON range**\n",
    "*for* tiene la siguiente estructura"
   ]
  },
  {
   "cell_type": "code",
   "execution_count": 28,
   "id": "8cd2efb9",
   "metadata": {},
   "outputs": [
    {
     "name": "stdout",
     "output_type": "stream",
     "text": [
      "0\n",
      "1\n",
      "2\n",
      "3\n",
      "4\n",
      "4\n"
     ]
    }
   ],
   "source": [
    "for i in range(5):\n",
    "    print(i)\n",
    "print(i)"
   ]
  },
  {
   "cell_type": "code",
   "execution_count": 29,
   "id": "31b1dcb3",
   "metadata": {},
   "outputs": [
    {
     "name": "stdout",
     "output_type": "stream",
     "text": [
      "Inicio\n",
      "0\n",
      "1\n",
      "2\n",
      "3\n",
      "4\n",
      "Fin\n"
     ]
    }
   ],
   "source": [
    "print (\"Inicio\")\n",
    "for i in range(5): # rango (0,5,1)\n",
    "    print(i)\n",
    "print (\"Fin\")"
   ]
  },
  {
   "cell_type": "code",
   "execution_count": 30,
   "id": "b4f079cf",
   "metadata": {},
   "outputs": [
    {
     "name": "stdout",
     "output_type": "stream",
     "text": [
      "Ejemplo 1\n",
      "25\n"
     ]
    }
   ],
   "source": [
    "print(\"Ejemplo 1\")\n",
    "suma = 0\n",
    "for i in range (1,11,2):\n",
    "    suma = suma + i\n",
    "print(suma)\n"
   ]
  },
  {
   "cell_type": "markdown",
   "id": "512bbcb1",
   "metadata": {},
   "source": [
    "Ejemplo 2, crear un árbol de navidad de 6 niveles"
   ]
  },
  {
   "cell_type": "code",
   "execution_count": 31,
   "id": "0c51afa4",
   "metadata": {},
   "outputs": [
    {
     "name": "stdout",
     "output_type": "stream",
     "text": [
      "Ejemplo 2\n",
      "     *\n",
      "    ***\n",
      "   *****\n",
      "  *******\n",
      " *********\n",
      "***********\n"
     ]
    }
   ],
   "source": [
    "print(\"Ejemplo 2\")\n",
    "for i in range(0,6):\n",
    "    print(\" \"*(5-i) + \"*\"*i*2+\"*\")"
   ]
  },
  {
   "cell_type": "markdown",
   "id": "613ed1cf",
   "metadata": {},
   "source": [
    "**Ejemplo 3**, crear una serie de números cuadrados del 1 al 10"
   ]
  },
  {
   "cell_type": "code",
   "execution_count": 32,
   "id": "d1a44bab",
   "metadata": {},
   "outputs": [
    {
     "name": "stdout",
     "output_type": "stream",
     "text": [
      "Ejemplo 3\n",
      "1 4 9 16 25 36 49 64 81 100 "
     ]
    }
   ],
   "source": [
    "print(\"Ejemplo 3\")\n",
    "for i in range(1,11,1):\n",
    "    print(i**2, end=\" \")"
   ]
  },
  {
   "cell_type": "markdown",
   "id": "505ca552",
   "metadata": {},
   "source": [
    "*Ejemplo* Crear una lista de números pares del 1 al 10"
   ]
  },
  {
   "cell_type": "code",
   "execution_count": 35,
   "id": "ab651ddf",
   "metadata": {},
   "outputs": [
    {
     "name": "stdout",
     "output_type": "stream",
     "text": [
      "Ejemplo 4\n",
      "[0, 2, 4, 6, 8, 10]\n"
     ]
    }
   ],
   "source": [
    "print(\"Ejemplo 4\")\n",
    "lista = []\n",
    "for i in range(0,11,2):\n",
    "    lista.append(i)\n",
    "print(lista)"
   ]
  },
  {
   "cell_type": "markdown",
   "id": "c6d8957d",
   "metadata": {},
   "source": [
    "**Ejercicio 1**, Imprimir los 10 primeros de la serie números cúbios"
   ]
  },
  {
   "cell_type": "code",
   "execution_count": 7,
   "id": "c30b0b21",
   "metadata": {},
   "outputs": [
    {
     "name": "stdout",
     "output_type": "stream",
     "text": [
      "0 1 8 27 64 125 216 343 512 729 1000 "
     ]
    }
   ],
   "source": [
    "\n",
    "for i in range(0,11,1):\n",
    "    print(i**3, end =\" \")\n",
    "    "
   ]
  },
  {
   "cell_type": "code",
   "execution_count": 5,
   "id": "ac4b12c0",
   "metadata": {},
   "outputs": [
    {
     "name": "stdout",
     "output_type": "stream",
     "text": [
      "[0, 1, 8, 27, 64, 125, 216, 343, 512, 729, 1000]\n"
     ]
    }
   ],
   "source": [
    "lista= []\n",
    "for i in range(0,11,1):\n",
    "    lista.append(i**3)\n",
    "print(lista)"
   ]
  },
  {
   "cell_type": "markdown",
   "id": "35cb81bb",
   "metadata": {},
   "source": [
    "Cuando se itera sobre una secuencia es común nombrar las variables con nombres que representen el elemento"
   ]
  },
  {
   "cell_type": "code",
   "execution_count": 8,
   "id": "b44fb1f9",
   "metadata": {},
   "outputs": [
    {
     "name": "stdout",
     "output_type": "stream",
     "text": [
      "🍎\n",
      "🍌\n",
      "🍇\n",
      "🍉\n"
     ]
    }
   ],
   "source": [
    "for fruta in ['🍎','🍌','🍇','🍉']:\n",
    "    print(fruta)"
   ]
  },
  {
   "cell_type": "markdown",
   "id": "662a65d6",
   "metadata": {},
   "source": [
    "**Ejemplo**, Imprimir los elementos de una tupla de frutas separados por coma"
   ]
  },
  {
   "cell_type": "code",
   "execution_count": 9,
   "id": "8b88a217",
   "metadata": {},
   "outputs": [
    {
     "name": "stdout",
     "output_type": "stream",
     "text": [
      "Ejemplo 6\n",
      "🍅, 🍇, 🍈, 🍉, 🍊, "
     ]
    }
   ],
   "source": [
    "print (\"Ejemplo 6\")\n",
    "frutas =  ('🍅','🍇','🍈','🍉','🍊')\n",
    "for fruta in frutas:\n",
    "    print(fruta, end=\", \")"
   ]
  },
  {
   "cell_type": "markdown",
   "id": "d4254d0f",
   "metadata": {},
   "source": [
    "**Ejemplo 7**, imprimir los elementos de un diccionario"
   ]
  },
  {
   "cell_type": "code",
   "execution_count": 10,
   "id": "4afc96be",
   "metadata": {},
   "outputs": [
    {
     "name": "stdout",
     "output_type": "stream",
     "text": [
      "Ejemplo 7\n",
      "🍅 Tomate\n",
      "🍇 Uva\n",
      "🍈 Melón\n",
      "🍉 Sandía\n",
      "🍊 Naranja\n"
     ]
    }
   ],
   "source": [
    "print (\"Ejemplo 7\")\n",
    "frutas = {'🍅':'Tomate','🍇':'Uva','🍈':'Melón','🍉':'Sandía','🍊':'Naranja'}\n",
    "for clave in frutas:\n",
    "    print(clave, frutas[clave])"
   ]
  },
  {
   "cell_type": "markdown",
   "id": "45aed148",
   "metadata": {},
   "source": [
    "**Ejemplo 8**, imprimir los elementos del ciclo de vida de un pollo con flechas"
   ]
  },
  {
   "cell_type": "code",
   "execution_count": 11,
   "id": "d6081c94",
   "metadata": {},
   "outputs": [
    {
     "name": "stdout",
     "output_type": "stream",
     "text": [
      "Ejemplo 8\n",
      "🥚->🐣->🐥->🐤->🐔->🍗->"
     ]
    }
   ],
   "source": [
    "print (\"Ejemplo 8\")\n",
    "ciclo_vida = '🥚🐣🐥🐤🐔🍗'\n",
    "for etapa in ciclo_vida:\n",
    "    print(etapa, end=\"->\")"
   ]
  },
  {
   "cell_type": "markdown",
   "id": "a7765e72",
   "metadata": {},
   "source": [
    "**Ejemplo 9**, Listar los elementos de la siguiente serie"
   ]
  },
  {
   "cell_type": "code",
   "execution_count": 12,
   "id": "e7c3b1a9",
   "metadata": {},
   "outputs": [
    {
     "name": "stdout",
     "output_type": "stream",
     "text": [
      "Ejemplo 9\n",
      "🐶\n",
      "🐱\n",
      "🐰\n",
      "🐭\n"
     ]
    }
   ],
   "source": [
    "print (\"Ejemplo 9\")\n",
    "animales = ['🐶','🐱','🐰','🐭']\n",
    "for animal in animales:\n",
    "    print(animal)\n"
   ]
  },
  {
   "cell_type": "markdown",
   "id": "029fc0ce",
   "metadata": {},
   "source": [
    "**Ejemplo 10**, Listar los elementos de la siguiente serie"
   ]
  },
  {
   "cell_type": "code",
   "execution_count": 13,
   "id": "224c2b1e",
   "metadata": {},
   "outputs": [
    {
     "name": "stdout",
     "output_type": "stream",
     "text": [
      "Ejemplo 10\n",
      "🐶\n",
      "🐱\n",
      "🐰\n",
      "🐭\n"
     ]
    }
   ],
   "source": [
    "print (\"Ejemplo 10\")\n",
    "animales = ['🐶','🐱','🐰','🐭']\n",
    "for i in range(len(animales)):\n",
    "    print(animales[i])"
   ]
  },
  {
   "cell_type": "markdown",
   "id": "6ad30d10",
   "metadata": {},
   "source": [
    "Mediante enumarate()"
   ]
  },
  {
   "cell_type": "code",
   "execution_count": 14,
   "id": "4f68a7f3",
   "metadata": {},
   "outputs": [
    {
     "data": {
      "text/plain": [
       "<enumerate at 0x28facc7d1c0>"
      ]
     },
     "execution_count": 14,
     "metadata": {},
     "output_type": "execute_result"
    }
   ],
   "source": [
    "enumerate(['🐶','🐱','🐰','🐭'])"
   ]
  },
  {
   "cell_type": "markdown",
   "id": "de6dbb47",
   "metadata": {},
   "source": [
    "**Ejemplo 11** Listar los elementos de la siguiente serie['🐶','🐱','🐰','🐭']"
   ]
  },
  {
   "cell_type": "code",
   "execution_count": 15,
   "id": "f969a830",
   "metadata": {},
   "outputs": [
    {
     "name": "stdout",
     "output_type": "stream",
     "text": [
      "Ejemplo 11\n",
      "0 🐶 🐶\n",
      "1 🐱 🐱\n",
      "2 🐰 🐰\n",
      "3 🐭 🐭\n"
     ]
    }
   ],
   "source": [
    "print (\"Ejemplo 11\")\n",
    "animales = ['🐶','🐱','🐰','🐭']\n",
    "for i, animal in enumerate(animales):\n",
    "    print(i, animal, animales[i])\n"
   ]
  },
  {
   "cell_type": "code",
   "execution_count": 23,
   "id": "0f9e6ef9",
   "metadata": {},
   "outputs": [
    {
     "name": "stdout",
     "output_type": "stream",
     "text": [
      "⚽\n",
      "🏀🏀\n",
      "🏐🏐🏐\n",
      "🎱🎱🎱🎱\n"
     ]
    }
   ],
   "source": [
    "balones = \"⚽🏀🏐🎱\"\n",
    "for i, elemento in enumerate (balones):\n",
    "        veces = i+1\n",
    "        print(f\"{elemento*veces}\")"
   ]
  },
  {
   "cell_type": "code",
   "execution_count": 24,
   "id": "9cfe6fb5",
   "metadata": {},
   "outputs": [
    {
     "name": "stdout",
     "output_type": "stream",
     "text": [
      "Ejercicio 2\n",
      "⚽\n",
      "🏀🏀\n",
      "🏐🏐🏐\n",
      "🎱🎱🎱🎱\n"
     ]
    }
   ],
   "source": [
    "print(\"Ejercicio 2\")\n",
    "esferas ='⚽🏀🏐🎱'\n",
    "for i, esfera in enumerate(esferas):\n",
    "    print(esfera*(i+1))"
   ]
  },
  {
   "cell_type": "markdown",
   "id": "ac4aa14b",
   "metadata": {},
   "source": [
    "## Estrutura de control while\n"
   ]
  },
  {
   "cell_type": "markdown",
   "id": "d683160e",
   "metadata": {},
   "source": [
    "Ejemplo 12, imprimir los números mientras sean menores o igual a 5 empezando desde 0"
   ]
  },
  {
   "cell_type": "code",
   "execution_count": 25,
   "id": "2e88be7e",
   "metadata": {},
   "outputs": [
    {
     "name": "stdout",
     "output_type": "stream",
     "text": [
      "Ejemplo 12\n",
      "0\n",
      "1\n",
      "2\n",
      "3\n",
      "4\n",
      "5\n"
     ]
    }
   ],
   "source": [
    "print (\"Ejemplo 12\")\n",
    "i = 0\n",
    "while i <= 5:\n",
    "    print(i)\n",
    "    i += 1"
   ]
  },
  {
   "cell_type": "markdown",
   "id": "207248f4",
   "metadata": {},
   "source": [
    "**Ejemplo 13**, sumar los números miestras no se ingrese por teclado el número 0"
   ]
  },
  {
   "cell_type": "code",
   "execution_count": null,
   "id": "06179045",
   "metadata": {},
   "outputs": [],
   "source": [
    "print(\"Ejemplo 13\")\n",
    "suma = 0\n",
    "numero = int(input(\"Ingrese un numero: \"))\n",
    "while numero !=0:\n",
    "    suma += numero\n",
    "    numero = int(input(\"Ingrese un número: \"))\n",
    "print(suma)"
   ]
  },
  {
   "cell_type": "markdown",
   "id": "132d4a98",
   "metadata": {},
   "source": [
    "**Ejercicio 3**, Ingresa un número por teclado y genera un contador hasta 0, si el número es negativo no hace nada"
   ]
  },
  {
   "cell_type": "code",
   "execution_count": null,
   "id": "cd5d9218",
   "metadata": {},
   "outputs": [],
   "source": [
    "print (\"Ejercicio 3\")\n",
    "numero = int(input(\"Ingrese un número: \"))\n",
    "while numero >= 0:\n",
    "    print(numero)\n",
    "    numero -= 1"
   ]
  },
  {
   "cell_type": "markdown",
   "id": "d33e9d25",
   "metadata": {},
   "source": [
    "## BREAK    \n",
    "La setencia *break* es una palabra reservada que se usa para salir de un ciclo"
   ]
  },
  {
   "cell_type": "markdown",
   "id": "5e7d33ec",
   "metadata": {},
   "source": [
    "**Ejemplo 14**, de la siguiente lista de frutas imprimir los elementos hasta que se encuentre un gusano 🐛 con *for*"
   ]
  },
  {
   "cell_type": "code",
   "execution_count": 3,
   "id": "11f3b342",
   "metadata": {},
   "outputs": [
    {
     "name": "stdout",
     "output_type": "stream",
     "text": [
      "Ejemplo 14\n",
      "🍎\n",
      "🍌\n",
      "🍇\n",
      "🍉\n",
      "🍊\n",
      "Fin\n"
     ]
    }
   ],
   "source": [
    "frutas = ['🍎','🍌','🍇','🍉','🍊','🐛','🍋','🍍']\n",
    "print (\"Ejemplo 14\")\n",
    "for fruta in frutas:\n",
    "    if fruta == '🐛':\n",
    "        break\n",
    "    print(fruta)\n",
    "print (\"Fin\")"
   ]
  },
  {
   "cell_type": "code",
   "execution_count": 4,
   "id": "51f4f2c3",
   "metadata": {},
   "outputs": [
    {
     "name": "stdout",
     "output_type": "stream",
     "text": [
      "Ejemplo 14\n",
      "🍎\n",
      "🍌\n",
      "🍇\n",
      "🍉\n",
      "🍊\n",
      "🐛\n",
      "Fin\n"
     ]
    }
   ],
   "source": [
    "frutas = ['🍎','🍌','🍇','🍉','🍊','🐛','🍋','🍍']\n",
    "print (\"Ejemplo 14\")\n",
    "i = \"\"\n",
    "while i != '🐛':\n",
    "    i = frutas.pop(0)\n",
    "    print(i)\n",
    "print (\"Fin\")"
   ]
  },
  {
   "cell_type": "code",
   "execution_count": 5,
   "id": "c99e3f4c",
   "metadata": {},
   "outputs": [
    {
     "name": "stdout",
     "output_type": "stream",
     "text": [
      "Ejemplo 14\n",
      "🍎\n",
      "🍌\n",
      "🍇\n",
      "🍉\n",
      "🍊\n",
      "🐛\n",
      "Fin\n"
     ]
    }
   ],
   "source": [
    "frutas = ['🍎','🍌','🍇','🍉','🍊','🐛','🍋','🍍']\n",
    "print (\"Ejemplo 14\")\n",
    "i = \"\"\n",
    "while i != '🐛':\n",
    "    i = frutas.pop(0)\n",
    "    print(i)\n",
    "print (\"Fin\")"
   ]
  },
  {
   "cell_type": "markdown",
   "id": "aca7a1a6",
   "metadata": {},
   "source": [
    "## Ciclos infinitos\n",
    "Es un ciclo que no tiene una condición de salida."
   ]
  },
  {
   "cell_type": "code",
   "execution_count": null,
   "id": "10764eba",
   "metadata": {},
   "outputs": [],
   "source": [
    "print (\"Ejemplo 15\")\n",
    "contador = 0\n",
    "while True:\n",
    "    print(contador)\n",
    "    contador += 1"
   ]
  },
  {
   "cell_type": "markdown",
   "id": "47c9f20d",
   "metadata": {},
   "source": [
    "**Ejemplo 16**, Crear un ciclo infinito que pida una cadena de texto la ponga en mayúsculas y la imprima hasta que se ingrese la palabra salir"
   ]
  },
  {
   "cell_type": "code",
   "execution_count": null,
   "id": "a51311b0",
   "metadata": {},
   "outputs": [],
   "source": [
    "print (\"Ejemplo 16\")\n",
    "while True:\n",
    "    texto = input(\"Ingrese un texto: \")\n",
    "    if texto == 'salir':\n",
    "        break\n",
    "    print(texto.upper())\n",
    "print (\"Fin\")"
   ]
  },
  {
   "cell_type": "code",
   "execution_count": null,
   "id": "6c27d74d",
   "metadata": {},
   "outputs": [],
   "source": [
    "print(\"Ejercicio 4\")\n",
    "while True:\n",
    "    numero = int(input(\"Ingrese un número: \"))\n",
    "    if numero ==0:\n",
    "        break\n",
    "    print(\"Par\" if numero%2 ==0 else \"Impar\")"
   ]
  },
  {
   "cell_type": "markdown",
   "id": "e0905642",
   "metadata": {},
   "source": [
    "## ESTRUCTURAS POR COMPRENSIÓN"
   ]
  },
  {
   "cell_type": "markdown",
   "id": "44421cdc",
   "metadata": {},
   "source": [
    "**Ejemplo 17**, Crear una lista de los números pares del 2 al 10"
   ]
  },
  {
   "cell_type": "code",
   "execution_count": 1,
   "id": "5acc0e87",
   "metadata": {},
   "outputs": [
    {
     "name": "stdout",
     "output_type": "stream",
     "text": [
      "Ejemplo 17\n",
      "[2, 4, 6, 8, 10]\n"
     ]
    }
   ],
   "source": [
    "print (\"Ejemplo 17\")\n",
    "pares = [i for i in range(2, 11, 2)]\n",
    "print(pares)"
   ]
  },
  {
   "cell_type": "markdown",
   "id": "cdc0f5e6",
   "metadata": {},
   "source": [
    "**Ejemplo 18**, Crear una lista de los números pares del 2 al 10 con condicional"
   ]
  },
  {
   "cell_type": "code",
   "execution_count": 2,
   "id": "9b1590d2",
   "metadata": {},
   "outputs": [
    {
     "name": "stdout",
     "output_type": "stream",
     "text": [
      "Ejemplo 18\n",
      "[2, 4, 6, 8, 10]\n"
     ]
    }
   ],
   "source": [
    "print (\"Ejemplo 18\")\n",
    "pares = [i for i in range(2, 11) if i % 2 == 0]\n",
    "print(pares)"
   ]
  },
  {
   "cell_type": "markdown",
   "id": "5d6a7578",
   "metadata": {},
   "source": [
    "**Ejemplo 19**, Crear un diccionario números 2 al 10 donde si es par vale \"Par\" y si es impar valga \"Impar\""
   ]
  },
  {
   "cell_type": "code",
   "execution_count": null,
   "id": "cf25016a",
   "metadata": {},
   "outputs": [],
   "source": [
    "print (\"Ejemplo 19\")\n",
    "pares = {i: \"Par\" if i % 2 == 0 else \"Impar\" for i in range(2, 11)}\n",
    "print(pares)"
   ]
  },
  {
   "cell_type": "code",
   "execution_count": 3,
   "id": "0dda8f81",
   "metadata": {},
   "outputs": [
    {
     "name": "stdout",
     "output_type": "stream",
     "text": [
      "Ejercicio 5\n",
      "(1, 3, 5, 7, 9)\n"
     ]
    }
   ],
   "source": [
    "print (\"Ejercicio 5\")\n",
    "impares = tuple(i for i in range(1, 11) if i % 2 != 0)\n",
    "print(impares)"
   ]
  },
  {
   "cell_type": "markdown",
   "id": "8a3d33d4",
   "metadata": {},
   "source": [
    "## CICLOS ANIDADOS"
   ]
  },
  {
   "cell_type": "code",
   "execution_count": 4,
   "id": "d455915a",
   "metadata": {},
   "outputs": [
    {
     "name": "stdout",
     "output_type": "stream",
     "text": [
      "Ejemplo 20\n",
      "Tabla del 1\n",
      "1 x 1 = 1\n",
      "1 x 2 = 2\n",
      "1 x 3 = 3\n",
      "1 x 4 = 4\n",
      "1 x 5 = 5\n",
      "1 x 6 = 6\n",
      "1 x 7 = 7\n",
      "1 x 8 = 8\n",
      "1 x 9 = 9\n",
      "1 x 10 = 10\n",
      "Tabla del 2\n",
      "2 x 1 = 2\n",
      "2 x 2 = 4\n",
      "2 x 3 = 6\n",
      "2 x 4 = 8\n",
      "2 x 5 = 10\n",
      "2 x 6 = 12\n",
      "2 x 7 = 14\n",
      "2 x 8 = 16\n",
      "2 x 9 = 18\n",
      "2 x 10 = 20\n"
     ]
    }
   ],
   "source": [
    "print (\"Ejemplo 20\")\n",
    "for i in range(1, 3):\n",
    "    print(f\"Tabla del {i}\")\n",
    "    for j in range(1, 11):\n",
    "        print(f\"{i} x {j} = {i*j}\")\n"
   ]
  },
  {
   "cell_type": "markdown",
   "id": "578ee40f",
   "metadata": {},
   "source": [
    "**Ejemplo 21**, Introducir un número por teclado y crear una tabla de multiplicar de ese número del 1 al 10, si se ingresa 0 termina el programa"
   ]
  },
  {
   "cell_type": "code",
   "execution_count": null,
   "id": "e86fa454",
   "metadata": {},
   "outputs": [],
   "source": [
    "print (\"Ejemplo 21\")\n",
    "while True:\n",
    "    numero = int(input(\"Ingrese un número: \"))\n",
    "    if numero == 0:\n",
    "        break\n",
    "    print(f\"Tabla del {numero}\")\n",
    "    for i in range(1, 11):\n",
    "        print(f\"{numero} x {i} = {numero*i}\")\n",
    "print (\"Fin\")"
   ]
  },
  {
   "cell_type": "code",
   "execution_count": null,
   "id": "a5f89f6e",
   "metadata": {},
   "outputs": [
    {
     "name": "stdout",
     "output_type": "stream",
     "text": [
      "1 2 3 \n",
      "4 5 6 \n",
      "7 8 9 \n"
     ]
    }
   ],
   "source": [
    "matriz = [[1, 2, 3], [4, 5, 6], [7, 8, 9]]\n",
    "for fila in matriz:\n",
    "    for columna in fila:\n",
    "        print(columna, end=\" \")\n",
    "    print()"
   ]
  },
  {
   "cell_type": "markdown",
   "id": "895fc9ad",
   "metadata": {},
   "source": [
    "Ejemplo 22, Introducir un número por teclado y crear una matriz nxn con la letra X"
   ]
  },
  {
   "cell_type": "code",
   "execution_count": null,
   "id": "0f1df68d",
   "metadata": {},
   "outputs": [],
   "source": [
    "print (\"Ejemplo 22\")\n",
    "n = int(input(\"Ingrese un número: \"))\n",
    "matriz = [['X' for i in range(n)] for j in range(n)]\n",
    "for fila in matriz:\n",
    "    for columna in fila:\n",
    "        print(columna, end=\" \")\n",
    "    print()\n",
    "print (matriz)"
   ]
  },
  {
   "cell_type": "markdown",
   "id": "c6d30ec2",
   "metadata": {},
   "source": [
    "**Ejercicio 6**, Crear una matriz ingresando un número por teclado para el tamaño de la matriz y en cada posición colocar una tupla con (i, j)"
   ]
  },
  {
   "cell_type": "code",
   "execution_count": null,
   "id": "e36c4625",
   "metadata": {},
   "outputs": [],
   "source": [
    "print (\"Ejercicio 6\")\n",
    "n = int(input(\"Ingrese un número: \"))\n",
    "matriz = [[(j, i) for i in range(n)] for j in range(n)]\n",
    "for fila in matriz:\n",
    "    for columna in fila:\n",
    "        print(columna, end=\" \")\n",
    "    print()\n",
    "print (matriz)"
   ]
  }
 ],
 "metadata": {
  "kernelspec": {
   "display_name": "Python 3",
   "language": "python",
   "name": "python3"
  },
  "language_info": {
   "codemirror_mode": {
    "name": "ipython",
    "version": 3
   },
   "file_extension": ".py",
   "mimetype": "text/x-python",
   "name": "python",
   "nbconvert_exporter": "python",
   "pygments_lexer": "ipython3",
   "version": "3.10.4"
  }
 },
 "nbformat": 4,
 "nbformat_minor": 5
}
