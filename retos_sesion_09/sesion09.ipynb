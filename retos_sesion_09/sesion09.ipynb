{
 "cells": [
  {
   "cell_type": "markdown",
   "id": "e70a3b4d",
   "metadata": {},
   "source": [
    "# LISTAS"
   ]
  },
  {
   "cell_type": "markdown",
   "id": "dbe1a40a",
   "metadata": {},
   "source": [
    "Una lista es una estructura de datos, así como una tupla y una cadena es una secuencia de valores\n",
    "Una lista es una secuencia de objetos MUTABLES"
   ]
  },
  {
   "cell_type": "markdown",
   "id": "3ee17bf8",
   "metadata": {},
   "source": [
    "**Mutables**\n",
    "los elementos de una lista pueden ser modificados despues de su creacion"
   ]
  },
  {
   "cell_type": "code",
   "execution_count": 1,
   "id": "299d5cef",
   "metadata": {},
   "outputs": [
    {
     "name": "stdout",
     "output_type": "stream",
     "text": [
      "[4, 2, 3]\n"
     ]
    }
   ],
   "source": [
    "lista = [1,2,3]\n",
    "lista[0] = 4\n",
    "print (lista) #[4,2,3]"
   ]
  },
  {
   "cell_type": "markdown",
   "id": "06751c16",
   "metadata": {},
   "source": [
    "**Ordenada**\n",
    "Los elementos tienen un orden definido y no cambian a no ser que sean reordenados explícitamente modificando las lista"
   ]
  },
  {
   "cell_type": "code",
   "execution_count": 2,
   "id": "20cd2bba",
   "metadata": {},
   "outputs": [
    {
     "name": "stdout",
     "output_type": "stream",
     "text": [
      "False\n"
     ]
    }
   ],
   "source": [
    "lista1 = [1,2,3]\n",
    "lista2 = [3,2,1]\n",
    "print (lista1 == lista2)\n",
    "\n"
   ]
  },
  {
   "cell_type": "markdown",
   "id": "20db8ceb",
   "metadata": {},
   "source": [
    "**Indexada**\n",
    "Cada elemento tiene un índice asociado a su posición en la lista para acceder a el"
   ]
  },
  {
   "cell_type": "code",
   "execution_count": null,
   "id": "0fda1703",
   "metadata": {},
   "outputs": [
    {
     "name": "stdout",
     "output_type": "stream",
     "text": [
      "3\n"
     ]
    }
   ],
   "source": [
    "lista = [1,2,3]\n",
    "lista[0]#1\n",
    "lista[1]#2\n",
    "lista[2]#4\n",
    "print(lista[2])"
   ]
  },
  {
   "cell_type": "markdown",
   "id": "7c183c2a",
   "metadata": {},
   "source": [
    "### LISTA DE ENTEROS"
   ]
  },
  {
   "cell_type": "code",
   "execution_count": 4,
   "id": "3cf52708",
   "metadata": {},
   "outputs": [
    {
     "name": "stdout",
     "output_type": "stream",
     "text": [
      "Lista de enteros\n",
      "[1, 2, 3, 4, 5]\n"
     ]
    }
   ],
   "source": [
    "print (\"Lista de enteros\")\n",
    "mi_lista = [1,2,3,4,5]\n",
    "print (mi_lista)"
   ]
  },
  {
   "cell_type": "markdown",
   "id": "e040b053",
   "metadata": {},
   "source": [
    "### LISTA DE CADENAS"
   ]
  },
  {
   "cell_type": "code",
   "execution_count": 5,
   "id": "90d68e7e",
   "metadata": {},
   "outputs": [
    {
     "name": "stdout",
     "output_type": "stream",
     "text": [
      "Lista de cadenas\n",
      "['hola', 'mundo', 'python']\n"
     ]
    }
   ],
   "source": [
    "print (\"Lista de cadenas\")\n",
    "mi_lista = [\"hola\", \"mundo\", \"python\"]\n",
    "print (mi_lista)"
   ]
  },
  {
   "cell_type": "markdown",
   "id": "2fef946d",
   "metadata": {},
   "source": [
    "### LISTA MIXTA"
   ]
  },
  {
   "cell_type": "code",
   "execution_count": 6,
   "id": "f8f41b3d",
   "metadata": {},
   "outputs": [
    {
     "name": "stdout",
     "output_type": "stream",
     "text": [
      "Lista mixta\n",
      "[1, 'hola', 3.14, 'mundo', 5]\n"
     ]
    }
   ],
   "source": [
    "print (\"Lista mixta\")\n",
    "mi_lista = [1, \"hola\", 3.14, \"mundo\", 5]\n",
    "print (mi_lista)"
   ]
  },
  {
   "cell_type": "markdown",
   "id": "7483ea3e",
   "metadata": {},
   "source": [
    "### LISTA VACIA"
   ]
  },
  {
   "cell_type": "code",
   "execution_count": 7,
   "id": "a915ccda",
   "metadata": {},
   "outputs": [
    {
     "name": "stdout",
     "output_type": "stream",
     "text": [
      "Lista vacía\n",
      "[]\n"
     ]
    }
   ],
   "source": [
    "print (\"Lista vacía\")\n",
    "mi_lista = []\n",
    "print (mi_lista)"
   ]
  },
  {
   "cell_type": "markdown",
   "id": "a22c1fe8",
   "metadata": {},
   "source": [
    "* Lista a partir de un cadena *"
   ]
  },
  {
   "cell_type": "code",
   "execution_count": 8,
   "id": "cf5fa807",
   "metadata": {},
   "outputs": [
    {
     "name": "stdout",
     "output_type": "stream",
     "text": [
      "Lista a partir de una cadena\n",
      "['h', 'o', 'l', 'a', ' ', 'm', 'u', 'n', 'd', 'o']\n"
     ]
    }
   ],
   "source": [
    "print (\"Lista a partir de una cadena\")\n",
    "mi_lista = list(\"hola mundo\")\n",
    "print (mi_lista)"
   ]
  },
  {
   "cell_type": "markdown",
   "id": "4eea92fe",
   "metadata": {},
   "source": [
    "### LISTA A PARTIR DE UNA TUPLA"
   ]
  },
  {
   "cell_type": "code",
   "execution_count": 9,
   "id": "45671dcb",
   "metadata": {},
   "outputs": [
    {
     "name": "stdout",
     "output_type": "stream",
     "text": [
      "Lista a partir de una tupla\n",
      "(1, 2, 3, 4, 5)\n",
      "[1, 2, 3, 4, 5]\n"
     ]
    }
   ],
   "source": [
    "print (\"Lista a partir de una tupla\")\n",
    "mi_tupla = (1,2,3,4,5)\n",
    "print (mi_tupla)\n",
    "mi_lista = list(mi_tupla)\n",
    "print (mi_lista)"
   ]
  },
  {
   "cell_type": "markdown",
   "id": "00358491",
   "metadata": {},
   "source": [
    "### LISTAS POR COMPRENSIÓN"
   ]
  },
  {
   "cell_type": "code",
   "execution_count": 10,
   "id": "b8d87135",
   "metadata": {},
   "outputs": [
    {
     "name": "stdout",
     "output_type": "stream",
     "text": [
      "Lista por comprensión\n",
      "[0, 1, 2, 3, 4, 5, 6, 7, 8, 9]\n"
     ]
    }
   ],
   "source": [
    "print (\"Lista por comprensión\")\n",
    "mi_lista = [x for x in range(10)]\n",
    "print (mi_lista)"
   ]
  },
  {
   "cell_type": "markdown",
   "id": "9023dcfa",
   "metadata": {},
   "source": [
    "### INDEXACION Y SLICING\n",
    "Se puede acceder a los diferentes valores de la lista utilizando indexación\n",
    "\n",
    "Obtener solo una parte de la lista utilizando slicing\n",
    "\n",
    "Similar a las cadenas de texto y tuplas"
   ]
  },
  {
   "cell_type": "code",
   "execution_count": 11,
   "id": "41d9ad23",
   "metadata": {},
   "outputs": [
    {
     "name": "stdout",
     "output_type": "stream",
     "text": [
      "Indexación positivo de una lista\n",
      "1 <class 'int'>\n",
      "hola <class 'str'>\n",
      "3.14 <class 'float'>\n",
      "(1, 2) <class 'tuple'>\n"
     ]
    }
   ],
   "source": [
    "print (\"Indexación positivo de una lista\")\n",
    "lista = [1, \"hola\", 3.14, (1,2)]\n",
    "print (lista[0], type(lista[0])) \n",
    "print (lista[1], type(lista[1])) \n",
    "print (lista[2], type(lista[2])) \n",
    "print (lista[3], type(lista[3]))"
   ]
  },
  {
   "cell_type": "markdown",
   "id": "4db43603",
   "metadata": {},
   "source": [
    "**ACCESO UTILIZANDO INDICES NEGATIVOS**"
   ]
  },
  {
   "cell_type": "code",
   "execution_count": 12,
   "id": "13c572c7",
   "metadata": {},
   "outputs": [
    {
     "name": "stdout",
     "output_type": "stream",
     "text": [
      "Indexación negativo de una lista\n",
      "(1, 2) <class 'tuple'>\n",
      "3.14 <class 'float'>\n",
      "hola <class 'str'>\n",
      "1 <class 'int'>\n"
     ]
    }
   ],
   "source": [
    "print (\"Indexación negativo de una lista\")\n",
    "lista = [1, \"hola\", 3.14, (1,2)]\n",
    "print (lista[-1], type(lista[-1]))\n",
    "print (lista[-2], type(lista[-2]))\n",
    "print (lista[-3], type(lista[-3]))\n",
    "print (lista[-4], type(lista[-4]))"
   ]
  },
  {
   "cell_type": "markdown",
   "id": "3d5de39e",
   "metadata": {},
   "source": [
    "La indexación no se limita a obtener los valores de la lista\n",
    "\n",
    "También se puede modificar los valores de la lista original utilizando la indexación"
   ]
  },
  {
   "cell_type": "code",
   "execution_count": 13,
   "id": "0aacc085",
   "metadata": {},
   "outputs": [
    {
     "name": "stdout",
     "output_type": "stream",
     "text": [
      "Modificación de una lista\n",
      "[1, 'hola', 3.14, (1, 2)]\n",
      "[2, 'mundo', 3.14, (1, 2)]\n"
     ]
    }
   ],
   "source": [
    "print (\"Modificación de una lista\")\n",
    "lista = [1, \"hola\", 3.14, (1,2)]\n",
    "print (lista)\n",
    "lista[0] = 2\n",
    "lista[1] = \"mundo\"\n",
    "print (lista)"
   ]
  },
  {
   "cell_type": "markdown",
   "id": "48c3b45c",
   "metadata": {},
   "source": [
    "SLICING DE UNA LISTA"
   ]
  },
  {
   "cell_type": "code",
   "execution_count": 15,
   "id": "7fb63a9b",
   "metadata": {},
   "outputs": [
    {
     "name": "stdout",
     "output_type": "stream",
     "text": [
      "Slicing de una lista\n",
      "['P', 'y', 't', 'h', 'o', 'n', 'L', 'a', 'P', 'a', 'z']\n",
      "['t', 'h', 'o', 'n', 'L']\n",
      "<class 'list'>\n"
     ]
    }
   ],
   "source": [
    "print (\"Slicing de una lista\")\n",
    "lista = [\"P\", \"y\", \"t\", \"h\", \"o\", \"n\", \"L\", \"a\", \"P\", \"a\", \"z\"]\n",
    "print (lista)\n",
    "sub_lista = lista[2:7]\n",
    "print (sub_lista)\n",
    "print (type(sub_lista))"
   ]
  },
  {
   "cell_type": "markdown",
   "id": "b2ab5493",
   "metadata": {},
   "source": [
    "### SLICING CON PASO POSITIVO"
   ]
  },
  {
   "cell_type": "code",
   "execution_count": 16,
   "id": "2645be5e",
   "metadata": {},
   "outputs": [
    {
     "name": "stdout",
     "output_type": "stream",
     "text": [
      "Slicing con paso positivo\n",
      "['P', 'y', 't', 'h', 'o', 'n', 'L', 'a', 'P', 'a', 'z']\n",
      "['P', 'h', 'L']\n"
     ]
    }
   ],
   "source": [
    "print (\"Slicing con paso positivo\")\n",
    "lista = [\"P\", \"y\", \"t\", \"h\", \"o\", \"n\", \"L\", \"a\", \"P\", \"a\", \"z\"]\n",
    "print (lista)\n",
    "sub_lista = lista[0:9:3]\n",
    "print (sub_lista)"
   ]
  },
  {
   "cell_type": "markdown",
   "id": "3589030c",
   "metadata": {},
   "source": [
    "SLICING CON PASO NEGATIVO"
   ]
  },
  {
   "cell_type": "code",
   "execution_count": 17,
   "id": "b4d36a6b",
   "metadata": {},
   "outputs": [
    {
     "name": "stdout",
     "output_type": "stream",
     "text": [
      "Slicing con paso negativo\n",
      "['P', 'y', 't', 'h', 'o', 'n', 'L', 'a', 'P', 'a', 'z']\n",
      "['P', 'o']\n"
     ]
    }
   ],
   "source": [
    "print (\"Slicing con paso negativo\")\n",
    "lista = [\"P\", \"y\", \"t\", \"h\", \"o\", \"n\", \"L\", \"a\", \"P\", \"a\", \"z\"]\n",
    "print (lista)\n",
    "sub_lista = lista[8:2:-4]\n",
    "print (sub_lista)"
   ]
  },
  {
   "cell_type": "markdown",
   "id": "61712a93",
   "metadata": {},
   "source": [
    "## SLICING NEGATIVO CON PASO NEGATIVO"
   ]
  },
  {
   "cell_type": "code",
   "execution_count": null,
   "id": "5032435e",
   "metadata": {},
   "outputs": [],
   "source": [
    "print (\"Slicing negativo con paso negativo\")\n",
    "lista = [\"P\", \"y\", \"t\", \"h\", \"o\", \"n\", \"L\", \"a\", \"P\", \"a\", \"z\"]\n",
    "print (lista)\n",
    "sub_lista = lista[-1:-8:-2]\n",
    "print (sub_lista)"
   ]
  },
  {
   "cell_type": "markdown",
   "id": "b7efd826",
   "metadata": {},
   "source": [
    "## SLICING NEGATIVO CON PASO POSITIVO"
   ]
  },
  {
   "cell_type": "code",
   "execution_count": null,
   "id": "f647c8f0",
   "metadata": {},
   "outputs": [
    {
     "name": "stdout",
     "output_type": "stream",
     "text": [
      "Slicing negativo con paso negativo\n",
      "['P', 'y', 't', 'h', 'o', 'n', 'L', 'a', 'P', 'a', 'z']\n",
      "['z', 'P', 'L', 'o']\n"
     ]
    }
   ],
   "source": [
    "print (\"Slicing negativo con paso negativo\")\n",
    "lista = [\"P\", \"y\", \"t\", \"h\", \"o\", \"n\", \"L\", \"a\", \"P\", \"a\", \"z\"]\n",
    "print (lista)\n",
    "sub_lista = lista[-8:-1:2]\n",
    "print (sub_lista)"
   ]
  },
  {
   "cell_type": "markdown",
   "id": "29c80d17",
   "metadata": {},
   "source": [
    "### CONCATENACION DE LISTAS\n",
    "Las listas se pueden concatenar utilizando el operador +\n",
    "\n",
    "El resultado es una nueva lista con los elementos de las listas originales"
   ]
  },
  {
   "cell_type": "code",
   "execution_count": 20,
   "id": "c0405454",
   "metadata": {},
   "outputs": [
    {
     "name": "stdout",
     "output_type": "stream",
     "text": [
      "Concatenación de listas\n",
      "[1, 2, 3] ['a', 'b', 'c']\n",
      "[1, 2, 3, 'a', 'b', 'c']\n",
      "<class 'list'>\n"
     ]
    }
   ],
   "source": [
    "print (\"Concatenación de listas\")\n",
    "lista1 = [1,2,3]\n",
    "lista2 = [\"a\",\"b\",\"c\"]\n",
    "concatenar = lista1 + lista2\n",
    "print (lista1, lista2)\n",
    "print (concatenar)\n",
    "print (type(concatenar))"
   ]
  },
  {
   "cell_type": "markdown",
   "id": "c88ead36",
   "metadata": {},
   "source": [
    "### REPETICION DE LISTAS"
   ]
  },
  {
   "cell_type": "code",
   "execution_count": 21,
   "id": "86c8693f",
   "metadata": {},
   "outputs": [
    {
     "name": "stdout",
     "output_type": "stream",
     "text": [
      "Repetición de listas\n",
      "[True, False]\n",
      "[True, False, True, False, True, False]\n",
      "<class 'list'>\n"
     ]
    }
   ],
   "source": [
    "print (\"Repetición de listas\")\n",
    "lista = [True, False]\n",
    "repetir = lista * 3\n",
    "print (lista)\n",
    "print (repetir)\n",
    "print (type(repetir))"
   ]
  },
  {
   "cell_type": "markdown",
   "id": "479ef1fb",
   "metadata": {},
   "source": [
    "## METODO DE BUSQUEDA\n",
    "Las listas al ser mutables tiene una mayor cantidad de métodos que las tuplas\n",
    "index(valor) recibe un valor y devuelve el índice de la primera aparición en la lista, si no existe lanza un error"
   ]
  },
  {
   "cell_type": "code",
   "execution_count": 22,
   "id": "b10d0589",
   "metadata": {},
   "outputs": [
    {
     "name": "stdout",
     "output_type": "stream",
     "text": [
      "Método index(valor)\n",
      "hola 3\n",
      "3.14 2\n"
     ]
    }
   ],
   "source": [
    "print (\"Método index(valor)\")\n",
    "lista = [1,True,3.14,\"hola\",5]\n",
    "valor = \"hola\"\n",
    "print (valor, lista.index(valor))\n",
    "valor = 3.14\n",
    "print (valor, lista.index(valor))\n"
   ]
  },
  {
   "cell_type": "markdown",
   "id": "cc6ff711",
   "metadata": {},
   "source": [
    "count(valor) recibe un valor y devuelve el número de veces que aparece en la lista\n",
    "\n"
   ]
  },
  {
   "cell_type": "code",
   "execution_count": 23,
   "id": "6a56497f",
   "metadata": {},
   "outputs": [
    {
     "name": "stdout",
     "output_type": "stream",
     "text": [
      "Método count(valor)\n",
      "True 4\n",
      "3.14 2\n"
     ]
    }
   ],
   "source": [
    "print (\"Método count(valor)\")\n",
    "lista = [1,True,3.14,\"hola\",5, True, True, 3.140]\n",
    "valor = True\n",
    "print (valor, lista.count(valor))\n",
    "valor = 3.14\n",
    "print (valor, lista.count(valor))"
   ]
  },
  {
   "cell_type": "markdown",
   "id": "a3c821ab",
   "metadata": {},
   "source": [
    "### METODOS DE ADICIÓN\n",
    "Los métodos de adición nos permiten agregar elementos a la lista\n",
    "insert()\n",
    "append()\n",
    "extend()"
   ]
  },
  {
   "cell_type": "markdown",
   "id": "4cce1bca",
   "metadata": {},
   "source": [
    "insert(i, valor) recibe un índice  y un valor, inserta el valor en la posición del índice"
   ]
  },
  {
   "cell_type": "code",
   "execution_count": 24,
   "id": "f52cc758",
   "metadata": {},
   "outputs": [
    {
     "name": "stdout",
     "output_type": "stream",
     "text": [
      "Método insert(i, valor)\n",
      "[1, 2, 3, 4, 5]\n",
      "[1, 2, 'OwO', 3, 4, 5]\n"
     ]
    }
   ],
   "source": [
    "print (\"Método insert(i, valor)\")\n",
    "lista = [1,2,3,4,5]\n",
    "print (lista)\n",
    "lista.insert(2, \"OwO\")\n",
    "print (lista)"
   ]
  },
  {
   "cell_type": "markdown",
   "id": "bcc6c514",
   "metadata": {},
   "source": [
    "append(valor) recibe un valor y lo agrega al final de la lista, si se repite, se va agregando elementos a la lista"
   ]
  },
  {
   "cell_type": "code",
   "execution_count": 25,
   "id": "bad06a7e",
   "metadata": {},
   "outputs": [
    {
     "name": "stdout",
     "output_type": "stream",
     "text": [
      "Método append(valor)\n",
      "[1, 2, 3, 4, 5]\n",
      "[1, 2, 3, 4, 5, '(OwO=)']\n"
     ]
    }
   ],
   "source": [
    "print (\"Método append(valor)\")\n",
    "lista = [1,2,3,4,5]\n",
    "print (lista)\n",
    "lista.append(\"(OwO=)\")\n",
    "print (lista)"
   ]
  },
  {
   "cell_type": "markdown",
   "id": "f69c1acd",
   "metadata": {},
   "source": [
    "extend(iterable) recibe una secuencia y agrega sus elementos al final de la lista como otra lista, tupla, cadena"
   ]
  },
  {
   "cell_type": "code",
   "execution_count": 26,
   "id": "01470107",
   "metadata": {},
   "outputs": [
    {
     "name": "stdout",
     "output_type": "stream",
     "text": [
      "Método extend(iterable)\n",
      "[1, 2, 3]\n",
      "[1, 2, 3, ':', '3']\n",
      "[1, 2, 3, ':', '3', '(¬_¬ )', '(O_O=)']\n",
      "[1, 2, 3, ':', '3', '(¬_¬ )', '(O_O=)', '😅', '😎']\n"
     ]
    }
   ],
   "source": [
    "print (\"Método extend(iterable)\")\n",
    "lista = [1,2,3]\n",
    "print (lista)\n",
    "lista.extend(\":3\")\n",
    "print (lista)\n",
    "lista.extend([\"(¬_¬ )\", \"(O_O=)\"])\n",
    "print (lista)\n",
    "lista.extend((\"😅\", \"😎\"))\n",
    "print (lista)"
   ]
  },
  {
   "cell_type": "markdown",
   "id": "5feef2c2",
   "metadata": {},
   "source": [
    "## METODOS DE ELIMINACIÓN\n",
    "Métodos de eliminación\n",
    "Los métodos de eliminación nos permiten eliminar elementos de la lista\n",
    "\n",
    "remove()\n",
    "clear()\n",
    "No retornan un valor, modifican la lista original\n",
    "\n",
    "pop()\n",
    "Retorna el valor eliminado y modifica la lista original"
   ]
  },
  {
   "cell_type": "code",
   "execution_count": 27,
   "id": "a910426a",
   "metadata": {},
   "outputs": [
    {
     "name": "stdout",
     "output_type": "stream",
     "text": [
      "Método remove(valor)\n",
      "[1, 2, 'UwU', 4, 5, 'UwU']\n",
      "[1, 2, 4, 5, 'UwU']\n"
     ]
    }
   ],
   "source": [
    "print (\"Método remove(valor)\")\n",
    "lista = [1,2,\"UwU\",4,5, \"UwU\"]\n",
    "print (lista)\n",
    "lista.remove(\"UwU\")\n",
    "print (lista)"
   ]
  },
  {
   "cell_type": "markdown",
   "id": "f9055c6d",
   "metadata": {},
   "source": [
    "pop(i) o pop() recibe un index o índice y elimina el elemento en esa posición\n",
    "\n",
    "Si no se especifica el índice elimina el **último elemento**"
   ]
  },
  {
   "cell_type": "code",
   "execution_count": 28,
   "id": "fa1e2be5",
   "metadata": {},
   "outputs": [
    {
     "name": "stdout",
     "output_type": "stream",
     "text": [
      "Método pop(i)\n",
      "['OwO', 3, 'UwU', 5]\n",
      "['OwO', 'UwU', 5]\n",
      "Método pop()\n",
      "['OwO', 'UwU']\n"
     ]
    }
   ],
   "source": [
    "print (\"Método pop(i)\")\n",
    "lista = [\"OwO\",3,\"UwU\",5]\n",
    "print (lista)\n",
    "lista.pop(1)\n",
    "print (lista)\n",
    "print (\"Método pop()\")\n",
    "lista.pop()\n",
    "print (lista)"
   ]
  },
  {
   "cell_type": "markdown",
   "id": "72ed9e28",
   "metadata": {},
   "source": [
    "clear() elimina todos los elementos de la lista dejándola vacía"
   ]
  },
  {
   "cell_type": "code",
   "execution_count": 29,
   "id": "849b3247",
   "metadata": {},
   "outputs": [
    {
     "name": "stdout",
     "output_type": "stream",
     "text": [
      "Método clear()\n",
      "['ewe', 'OwO', 'UwU']\n",
      "[]\n"
     ]
    }
   ],
   "source": [
    "print (\"Método clear()\")\n",
    "lista = [\"ewe\",\"OwO\",\"UwU\"]\n",
    "print (lista)\n",
    "lista.clear()\n",
    "print (lista)"
   ]
  },
  {
   "cell_type": "markdown",
   "id": "a66c5c5e",
   "metadata": {},
   "source": [
    "## METODOS DE ORDENAMINETO\n",
    "Los métodos de reordenar nos permiten ordenar los elementos de la lista\n",
    "\n",
    "sort()\n",
    "reverse()\n",
    "No retornan un valor, modifican la lista original"
   ]
  },
  {
   "cell_type": "markdown",
   "id": "8ce1bb91",
   "metadata": {},
   "source": [
    "sort() ordena los elementos de la lista de menor a mayor"
   ]
  },
  {
   "cell_type": "code",
   "execution_count": 12,
   "id": "dbd7afdf",
   "metadata": {},
   "outputs": [
    {
     "name": "stdout",
     "output_type": "stream",
     "text": [
      "Método sort()\n",
      "[3, 1, 5, 2, 4]\n",
      "[1, 2, 3, 4, 5]\n"
     ]
    }
   ],
   "source": [
    "print (\"Método sort()\")\n",
    "lista = [3,1,5,2,4]\n",
    "print (lista)\n",
    "lista.sort()\n",
    "print (lista)"
   ]
  },
  {
   "cell_type": "markdown",
   "id": "0c2bd862",
   "metadata": {},
   "source": [
    "sort(reverse=True) ordena los elementos de la lista de mayor a menor"
   ]
  },
  {
   "cell_type": "code",
   "execution_count": 13,
   "id": "a0cc9fed",
   "metadata": {},
   "outputs": [
    {
     "name": "stdout",
     "output_type": "stream",
     "text": [
      "Método sort()\n",
      "[3, 1, 5, 2, 4]\n",
      "[5, 4, 3, 2, 1]\n"
     ]
    }
   ],
   "source": [
    "print (\"Método sort()\")\n",
    "lista = [3,1,5,2,4]\n",
    "print (lista)\n",
    "lista.sort(reverse=True)\n",
    "print (lista)"
   ]
  },
  {
   "cell_type": "markdown",
   "id": "8d458615",
   "metadata": {},
   "source": [
    "reverse() invierte el orden de los elementos de la lista"
   ]
  },
  {
   "cell_type": "code",
   "execution_count": 14,
   "id": "82628abf",
   "metadata": {},
   "outputs": [
    {
     "name": "stdout",
     "output_type": "stream",
     "text": [
      "Método reverse()\n",
      "[3, 1, 5, 2, 4]\n",
      "[4, 2, 5, 1, 3]\n"
     ]
    }
   ],
   "source": [
    "print (\"Método reverse()\")\n",
    "lista = [3,1,5,2,4]\n",
    "print (lista)\n",
    "lista.reverse()\n",
    "print (lista)"
   ]
  },
  {
   "cell_type": "markdown",
   "id": "03e849e7",
   "metadata": {},
   "source": [
    "### METODOS DE COPIA\n",
    "Nos permiten copiar los elementos de la lista\n",
    "-copy()"
   ]
  },
  {
   "cell_type": "code",
   "execution_count": 15,
   "id": "8cf8745f",
   "metadata": {},
   "outputs": [
    {
     "name": "stdout",
     "output_type": "stream",
     "text": [
      "Asignación de lista\n",
      "[1, 2, 3, 4, 5]\n",
      "[6, 2, 3, 4, 5]\n",
      "[6, 2, 3, 4, 5]\n"
     ]
    }
   ],
   "source": [
    "print (\"Asignación de lista\")\n",
    "lista = [1,2,3,4,5]\n",
    "print (lista)\n",
    "copia = lista\n",
    "copia[0] = 6\n",
    "print (copia)\n",
    "print (lista)"
   ]
  },
  {
   "cell_type": "markdown",
   "id": "491f0f51",
   "metadata": {},
   "source": [
    "Para crear una copia de la lista se debe utilizar el método copy() o el slicing [:]"
   ]
  },
  {
   "cell_type": "code",
   "execution_count": null,
   "id": "82aa4309",
   "metadata": {},
   "outputs": [
    {
     "name": "stdout",
     "output_type": "stream",
     "text": [
      "Método copia con slicing\n",
      "[1, 2, 3, 4, 5]\n",
      "[6, 2]\n",
      "[1, 2, 3, 4, 5]\n"
     ]
    }
   ],
   "source": [
    "print (\"Método copia con slicing\")\n",
    "lista = [1,2,3,4,5]\n",
    "print (lista)\n",
    "copia = lista[:]\n",
    "copia[0] = 6\n",
    "print (copia)\n",
    "print (lista)"
   ]
  },
  {
   "cell_type": "markdown",
   "id": "b53c5fa3",
   "metadata": {},
   "source": [
    "copy() devuelve una copia de la lista es equivalente al slicing [:]"
   ]
  },
  {
   "cell_type": "code",
   "execution_count": 17,
   "id": "45ffd775",
   "metadata": {},
   "outputs": [
    {
     "name": "stdout",
     "output_type": "stream",
     "text": [
      "Método copy()\n",
      "[3, 1, 5, 2, 4]\n",
      "[3, 1, 5, 2, 4]\n",
      "True\n"
     ]
    }
   ],
   "source": [
    "print (\"Método copy()\")\n",
    "lista = [3,1,5,2,4]\n",
    "print (lista)\n",
    "copia = lista.copy()\n",
    "print (copia)\n",
    "print (copia == lista)\n"
   ]
  },
  {
   "cell_type": "markdown",
   "id": "18503b1c",
   "metadata": {},
   "source": [
    "* Metodo copia con slicing *"
   ]
  },
  {
   "cell_type": "code",
   "execution_count": 18,
   "id": "09000916",
   "metadata": {},
   "outputs": [
    {
     "name": "stdout",
     "output_type": "stream",
     "text": [
      "Método copia con slicing\n",
      "[1, 2, 3, 4, 5]\n",
      "[6, 2, 3, 4, 5]\n",
      "[1, 2, 3, 4, 5]\n"
     ]
    }
   ],
   "source": [
    "print (\"Método copia con slicing\")\n",
    "lista = [1,2,3,4,5]\n",
    "print (lista)\n",
    "copia = lista.copy()\n",
    "copia[0] = 6\n",
    "print (copia)\n",
    "print (lista)"
   ]
  },
  {
   "cell_type": "markdown",
   "id": "272c974f",
   "metadata": {},
   "source": [
    "### FUNCIONES CON LISTAS\n",
    "len () devuelve la longitud de la lista o el número de elementos que contiene"
   ]
  },
  {
   "cell_type": "code",
   "execution_count": 19,
   "id": "99bab5f0",
   "metadata": {},
   "outputs": [
    {
     "name": "stdout",
     "output_type": "stream",
     "text": [
      "Función len()\n",
      "[1, True, 3.14, '🐍', 5]\n",
      "5\n"
     ]
    }
   ],
   "source": [
    "print (\"Función len()\")\n",
    "lista = [1,True,3.14,\"🐍\",5]\n",
    "print (lista)\n",
    "print (len(lista))"
   ]
  },
  {
   "cell_type": "markdown",
   "id": "9a806ae2",
   "metadata": {},
   "source": [
    "max() devuelve el valor máximo de la lista o el elemento más grande"
   ]
  },
  {
   "cell_type": "code",
   "execution_count": 20,
   "id": "fdb909a4",
   "metadata": {},
   "outputs": [
    {
     "name": "stdout",
     "output_type": "stream",
     "text": [
      "Función max()\n",
      "[1, 2, 3, 4, 5]\n",
      "5\n",
      "['a', 'b', 'c', 'd', 'e']\n",
      "e\n"
     ]
    }
   ],
   "source": [
    "print (\"Función max()\")\n",
    "lista = [1,2,3,4,5]\n",
    "print (lista)\n",
    "print (max(lista))\n",
    "lista = [\"a\",\"b\",\"c\",\"d\",\"e\"]\n",
    "print (lista)\n",
    "print (max(lista))"
   ]
  },
  {
   "cell_type": "markdown",
   "id": "6b76e1df",
   "metadata": {},
   "source": [
    "min() devuelve el valor mínimo de la lista o el elemento más pequeño\n",
    "\n",
    "Si la lista contiene cadenas devuelve el valor mínimo en orden alfabético\n",
    "\n",
    "Si la lista contiene enteros y flotantes devuelve el valor mínimo numérico"
   ]
  },
  {
   "cell_type": "code",
   "execution_count": 21,
   "id": "1bc089b6",
   "metadata": {},
   "outputs": [
    {
     "name": "stdout",
     "output_type": "stream",
     "text": [
      "Función min()\n",
      "[1, 2, 3, 4, 5]\n",
      "1\n",
      "['a', 'b', 'c', 'd', 'e']\n",
      "a\n"
     ]
    }
   ],
   "source": [
    "print (\"Función min()\")\n",
    "lista = [1,2,3,4,5]\n",
    "print (lista)\n",
    "print (min(lista))\n",
    "lista = [\"a\",\"b\",\"c\",\"d\",\"e\"]\n",
    "print (lista)\n",
    "print (min(lista))"
   ]
  },
  {
   "cell_type": "markdown",
   "id": "dd5c279d",
   "metadata": {},
   "source": [
    "sum() devuelve la suma de los elementos de la lista\n",
    "\n",
    "Se debe asegurar que los elementos de la lista sean numéricos"
   ]
  },
  {
   "cell_type": "code",
   "execution_count": 22,
   "id": "518b3bc3",
   "metadata": {},
   "outputs": [
    {
     "name": "stdout",
     "output_type": "stream",
     "text": [
      "Función sum()\n",
      "[1, 2, 3, 4, 5]\n",
      "15\n"
     ]
    }
   ],
   "source": [
    "print (\"Función sum()\")\n",
    "lista = [1,2,3,4,5]\n",
    "print (lista)\n",
    "print (sum(lista))"
   ]
  },
  {
   "cell_type": "markdown",
   "id": "a4867dcb",
   "metadata": {},
   "source": [
    "### COMPARACION DE LISTAS"
   ]
  },
  {
   "cell_type": "code",
   "execution_count": 23,
   "id": "5bd3c4ce",
   "metadata": {},
   "outputs": [
    {
     "name": "stdout",
     "output_type": "stream",
     "text": [
      "Comparación de listas\n",
      "[1, 2, 3, 4, 5]\n",
      "True\n",
      "False\n",
      "False\n",
      "True\n",
      "False\n"
     ]
    }
   ],
   "source": [
    "print (\"Comparación de listas\")\n",
    "lista = [1,2,3,4,5]\n",
    "print (lista)\n",
    "print (3 in lista)\n",
    "print (6 in lista)\n",
    "print (3 not in lista)\n",
    "print (6 not in lista)\n",
    "print ([1,2,3] in lista)\n"
   ]
  },
  {
   "cell_type": "code",
   "execution_count": 24,
   "id": "85e3177f",
   "metadata": {},
   "outputs": [
    {
     "name": "stdout",
     "output_type": "stream",
     "text": [
      "Comparación de listas\n",
      "[1, 2, 3, 4, 5] [1, 2, 3, 4, 5] [1, 2]\n",
      "False\n",
      "True\n",
      "False\n"
     ]
    }
   ],
   "source": [
    "print (\"Comparación de listas\")\n",
    "lista1 = [1,2,3,4,5]\n",
    "lista2 = [1,2,3,4,5]\n",
    "lista3 = [1,2]\n",
    "print (lista1, lista2, lista3)\n",
    "print (lista1 is lista2)\n",
    "print (lista1 is not lista2)\n",
    "print (lista3 is lista1)"
   ]
  },
  {
   "cell_type": "markdown",
   "id": "478c30c5",
   "metadata": {},
   "source": [
    "### OPERADORES DE COMPARACIÓN\n",
    "Podemos comparar listas utilizando los operadores de comparación, estos comparan los elementos de las listas uno a uno\n",
    "\n",
    "== - Igualdad\n",
    "!= - Desigualdad\n",
    "> - Mayor que\n",
    "< - Menor que\n",
    ">= - Mayor o igual que\n",
    "<= - Menor o igual que"
   ]
  },
  {
   "cell_type": "code",
   "execution_count": 25,
   "id": "96143fe2",
   "metadata": {},
   "outputs": [
    {
     "name": "stdout",
     "output_type": "stream",
     "text": [
      "Menor y Menor Igual que\n",
      "True\n",
      "False\n",
      "True\n",
      "False\n",
      "True\n"
     ]
    }
   ],
   "source": [
    "print (\"Menor y Menor Igual que\")\n",
    "print ([1,2,3] <= [1,2,4])\n",
    "print ([1,2,3] <= [1,2,2,2])\n",
    "print ([1,2,3] <= [2])\n",
    "print ([1,2,3] < [1,2,3])\n",
    "print ([1,2,3] <= [1,2,3])"
   ]
  },
  {
   "cell_type": "markdown",
   "id": "f47b333c",
   "metadata": {},
   "source": [
    "> y >=\n",
    "\n",
    "Comienza comparando el primer elemento de cada lista\n",
    "Si son iguales pasa al siguiente elemento de cada lista"
   ]
  },
  {
   "cell_type": "code",
   "execution_count": 26,
   "id": "b4fbb585",
   "metadata": {},
   "outputs": [
    {
     "name": "stdout",
     "output_type": "stream",
     "text": [
      "Mayor y Mayor Igual que\n",
      "False\n",
      "True\n",
      "False\n",
      "False\n",
      "True\n"
     ]
    }
   ],
   "source": [
    "print (\"Mayor y Mayor Igual que\")\n",
    "print ([1,2,3] >= [1,2,4])\n",
    "print ([1,2,3] >= [1,2,2,2])\n",
    "print ([1,2,3] >= [2])\n",
    "print ([1,2,3] > [1,2,3])\n",
    "print ([1,2,3] >= [1,2,3])"
   ]
  },
  {
   "cell_type": "markdown",
   "id": "4b4492d4",
   "metadata": {},
   "source": [
    "== y !=\n",
    "\n",
    "Compara si los elementos de las listas son iguales\n",
    "Si todos los elementos son iguales el resultado es True\n",
    "Si al menos un elemento es diferente el resultado es False"
   ]
  },
  {
   "cell_type": "code",
   "execution_count": 29,
   "id": "066a252e",
   "metadata": {},
   "outputs": [
    {
     "name": "stdout",
     "output_type": "stream",
     "text": [
      "Igual y Desigual que\n",
      "True\n",
      "False\n",
      "False\n",
      "True\n"
     ]
    }
   ],
   "source": [
    "print (\"Igual y Desigual que\")\n",
    "print ([1,2,3] == [1,2,3])\n",
    "print ([1,2,3] == [1,2,4])\n",
    "print ([1,2,3] != [1,2,3])\n",
    "print ([1,2,3] != [1,2,4])"
   ]
  },
  {
   "cell_type": "markdown",
   "id": "799db4db",
   "metadata": {},
   "source": [
    "### LISTAS ANIDADAS\n",
    "Las listas anidadas son listas que contienen otras listas como elementos\n",
    "\n",
    "Se pueden crear listas anidadas de cualquier profundidad"
   ]
  },
  {
   "cell_type": "code",
   "execution_count": 28,
   "id": "6597380b",
   "metadata": {},
   "outputs": [
    {
     "name": "stdout",
     "output_type": "stream",
     "text": [
      "Listas anidadas\n",
      "[1, 2, 3, [4, 5, 6]]\n",
      "<class 'list'>\n",
      "[4, 5, 6]\n",
      "<class 'list'>\n",
      "5\n",
      "<class 'int'>\n"
     ]
    }
   ],
   "source": [
    "print (\"Listas anidadas\")\n",
    "lista = [1,2,3,[4,5,6]]\n",
    "print (lista)\n",
    "print (type(lista))\n",
    "valor_lista = lista[3]\n",
    "print (valor_lista)\n",
    "print (type(valor_lista))\n",
    "valor = valor_lista[1]\n",
    "print (valor)\n",
    "print (type(valor))"
   ]
  }
 ],
 "metadata": {
  "kernelspec": {
   "display_name": "Python 3",
   "language": "python",
   "name": "python3"
  },
  "language_info": {
   "codemirror_mode": {
    "name": "ipython",
    "version": 3
   },
   "file_extension": ".py",
   "mimetype": "text/x-python",
   "name": "python",
   "nbconvert_exporter": "python",
   "pygments_lexer": "ipython3",
   "version": "3.10.4"
  }
 },
 "nbformat": 4,
 "nbformat_minor": 5
}
