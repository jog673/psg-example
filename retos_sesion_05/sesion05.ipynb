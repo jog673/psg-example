{
 "cells": [
  {
   "cell_type": "markdown",
   "id": "db16c474",
   "metadata": {},
   "source": [
    "# Valor 0.5 flotante"
   ]
  },
  {
   "cell_type": "code",
   "execution_count": 1,
   "id": "1b095686",
   "metadata": {},
   "outputs": [
    {
     "name": "stdout",
     "output_type": "stream",
     "text": [
      "0.5\n",
      "<class 'float'>\n"
     ]
    }
   ],
   "source": [
    "print (0.5)\n",
    "print ( type (0.5) )"
   ]
  },
  {
   "cell_type": "markdown",
   "id": "8cb6a01a",
   "metadata": {},
   "source": [
    "# Operadores aritméticos"
   ]
  },
  {
   "cell_type": "markdown",
   "id": "8719bdb1",
   "metadata": {},
   "source": [
    "# "
   ]
  },
  {
   "cell_type": "code",
   "execution_count": 2,
   "id": "d6a06b08",
   "metadata": {},
   "outputs": [
    {
     "name": "stdout",
     "output_type": "stream",
     "text": [
      "Suma\n",
      "13\n",
      "Resta\n",
      "7\n",
      "Multiplicación\n",
      "30\n",
      "División\n",
      "3.3333333333333335\n",
      "Potencia\n",
      "1000\n",
      "Módulo o residuo\n",
      "1\n",
      "División entera\n",
      "3\n"
     ]
    }
   ],
   "source": [
    "\t# Operadores aritméticos\n",
    "a = 10\n",
    "b = 3\n",
    "# Suma\n",
    "print (\"Suma\")\n",
    "print (a + b)\n",
    "# Resta\n",
    "print (\"Resta\")\n",
    "print (a - b)\n",
    "# Multiplicación\n",
    "print (\"Multiplicación\")\n",
    "print (a * b)\n",
    "# División\n",
    "print (\"División\")\n",
    "print (a / b)\n",
    "# Potencia\n",
    "print (\"Potencia\")\n",
    "print (a ** b)\n",
    "# Módulo o residuo\n",
    "print (\"Módulo o residuo\")\n",
    "print (a % b)\n",
    "# División entera\n",
    "print (\"División entera\")\n",
    "print (a // b)"
   ]
  },
  {
   "cell_type": "markdown",
   "id": "0c20ee06",
   "metadata": {},
   "source": [
    "# Ejercicio 01\n",
    "Un contador tiene 300 minutos y se le suman 3600 segundos, ¿Cuántas horas en total son?\n",
    "\n",
    "Recuerda que una hora tiene 60 minutos y un minuto tiene 60 segundos\n",
    "\n"
   ]
  },
  {
   "cell_type": "code",
   "execution_count": 3,
   "id": "3831ff96",
   "metadata": {},
   "outputs": [
    {
     "name": "stdout",
     "output_type": "stream",
     "text": [
      "6.0\n"
     ]
    }
   ],
   "source": [
    "minutos = 300\n",
    "tiempo_extra_segundos = 3600\n",
    "horas = (minutos + tiempo_extra_segundos / 60) / 60\n",
    "print (horas)"
   ]
  },
  {
   "cell_type": "markdown",
   "id": "c2c8ece5",
   "metadata": {},
   "source": [
    "# Operadores de comparación"
   ]
  },
  {
   "cell_type": "code",
   "execution_count": null,
   "id": "d908a111",
   "metadata": {},
   "outputs": [],
   "source": [
    "print (\"Operadores de comparación\")\n",
    "comparar = 10\n",
    "print (comparar < 10)\n",
    "print (comparar > 10)\n",
    "print (comparar == 10)\n",
    "print (comparar <= 10)\n",
    "print (comparar >= 10)\n",
    "print (comparar != 10)\n",
    "\n",
    "print (\"Operadores de comparación con int - float\")\n",
    "entero = 10\n",
    "flotante = 10.0\n",
    "print (entero < flotante)\n",
    "print (entero > flotante)\n",
    "print (entero == flotante)\n",
    "print (entero <= flotante)\n",
    "print (entero >= flotante)\n",
    "print (entero != flotante)"
   ]
  },
  {
   "cell_type": "markdown",
   "id": "d45e5505",
   "metadata": {},
   "source": []
  }
 ],
 "metadata": {
  "kernelspec": {
   "display_name": "Python 3",
   "language": "python",
   "name": "python3"
  },
  "language_info": {
   "codemirror_mode": {
    "name": "ipython",
    "version": 3
   },
   "file_extension": ".py",
   "mimetype": "text/x-python",
   "name": "python",
   "nbconvert_exporter": "python",
   "pygments_lexer": "ipython3",
   "version": "3.10.4"
  }
 },
 "nbformat": 4,
 "nbformat_minor": 5
}
