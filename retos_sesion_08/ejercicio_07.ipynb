{
 "cells": [
  {
   "cell_type": "markdown",
   "id": "15a30348",
   "metadata": {},
   "source": [
    "# TUPLAS"
   ]
  },
  {
   "cell_type": "markdown",
   "id": "dd5abae9",
   "metadata": {},
   "source": [
    "Una tupla es un par ordenado de elementos que almacenan juntos *(x,y)*\n",
    "Es una secuencia de datos indexada\n",
    "Las tuplas son\n"
   ]
  },
  {
   "cell_type": "markdown",
   "id": "bccc0fb6",
   "metadata": {},
   "source": [
    "- Ordenada: Los elementos tienen un orden definido y no cambian"
   ]
  },
  {
   "cell_type": "code",
   "execution_count": 2,
   "id": "98a71ad1",
   "metadata": {},
   "outputs": [
    {
     "name": "stdout",
     "output_type": "stream",
     "text": [
      "False\n"
     ]
    }
   ],
   "source": [
    "tupla1 =(1,2,3)\n",
    "tupla2 =(3,2,1)\n",
    "print(tupla1==tupla2)\n"
   ]
  },
  {
   "cell_type": "markdown",
   "id": "e7854a7e",
   "metadata": {},
   "source": [
    "- Indexada:Cada elmento tiene un indice"
   ]
  },
  {
   "cell_type": "code",
   "execution_count": 4,
   "id": "0ee3d871",
   "metadata": {},
   "outputs": [
    {
     "data": {
      "text/plain": [
       "3"
      ]
     },
     "execution_count": 4,
     "metadata": {},
     "output_type": "execute_result"
    }
   ],
   "source": [
    "tupla = (1,2,3)\n",
    "tupla[0]\n",
    "tupla[1]\n",
    "tupla[2]\n"
   ]
  },
  {
   "cell_type": "markdown",
   "id": "da71bacd",
   "metadata": {},
   "source": [
    "## Para que se usa una Tupla\n",
    "- Empaquetado y desempaquetado de valores"
   ]
  },
  {
   "cell_type": "code",
   "execution_count": 5,
   "id": "07c0d6af",
   "metadata": {},
   "outputs": [],
   "source": [
    "coordenadas = (3,5)\n",
    "x,y = coordenadas"
   ]
  },
  {
   "cell_type": "markdown",
   "id": "945eefac",
   "metadata": {},
   "source": [
    "- Enviar y devolver multiples valores de una funcion"
   ]
  },
  {
   "cell_type": "code",
   "execution_count": 6,
   "id": "f0b07061",
   "metadata": {},
   "outputs": [],
   "source": [
    "def coordenadas(coordenada):\n",
    "    x,y = coordenada\n",
    "    x = x + 1\n",
    "    y = y + 1\n",
    "    return (x,y)"
   ]
  },
  {
   "cell_type": "markdown",
   "id": "a3c8e75d",
   "metadata": {},
   "source": [
    "- En diccionarios se puede utilizar una tupla como una llave compuesta"
   ]
  },
  {
   "cell_type": "code",
   "execution_count": 7,
   "id": "86b04270",
   "metadata": {},
   "outputs": [],
   "source": [
    "agenda = {('Juan','Perez'): 1234567}"
   ]
  },
  {
   "cell_type": "markdown",
   "id": "029e446b",
   "metadata": {},
   "source": [
    "- Una tupla puede almacenar cualquier tipo de dato a la vez"
   ]
  },
  {
   "cell_type": "code",
   "execution_count": 8,
   "id": "8a6193de",
   "metadata": {},
   "outputs": [],
   "source": [
    "tupla = (1,2.0,'hola',True)"
   ]
  },
  {
   "cell_type": "markdown",
   "id": "270ad528",
   "metadata": {},
   "source": [
    "### Tupla de enteros"
   ]
  },
  {
   "cell_type": "code",
   "execution_count": 9,
   "id": "9b2705d5",
   "metadata": {},
   "outputs": [
    {
     "name": "stdout",
     "output_type": "stream",
     "text": [
      "Tupla de enteros\n",
      "(1, 2, 3, 4, 5, 6)\n",
      "<class 'tuple'>\n"
     ]
    }
   ],
   "source": [
    "print (\"Tupla de enteros\")\n",
    "enteros = (1,2,3,4,5,6)\n",
    "print (enteros)\n",
    "print (type(enteros))"
   ]
  },
  {
   "cell_type": "markdown",
   "id": "a7d3a8d0",
   "metadata": {},
   "source": [
    "### Tupla de cadenas"
   ]
  },
  {
   "cell_type": "code",
   "execution_count": 10,
   "id": "142809ab",
   "metadata": {},
   "outputs": [
    {
     "name": "stdout",
     "output_type": "stream",
     "text": [
      "Tupla de cadenas\n",
      "('hola', 'mundo', 'desde', 'python')\n",
      "<class 'tuple'>\n"
     ]
    }
   ],
   "source": [
    "print (\"Tupla de cadenas\")\n",
    "cadenas = (\"hola\", \"mundo\", \"desde\", \"python\")\n",
    "print (cadenas)\n",
    "print (type(cadenas))"
   ]
  },
  {
   "cell_type": "markdown",
   "id": "e05bc29e",
   "metadata": {},
   "source": [
    "### Tuplas mixtas"
   ]
  },
  {
   "cell_type": "code",
   "execution_count": null,
   "id": "f38ad2db",
   "metadata": {},
   "outputs": [],
   "source": [
    "print (\"Tupla Mixta\") \n",
    "mixta = (1, \"hola\", True, 2.5)\n",
    "print (mixta)\n",
    "print (type(mixta))"
   ]
  },
  {
   "cell_type": "markdown",
   "id": "c2f639cc",
   "metadata": {},
   "source": [
    "### Tuplas vacia"
   ]
  },
  {
   "cell_type": "code",
   "execution_count": null,
   "id": "717a0d72",
   "metadata": {},
   "outputs": [],
   "source": [
    "print (\"Tupla vacia\")\n",
    "vacia = ()\n",
    "print (vacia)\n",
    "print (type(vacia))"
   ]
  },
  {
   "cell_type": "markdown",
   "id": "95e1e01e",
   "metadata": {},
   "source": [
    "### Tupla con un solo elemento"
   ]
  },
  {
   "cell_type": "code",
   "execution_count": 11,
   "id": "b87e7b8c",
   "metadata": {},
   "outputs": [
    {
     "name": "stdout",
     "output_type": "stream",
     "text": [
      "Tupla de un solo elemento\n",
      "(1,)\n",
      "<class 'tuple'>\n"
     ]
    }
   ],
   "source": [
    "print (\"Tupla de un solo elemento\")\n",
    "uno = (1,)\n",
    "print (uno)\n",
    "print (type(uno))"
   ]
  },
  {
   "cell_type": "markdown",
   "id": "4ee69b79",
   "metadata": {},
   "source": [
    "### Tupla de una cadena\n"
   ]
  },
  {
   "cell_type": "code",
   "execution_count": 12,
   "id": "12c8926a",
   "metadata": {},
   "outputs": [
    {
     "name": "stdout",
     "output_type": "stream",
     "text": [
      "Tupla utilizando la función tuple()\n",
      "('h', 'o', 'l', 'a')\n",
      "<class 'tuple'>\n"
     ]
    }
   ],
   "source": [
    "print (\"Tupla utilizando la función tuple()\")\n",
    "constructor = tuple(\"hola\")\n",
    "print (constructor)\n",
    "print (type(constructor))"
   ]
  },
  {
   "cell_type": "markdown",
   "id": "2d6368a5",
   "metadata": {},
   "source": [
    "* Acceso a indices positivos *"
   ]
  },
  {
   "cell_type": "code",
   "execution_count": 13,
   "id": "65ba47de",
   "metadata": {},
   "outputs": [
    {
     "name": "stdout",
     "output_type": "stream",
     "text": [
      "Indexado positivo de una tupla\n",
      "1 <class 'int'>\n",
      "2.0 <class 'float'>\n",
      "hola <class 'str'>\n",
      "True <class 'bool'>\n"
     ]
    }
   ],
   "source": [
    "print (\"Indexado positivo de una tupla\")\n",
    "tupla = (1,2.0, \"hola\", True)\n",
    "print (tupla[0], type(tupla[0]))\n",
    "print (tupla[1], type(tupla[1]))\n",
    "print (tupla[2], type(tupla[2]))\n",
    "print (tupla[3], type(tupla[3]))"
   ]
  },
  {
   "cell_type": "markdown",
   "id": "e9d5193e",
   "metadata": {},
   "source": [
    "### Acceso utilizando índices negativos"
   ]
  },
  {
   "cell_type": "code",
   "execution_count": 14,
   "id": "fc29709a",
   "metadata": {},
   "outputs": [
    {
     "name": "stdout",
     "output_type": "stream",
     "text": [
      "Indexado negativo de una tupla\n",
      "True <class 'bool'>\n",
      "hola <class 'str'>\n",
      "2.0 <class 'float'>\n",
      "1 <class 'int'>\n"
     ]
    }
   ],
   "source": [
    "print (\"Indexado negativo de una tupla\")\n",
    "tupla = (1,2.0, \"hola\", True)\n",
    "print (tupla[-1], type(tupla[-1]))\n",
    "print (tupla[-2], type(tupla[-2]))\n",
    "print (tupla[-3], type(tupla[-3]))\n",
    "print (tupla[-4], type(tupla[-4]))"
   ]
  },
  {
   "cell_type": "markdown",
   "id": "d75fa4aa",
   "metadata": {},
   "source": [
    "### Slicing\n",
    "tupla[inicio:fin:paso]"
   ]
  },
  {
   "cell_type": "code",
   "execution_count": 15,
   "id": "419a597b",
   "metadata": {},
   "outputs": [
    {
     "name": "stdout",
     "output_type": "stream",
     "text": [
      "Slicing de una tupla\n",
      "(0, 1, 2, 3, 4, 5, 6, 7, 8, 9, 10)\n",
      "(0, 1, 2, 3, 4)\n",
      "<class 'tuple'>\n"
     ]
    }
   ],
   "source": [
    "print (\"Slicing de una tupla\")\n",
    "tupla = (0,1,2,3,4,5,6,7,8,9,10)\n",
    "print (tupla)\n",
    "sub_tupla = tupla[0:5]\n",
    "print (sub_tupla)\n",
    "print (type(sub_tupla))"
   ]
  },
  {
   "cell_type": "markdown",
   "id": "2a732c7c",
   "metadata": {},
   "source": [
    "### Slicing con paso positivo"
   ]
  },
  {
   "cell_type": "code",
   "execution_count": 16,
   "id": "13e2adac",
   "metadata": {},
   "outputs": [
    {
     "name": "stdout",
     "output_type": "stream",
     "text": [
      "Slicing de una tupla con saltos\n",
      "(0, 1, 2, 3, 4, 5, 6, 7, 8, 9, 10)\n",
      "(0, 2, 4, 6, 8)\n",
      "<class 'tuple'>\n"
     ]
    }
   ],
   "source": [
    "print (\"Slicing de una tupla con saltos\")\n",
    "tupla = (0,1,2,3,4,5,6,7,8,9,10)\n",
    "print (tupla)\n",
    "sub_tupla = tupla[0:10:2]\n",
    "print (sub_tupla)\n",
    "print (type(sub_tupla))\n"
   ]
  },
  {
   "cell_type": "markdown",
   "id": "b27160c1",
   "metadata": {},
   "source": [
    "### Slicing con paso negativo"
   ]
  },
  {
   "cell_type": "code",
   "execution_count": 17,
   "id": "dd42d66b",
   "metadata": {},
   "outputs": [
    {
     "name": "stdout",
     "output_type": "stream",
     "text": [
      "Slicing de una tupla con saltos negativos\n",
      "(0, 1, 2, 3, 4, 5, 6, 7, 8, 9, 10)\n",
      "(7, 5, 3)\n",
      "<class 'tuple'>\n"
     ]
    }
   ],
   "source": [
    "print (\"Slicing de una tupla con saltos negativos\")\n",
    "tupla = (0,1,2,3,4,5,6,7,8,9,10)\n",
    "print (tupla)\n",
    "sub_tupla = tupla[7:2:-2]\n",
    "print (sub_tupla)\n",
    "print (type(sub_tupla))"
   ]
  },
  {
   "cell_type": "markdown",
   "id": "839be8f8",
   "metadata": {},
   "source": [
    "### Concatenación de tuplas"
   ]
  },
  {
   "cell_type": "code",
   "execution_count": 18,
   "id": "5c0eba6e",
   "metadata": {},
   "outputs": [
    {
     "name": "stdout",
     "output_type": "stream",
     "text": [
      "Concatenación de tuplas\n",
      "(1, 2, 3) (4, 5, 6)\n",
      "(1, 2, 3, 4, 5, 6)\n",
      "<class 'tuple'>\n"
     ]
    }
   ],
   "source": [
    "print (\"Concatenación de tuplas\")\n",
    "tupla1 = (1,2,3)\n",
    "tupla2 = (4,5,6)\n",
    "concatenar = tupla1 + tupla2\n",
    "print (tupla1, tupla2)\n",
    "print (concatenar)\n",
    "print (type(concatenar))"
   ]
  },
  {
   "cell_type": "markdown",
   "id": "da1e7ded",
   "metadata": {},
   "source": [
    "### Repetición de tuplas"
   ]
  },
  {
   "cell_type": "code",
   "execution_count": 19,
   "id": "32f7e930",
   "metadata": {},
   "outputs": [
    {
     "name": "stdout",
     "output_type": "stream",
     "text": [
      "Repetición de tuplas\n",
      "(1, 2, 3)\n",
      "(1, 2, 3, 1, 2, 3, 1, 2, 3)\n",
      "<class 'tuple'>\n"
     ]
    }
   ],
   "source": [
    "print (\"Repetición de tuplas\")\n",
    "tupla = (1,2,3)\n",
    "repetir = tupla * 3\n",
    "print (tupla)\n",
    "print (repetir)\n",
    "print (type(repetir))"
   ]
  },
  {
   "cell_type": "markdown",
   "id": "8042e0e2",
   "metadata": {},
   "source": [
    "### Asignación múltipla de valores"
   ]
  },
  {
   "cell_type": "code",
   "execution_count": 20,
   "id": "8699c56b",
   "metadata": {},
   "outputs": [
    {
     "name": "stdout",
     "output_type": "stream",
     "text": [
      "Asignación múltiple\n",
      "('Jhon', 'Doe', 22, 1.75)\n",
      "Jhon\n",
      "Doe\n",
      "22\n",
      "1.75\n"
     ]
    }
   ],
   "source": [
    "print (\"Asignación múltiple\")\n",
    "persona = (\"Jhon\", \"Doe\", 22, 1.75)\n",
    "nombre, apellido, edad, estatura = persona\n",
    "print (persona)\n",
    "print (nombre)\n",
    "print (apellido)\n",
    "print (edad)\n",
    "print (estatura)"
   ]
  },
  {
   "cell_type": "markdown",
   "id": "2c263e43",
   "metadata": {},
   "source": [
    "## Metodo de las tuplas\n",
    "Las tuplas son inmutables, no tienen métodos que modifiquen su contenido\n",
    "\n",
    "Solo tienen dos métodos\n",
    "\n",
    "count()\n",
    "index()\n",
    "Se llama a los métodos utilizando la notación con punto\n",
    "\n",
    "tupla.metodo()"
   ]
  },
  {
   "cell_type": "markdown",
   "id": "d7dab0f8",
   "metadata": {},
   "source": [
    "**index()**recibe un valor y devuelve el índice de la primera aparición de ese valor\n",
    "\n",
    "Si el valor no existe en la tupla, se genera un error"
   ]
  },
  {
   "cell_type": "code",
   "execution_count": 21,
   "id": "41ef5db5",
   "metadata": {},
   "outputs": [
    {
     "name": "stdout",
     "output_type": "stream",
     "text": [
      "Método index(valor)\n",
      "1\n",
      "2\n"
     ]
    }
   ],
   "source": [
    "print (\"Método index(valor)\")\n",
    "tupla = (1,2.0, \"hola\", True)\n",
    "print (tupla.index(2.0))\n",
    "print (tupla.index(\"hola\"))"
   ]
  },
  {
   "cell_type": "markdown",
   "id": "a706a332",
   "metadata": {},
   "source": [
    "**count()** recibe un valor y devuelve el número de veces que aparece en la tupla"
   ]
  },
  {
   "cell_type": "code",
   "execution_count": 22,
   "id": "d4d7e8ec",
   "metadata": {},
   "outputs": [
    {
     "name": "stdout",
     "output_type": "stream",
     "text": [
      "Método count(valor)\n",
      "1\n",
      "2\n",
      "0\n"
     ]
    }
   ],
   "source": [
    "print (\"Método count(valor)\")\n",
    "tupla = (1, 2.0, \"hola\", False, \"hola\", \"HOLA\")\n",
    "print (tupla.count(1))\n",
    "print (tupla.count(\"hola\"))\n",
    "print (tupla.count(10))"
   ]
  },
  {
   "cell_type": "markdown",
   "id": "50418c1c",
   "metadata": {},
   "source": [
    "### Funciones con tuplas\n",
    "Las tuplas interactúan con funciones propias de Python estas son las más importantes\n",
    "\n",
    "len()\n",
    "max()\n",
    "min()\n",
    "sum()"
   ]
  },
  {
   "cell_type": "markdown",
   "id": "26abfc7b",
   "metadata": {},
   "source": [
    "**len()** devuelve la longitud de la tupla"
   ]
  },
  {
   "cell_type": "code",
   "execution_count": 32,
   "id": "d97e69fd",
   "metadata": {},
   "outputs": [
    {
     "name": "stdout",
     "output_type": "stream",
     "text": [
      "Función len()\n",
      "(1, 2.0, 'hola', True)\n",
      "4\n"
     ]
    }
   ],
   "source": [
    "print (\"Función len()\")\n",
    "tupla = (1,2.0, \"hola\", True)\n",
    "longitud = len(tupla)\n",
    "print (tupla)\n",
    "print (longitud)"
   ]
  },
  {
   "cell_type": "markdown",
   "id": "1e9416d2",
   "metadata": {},
   "source": [
    "**max()**devuelve el valor máximo de la tupla, se debe asegurar que los elementos sean comparables entre sí"
   ]
  },
  {
   "cell_type": "code",
   "execution_count": 33,
   "id": "edf6a02e",
   "metadata": {},
   "outputs": [
    {
     "name": "stdout",
     "output_type": "stream",
     "text": [
      "Función max()\n",
      "(1, 2, 10, 5, 8, 0)\n",
      "10\n"
     ]
    }
   ],
   "source": [
    "print (\"Función max()\")\n",
    "tupla = (1,2,10,5,8,0)\n",
    "maximo = max(tupla)\n",
    "print (tupla)\n",
    "print (maximo)"
   ]
  },
  {
   "cell_type": "markdown",
   "id": "d4ad2c32",
   "metadata": {},
   "source": [
    "**min()** devuelve el valor mínimo de la tupla, se debe asegurar que los elementos sean comparables entre sí"
   ]
  },
  {
   "cell_type": "code",
   "execution_count": 34,
   "id": "0af332ea",
   "metadata": {},
   "outputs": [
    {
     "name": "stdout",
     "output_type": "stream",
     "text": [
      "Función min()\n",
      "('a', 'z', 'c', 'b', 'f', 'd')\n",
      "a\n"
     ]
    }
   ],
   "source": [
    "print (\"Función min()\")\n",
    "tupla = (\"a\",\"z\",\"c\",\"b\",\"f\",\"d\")\n",
    "minimo = min(tupla)\n",
    "print (tupla)\n",
    "print (minimo)"
   ]
  },
  {
   "cell_type": "markdown",
   "id": "39a56191",
   "metadata": {},
   "source": [
    "**sum()** devuelve la suma de los elementos de la tupla\n",
    "\n",
    "Se debe asegurar que los elementos sean numéricos"
   ]
  },
  {
   "cell_type": "code",
   "execution_count": 35,
   "id": "20fb74c9",
   "metadata": {},
   "outputs": [
    {
     "name": "stdout",
     "output_type": "stream",
     "text": [
      "Función sum()\n",
      "(1.0, 0.5, 2.5, 3.1)\n",
      "7.1\n"
     ]
    }
   ],
   "source": [
    "print (\"Función sum()\")\n",
    "tupla = (1.0, 0.5, 2.5, 3.1)\n",
    "suma = sum(tupla)\n",
    "print (tupla)\n",
    "print (suma)"
   ]
  },
  {
   "cell_type": "markdown",
   "id": "f1b4c89e",
   "metadata": {},
   "source": [
    "### Tuplas Anidadas\n",
    "Una tupla puede contener otras tuplas como elementos"
   ]
  },
  {
   "cell_type": "code",
   "execution_count": 36,
   "id": "9bb22bbe",
   "metadata": {},
   "outputs": [
    {
     "name": "stdout",
     "output_type": "stream",
     "text": [
      "Tuplas anidadas\n",
      "(1, 2, 3, (4, 5, 6))\n",
      "(1, 2, 3, (4, 5, 6)) <class 'tuple'>\n",
      "(4, 5, 6) <class 'tuple'>\n",
      "4 <class 'int'>\n"
     ]
    }
   ],
   "source": [
    "print (\"Tuplas anidadas\")\n",
    "tupla = (1,2,3, (4,5,6))\n",
    "print (tupla)\n",
    "print (tupla, type(tupla))\n",
    "print (tupla[3], type(tupla[3]))\n",
    "print (tupla[3][0], type(tupla[3][0]))\n"
   ]
  },
  {
   "cell_type": "code",
   "execution_count": 37,
   "id": "4ed8e652",
   "metadata": {},
   "outputs": [
    {
     "name": "stdout",
     "output_type": "stream",
     "text": [
      "Tuplas anidadas\n",
      "(1, 2, 3, (4, 5, 6)) <class 'tuple'>\n",
      "(4, 5, 6) <class 'tuple'>\n",
      "4 <class 'int'>\n",
      "5 <class 'int'>\n"
     ]
    }
   ],
   "source": [
    "print (\"Tuplas anidadas\")\n",
    "tupla = (1,2,3, (4,5,6))\n",
    "print (tupla, type(tupla))\n",
    "anidado = tupla[3]\n",
    "print (anidado, type(anidado))\n",
    "valor_anidado_0 = anidado[0]\n",
    "print (valor_anidado_0, type(valor_anidado_0))\n",
    "valor_anidado_1 = tupla[3][1]\n",
    "print (valor_anidado_1, type(valor_anidado_1))\n"
   ]
  }
 ],
 "metadata": {
  "kernelspec": {
   "display_name": "Python 3",
   "language": "python",
   "name": "python3"
  },
  "language_info": {
   "codemirror_mode": {
    "name": "ipython",
    "version": 3
   },
   "file_extension": ".py",
   "mimetype": "text/x-python",
   "name": "python",
   "nbconvert_exporter": "python",
   "pygments_lexer": "ipython3",
   "version": "3.10.4"
  }
 },
 "nbformat": 4,
 "nbformat_minor": 5
}
